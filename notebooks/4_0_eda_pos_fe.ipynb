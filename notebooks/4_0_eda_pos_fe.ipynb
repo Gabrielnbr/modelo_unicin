{
 "cells": [
  {
   "cell_type": "markdown",
   "metadata": {},
   "source": [
    "# 0 Imports"
   ]
  },
  {
   "cell_type": "code",
   "execution_count": 8,
   "metadata": {},
   "outputs": [],
   "source": [
    "import pickle\n",
    "\n",
    "import numpy as np\n",
    "import pandas as pd\n",
    "import seaborn as sns\n",
    "\n",
    "from matplotlib import pyplot as plt\n",
    "from prophet    import Prophet\n",
    "\n",
    "from IPython.display        import Image\n",
    "from IPython.core.display   import HTML"
   ]
  },
  {
   "cell_type": "code",
   "execution_count": 9,
   "metadata": {},
   "outputs": [],
   "source": [
    "# Supressão da notação científica.\n",
    "np.set_printoptions(suppress=True)\n",
    "pd.set_option('display.float_format', '{:.6f}'.format)"
   ]
  },
  {
   "cell_type": "markdown",
   "metadata": {},
   "source": [
    "## 0.1 Funções Suporte"
   ]
  },
  {
   "cell_type": "code",
   "execution_count": 10,
   "metadata": {},
   "outputs": [
    {
     "name": "stdout",
     "output_type": "stream",
     "text": [
      "%pylab is deprecated, use %matplotlib inline and import the required libraries.\n",
      "Populating the interactive namespace from numpy and matplotlib\n"
     ]
    },
    {
     "data": {
      "text/html": [
       "<style>.container { width: 100% !important;} </style>"
      ],
      "text/plain": [
       "<IPython.core.display.HTML object>"
      ]
     },
     "metadata": {},
     "output_type": "display_data"
    }
   ],
   "source": [
    "def jupyter_settings():\n",
    "    %matplotlib inline\n",
    "    %pylab inline\n",
    "    \n",
    "    plt.style.use( 'bmh' )\n",
    "    plt.rcParams['figure.figsize'] = [12,6]\n",
    "    plt.rcParams['font.size'] = 20\n",
    "    \n",
    "    display( HTML('<style>.container { width: 100% !important;} </style>') )\n",
    "    pd.options.display.max_columns = None\n",
    "    pd.options.display.max_rows = None\n",
    "    pd.set_option( 'display.expand_frame_repr', False)\n",
    "    \n",
    "    sns.set()\n",
    "    \n",
    "jupyter_settings()"
   ]
  },
  {
   "cell_type": "markdown",
   "metadata": {},
   "source": [
    "## 0.2 Load Data"
   ]
  },
  {
   "cell_type": "code",
   "execution_count": 11,
   "metadata": {},
   "outputs": [
    {
     "data": {
      "text/html": [
       "<div>\n",
       "<style scoped>\n",
       "    .dataframe tbody tr th:only-of-type {\n",
       "        vertical-align: middle;\n",
       "    }\n",
       "\n",
       "    .dataframe tbody tr th {\n",
       "        vertical-align: top;\n",
       "    }\n",
       "\n",
       "    .dataframe thead th {\n",
       "        text-align: right;\n",
       "    }\n",
       "</style>\n",
       "<table border=\"1\" class=\"dataframe\">\n",
       "  <thead>\n",
       "    <tr style=\"text-align: right;\">\n",
       "      <th></th>\n",
       "      <th>subscription_name</th>\n",
       "      <th>subscription_guid</th>\n",
       "      <th>date</th>\n",
       "      <th>resource_guid</th>\n",
       "      <th>service_name</th>\n",
       "      <th>service_type</th>\n",
       "      <th>service_region</th>\n",
       "      <th>service_resource</th>\n",
       "      <th>quantity</th>\n",
       "      <th>cost</th>\n",
       "      <th>maquina</th>\n",
       "      <th>year</th>\n",
       "      <th>month</th>\n",
       "      <th>day</th>\n",
       "      <th>week_of_year</th>\n",
       "      <th>year_week</th>\n",
       "      <th>year_month</th>\n",
       "      <th>dia_da_semana</th>\n",
       "      <th>fim_de_semana</th>\n",
       "      <th>custo_diario</th>\n",
       "    </tr>\n",
       "  </thead>\n",
       "  <tbody>\n",
       "    <tr>\n",
       "      <th>46489</th>\n",
       "      <td>Microsoft Azure Sponsorship</td>\n",
       "      <td>15dc64f3-696a-48fc-9169-8467e3f7bba0</td>\n",
       "      <td>2023-04-30</td>\n",
       "      <td>42e2a22f-fabf-41ea-a21e-e86bb3ff5799</td>\n",
       "      <td>Storage</td>\n",
       "      <td>Standard Page Blob</td>\n",
       "      <td>All</td>\n",
       "      <td>Disk Read Operations</td>\n",
       "      <td>0.288400</td>\n",
       "      <td>0.000096</td>\n",
       "      <td>unicin</td>\n",
       "      <td>2023</td>\n",
       "      <td>4</td>\n",
       "      <td>30</td>\n",
       "      <td>17</td>\n",
       "      <td>2023-17</td>\n",
       "      <td>2023-04</td>\n",
       "      <td>6</td>\n",
       "      <td>1</td>\n",
       "      <td>5.090174</td>\n",
       "    </tr>\n",
       "    <tr>\n",
       "      <th>27246</th>\n",
       "      <td>Microsoft Azure Sponsorship</td>\n",
       "      <td>82375e17-0dda-4790-b6e8-c565d4f08e87</td>\n",
       "      <td>2023-09-30</td>\n",
       "      <td>42e2a22f-fabf-41ea-a21e-e86bb3ff5799</td>\n",
       "      <td>Storage</td>\n",
       "      <td>Standard Page Blob</td>\n",
       "      <td>All</td>\n",
       "      <td>Disk Read Operations</td>\n",
       "      <td>0.288400</td>\n",
       "      <td>0.000096</td>\n",
       "      <td>portal</td>\n",
       "      <td>2023</td>\n",
       "      <td>9</td>\n",
       "      <td>30</td>\n",
       "      <td>39</td>\n",
       "      <td>2023-39</td>\n",
       "      <td>2023-09</td>\n",
       "      <td>5</td>\n",
       "      <td>1</td>\n",
       "      <td>6.163489</td>\n",
       "    </tr>\n",
       "  </tbody>\n",
       "</table>\n",
       "</div>"
      ],
      "text/plain": [
       "                 subscription_name                     subscription_guid       date                         resource_guid service_name        service_type service_region      service_resource  quantity     cost maquina  year  month  day  week_of_year year_week year_month  dia_da_semana  fim_de_semana  custo_diario\n",
       "46489  Microsoft Azure Sponsorship  15dc64f3-696a-48fc-9169-8467e3f7bba0 2023-04-30  42e2a22f-fabf-41ea-a21e-e86bb3ff5799      Storage  Standard Page Blob            All  Disk Read Operations  0.288400 0.000096  unicin  2023      4   30            17   2023-17    2023-04              6              1      5.090174\n",
       "27246  Microsoft Azure Sponsorship  82375e17-0dda-4790-b6e8-c565d4f08e87 2023-09-30  42e2a22f-fabf-41ea-a21e-e86bb3ff5799      Storage  Standard Page Blob            All  Disk Read Operations  0.288400 0.000096  portal  2023      9   30            39   2023-39    2023-09              5              1      6.163489"
      ]
     },
     "execution_count": 11,
     "metadata": {},
     "output_type": "execute_result"
    }
   ],
   "source": [
    "with open('../data/interim/3_0_feature_engineering.pkl', 'rb') as arquivo:\n",
    "    df = pickle.load(arquivo)\n",
    "df.sample(2)"
   ]
  },
  {
   "cell_type": "markdown",
   "metadata": {},
   "source": [
    "# 4.0 EDA pós F.E."
   ]
  },
  {
   "cell_type": "markdown",
   "metadata": {},
   "source": [
    "## 4.1 Entendimento de Negócio"
   ]
  },
  {
   "cell_type": "markdown",
   "metadata": {},
   "source": [
    "### 4.1.1 Premissas\n",
    "\n",
    "O valor"
   ]
  },
  {
   "cell_type": "markdown",
   "metadata": {},
   "source": [
    "## 4.2 Análise Univariada"
   ]
  },
  {
   "cell_type": "code",
   "execution_count": null,
   "metadata": {},
   "outputs": [],
   "source": []
  },
  {
   "cell_type": "markdown",
   "metadata": {},
   "source": [
    "## 4.3 Análise Bivariada"
   ]
  },
  {
   "cell_type": "code",
   "execution_count": null,
   "metadata": {},
   "outputs": [],
   "source": []
  },
  {
   "cell_type": "markdown",
   "metadata": {},
   "source": [
    "## 4.4 Análise Multivariada"
   ]
  },
  {
   "cell_type": "code",
   "execution_count": null,
   "metadata": {},
   "outputs": [],
   "source": []
  }
 ],
 "metadata": {
  "kernelspec": {
   "display_name": "Python 3.11.9 ('v3119')",
   "language": "python",
   "name": "python3"
  },
  "language_info": {
   "codemirror_mode": {
    "name": "ipython",
    "version": 3
   },
   "file_extension": ".py",
   "mimetype": "text/x-python",
   "name": "python",
   "nbconvert_exporter": "python",
   "pygments_lexer": "ipython3",
   "version": "3.11.9"
  },
  "orig_nbformat": 4,
  "vscode": {
   "interpreter": {
    "hash": "d9fd945bec87ea1faae53cf0492201e0c2959d8565ad017415241cf5b171a17a"
   }
  }
 },
 "nbformat": 4,
 "nbformat_minor": 2
}
