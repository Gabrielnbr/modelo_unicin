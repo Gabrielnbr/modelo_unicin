{
 "cells": [
  {
   "cell_type": "markdown",
   "metadata": {},
   "source": [
    "# 0 Imports"
   ]
  },
  {
   "cell_type": "code",
   "execution_count": 1,
   "metadata": {},
   "outputs": [],
   "source": [
    "import pickle\n",
    "\n",
    "import numpy as np\n",
    "import pandas as pd\n",
    "import seaborn as sns\n",
    "\n",
    "from matplotlib import pyplot as plt\n",
    "from prophet    import Prophet\n",
    "\n",
    "from IPython.display        import Image\n",
    "from IPython.core.display   import HTML"
   ]
  },
  {
   "cell_type": "code",
   "execution_count": 2,
   "metadata": {},
   "outputs": [],
   "source": [
    "# Supressão da notação científica.\n",
    "np.set_printoptions(suppress=True)\n",
    "pd.set_option('display.float_format', '{:.6f}'.format)"
   ]
  },
  {
   "cell_type": "markdown",
   "metadata": {},
   "source": [
    "## 0.1 Funções Suporte"
   ]
  },
  {
   "cell_type": "code",
   "execution_count": 25,
   "metadata": {},
   "outputs": [
    {
     "name": "stdout",
     "output_type": "stream",
     "text": [
      "%pylab is deprecated, use %matplotlib inline and import the required libraries.\n",
      "Populating the interactive namespace from numpy and matplotlib\n"
     ]
    },
    {
     "data": {
      "text/html": [
       "<style>.container { width: 100% !important;} </style>"
      ],
      "text/plain": [
       "<IPython.core.display.HTML object>"
      ]
     },
     "metadata": {},
     "output_type": "display_data"
    }
   ],
   "source": [
    "def jupyter_settings():\n",
    "    %matplotlib inline\n",
    "    %pylab inline\n",
    "    \n",
    "    plt.style.use( 'bmh' )\n",
    "    plt.rcParams['figure.figsize'] = [18,8]\n",
    "    plt.rcParams['font.size'] = 14\n",
    "    \n",
    "    display( HTML('<style>.container { width: 100% !important;} </style>') )\n",
    "    pd.options.display.max_columns = None\n",
    "    pd.options.display.max_rows = None\n",
    "    pd.set_option( 'display.expand_frame_repr', False)\n",
    "    \n",
    "    sns.set()\n",
    "    \n",
    "jupyter_settings()"
   ]
  },
  {
   "cell_type": "code",
   "execution_count": 4,
   "metadata": {},
   "outputs": [],
   "source": [
    "def abrir_arquivo()-> pd.DataFrame:\n",
    "    with open(f\"{__CAMINHO_INTERIM}{__NOME_ARQUIVO_IMPORTAR}\",\"rb\") as arquivo:\n",
    "        df = pickle.load(arquivo)\n",
    "    return df"
   ]
  },
  {
   "cell_type": "code",
   "execution_count": 5,
   "metadata": {},
   "outputs": [],
   "source": [
    "def visualizacao_dados_categoricos(df):\n",
    "    for i in df:\n",
    "        print(f'Atributo: {i}') \n",
    "        print(f'Valores Únicos: {len(df[i].sort_values().unique())}')\n",
    "        print(f'Valores Descritos: {df[i].sort_values().unique().tolist()}\\n')"
   ]
  },
  {
   "cell_type": "code",
   "execution_count": 6,
   "metadata": {},
   "outputs": [],
   "source": [
    "def estatistica_descritiva(df1):\n",
    "    # Medidas de tendência central - Mean, Median\n",
    "    media = pd.DataFrame(df1.apply(np.mean)).T\n",
    "    mediana = pd.DataFrame(df1.apply(np.median)).T\n",
    "    \n",
    "    # Medidas de Dispersão - Std, min, max, range, skew, kurtosis\n",
    "    desvio_padrao = pd.DataFrame(df1.apply(np.std)).T\n",
    "    minimo = pd.DataFrame(df1.apply(np.min)).T\n",
    "    maximo = pd.DataFrame(df1.apply(np.max)).T\n",
    "    range = pd.DataFrame(df1.apply(lambda x : x.max() - x.min())).T\n",
    "    assimetria = pd.DataFrame(df1.apply(lambda x : x.skew())).T\n",
    "    curtosis = pd.DataFrame(df1.apply(lambda x : x.kurtosis())).T\n",
    "    \n",
    "    estatistica = pd.concat([minimo, maximo, range, media, mediana, desvio_padrao, assimetria, curtosis]).T.reset_index()\n",
    "    estatistica.columns = ['variaveis','minimo', 'maximo', 'range', 'media', 'mediana', 'desvio_padrao', 'assimetria', 'curtosis']\n",
    "    \n",
    "    return estatistica"
   ]
  },
  {
   "cell_type": "markdown",
   "metadata": {},
   "source": [
    "## 0.2 Load Data"
   ]
  },
  {
   "cell_type": "code",
   "execution_count": 10,
   "metadata": {},
   "outputs": [],
   "source": [
    "__CAMINHO_RAW = '../data/raw/'\n",
    "__CAMINHO_INTERIM = '../data/interim/'\n",
    "\n",
    "__NOME_ARQUIVO_IMPORTAR = '3_0_feature_engineering.pkl'\n",
    "#__NOME_ARQUIVO_EXPORTAR ="
   ]
  },
  {
   "cell_type": "code",
   "execution_count": null,
   "metadata": {},
   "outputs": [],
   "source": [
    "df = abrir_arquivo()"
   ]
  },
  {
   "cell_type": "markdown",
   "metadata": {},
   "source": [
    "## 0.3 Observações Gerais da Base de Dados"
   ]
  },
  {
   "cell_type": "code",
   "execution_count": 32,
   "metadata": {},
   "outputs": [
    {
     "name": "stdout",
     "output_type": "stream",
     "text": [
      "<class 'pandas.core.frame.DataFrame'>\n",
      "RangeIndex: 57733 entries, 0 to 57732\n",
      "Data columns (total 23 columns):\n",
      " #   Column                    Non-Null Count  Dtype         \n",
      "---  ------                    --------------  -----         \n",
      " 0   subscription_guid         57733 non-null  object        \n",
      " 1   date                      57733 non-null  datetime64[ns]\n",
      " 2   resource_guid             57733 non-null  object        \n",
      " 3   service_name              57733 non-null  object        \n",
      " 4   service_type              57733 non-null  object        \n",
      " 5   service_region            57733 non-null  object        \n",
      " 6   service_resource          57733 non-null  object        \n",
      " 7   quantity                  57733 non-null  float64       \n",
      " 8   cost                      57733 non-null  float64       \n",
      " 9   maquina                   57733 non-null  object        \n",
      " 10  ano                       57733 non-null  int32         \n",
      " 11  mes                       57733 non-null  int32         \n",
      " 12  dia                       57733 non-null  int32         \n",
      " 13  semana_ano                57733 non-null  UInt32        \n",
      " 14  ano_semana                57733 non-null  object        \n",
      " 15  ano_mes                   57733 non-null  object        \n",
      " 16  dia_da_semana             57733 non-null  int32         \n",
      " 17  fim_de_semana             57733 non-null  int64         \n",
      " 18  custo_fixo_diario         57733 non-null  float64       \n",
      " 19  custo_fixo_semanal        57733 non-null  float64       \n",
      " 20  custo_fixo_mensal         57733 non-null  float64       \n",
      " 21  custo_soma_movel_semanal  57733 non-null  float64       \n",
      " 22  custo_soma_movel_mensal   57733 non-null  float64       \n",
      "dtypes: UInt32(1), datetime64[ns](1), float64(7), int32(4), int64(1), object(9)\n",
      "memory usage: 9.1+ MB\n"
     ]
    }
   ],
   "source": [
    "df.info()"
   ]
  },
  {
   "cell_type": "code",
   "execution_count": 12,
   "metadata": {},
   "outputs": [
    {
     "data": {
      "text/html": [
       "<div>\n",
       "<style scoped>\n",
       "    .dataframe tbody tr th:only-of-type {\n",
       "        vertical-align: middle;\n",
       "    }\n",
       "\n",
       "    .dataframe tbody tr th {\n",
       "        vertical-align: top;\n",
       "    }\n",
       "\n",
       "    .dataframe thead th {\n",
       "        text-align: right;\n",
       "    }\n",
       "</style>\n",
       "<table border=\"1\" class=\"dataframe\">\n",
       "  <thead>\n",
       "    <tr style=\"text-align: right;\">\n",
       "      <th></th>\n",
       "      <th>subscription_guid</th>\n",
       "      <th>date</th>\n",
       "      <th>resource_guid</th>\n",
       "      <th>service_name</th>\n",
       "      <th>service_type</th>\n",
       "      <th>service_region</th>\n",
       "      <th>service_resource</th>\n",
       "      <th>quantity</th>\n",
       "      <th>cost</th>\n",
       "      <th>maquina</th>\n",
       "      <th>ano</th>\n",
       "      <th>mes</th>\n",
       "      <th>dia</th>\n",
       "      <th>semana_ano</th>\n",
       "      <th>ano_semana</th>\n",
       "      <th>ano_mes</th>\n",
       "      <th>dia_da_semana</th>\n",
       "      <th>fim_de_semana</th>\n",
       "      <th>custo_fixo_diario</th>\n",
       "      <th>custo_fixo_semanal</th>\n",
       "      <th>custo_fixo_mensal</th>\n",
       "      <th>custo_soma_movel_semanal</th>\n",
       "      <th>custo_soma_movel_mensal</th>\n",
       "    </tr>\n",
       "  </thead>\n",
       "  <tbody>\n",
       "    <tr>\n",
       "      <th>57728</th>\n",
       "      <td>15dc64f3_696a_48fc_9169_8467e3f7bba0</td>\n",
       "      <td>2024-10-31</td>\n",
       "      <td>e53063d5_dd23_4bdf_a1df_cdfe862d01ab</td>\n",
       "      <td>Storage</td>\n",
       "      <td>Standard SSD Managed Disks</td>\n",
       "      <td>BR South</td>\n",
       "      <td>E3 LRS Disk</td>\n",
       "      <td>0.034944</td>\n",
       "      <td>0.078286</td>\n",
       "      <td>unicin</td>\n",
       "      <td>2024</td>\n",
       "      <td>10</td>\n",
       "      <td>31</td>\n",
       "      <td>44</td>\n",
       "      <td>2024-44</td>\n",
       "      <td>2024-10</td>\n",
       "      <td>3</td>\n",
       "      <td>0</td>\n",
       "      <td>2.758325</td>\n",
       "      <td>18.769080</td>\n",
       "      <td>170.831834</td>\n",
       "      <td>34.837048</td>\n",
       "      <td>165.533815</td>\n",
       "    </tr>\n",
       "    <tr>\n",
       "      <th>57729</th>\n",
       "      <td>15dc64f3_696a_48fc_9169_8467e3f7bba0</td>\n",
       "      <td>2024-10-31</td>\n",
       "      <td>2f2a1523_d8af_5cea_9b91_d0285e17e343</td>\n",
       "      <td>Backup</td>\n",
       "      <td>All</td>\n",
       "      <td>BR South</td>\n",
       "      <td>Azure VM Protected Instances</td>\n",
       "      <td>0.008064</td>\n",
       "      <td>0.080640</td>\n",
       "      <td>unicin</td>\n",
       "      <td>2024</td>\n",
       "      <td>10</td>\n",
       "      <td>31</td>\n",
       "      <td>44</td>\n",
       "      <td>2024-44</td>\n",
       "      <td>2024-10</td>\n",
       "      <td>3</td>\n",
       "      <td>0</td>\n",
       "      <td>2.758325</td>\n",
       "      <td>18.769080</td>\n",
       "      <td>170.831834</td>\n",
       "      <td>34.837048</td>\n",
       "      <td>165.533815</td>\n",
       "    </tr>\n",
       "    <tr>\n",
       "      <th>57730</th>\n",
       "      <td>15dc64f3_696a_48fc_9169_8467e3f7bba0</td>\n",
       "      <td>2024-10-31</td>\n",
       "      <td>2dba9884_2518_4427_90ff_d2c100c5f775</td>\n",
       "      <td>Storage</td>\n",
       "      <td>Standard SSD Managed Disks</td>\n",
       "      <td>BR South</td>\n",
       "      <td>E6 LRS Disk</td>\n",
       "      <td>0.017472</td>\n",
       "      <td>0.156546</td>\n",
       "      <td>unicin</td>\n",
       "      <td>2024</td>\n",
       "      <td>10</td>\n",
       "      <td>31</td>\n",
       "      <td>44</td>\n",
       "      <td>2024-44</td>\n",
       "      <td>2024-10</td>\n",
       "      <td>3</td>\n",
       "      <td>0</td>\n",
       "      <td>2.758325</td>\n",
       "      <td>18.769080</td>\n",
       "      <td>170.831834</td>\n",
       "      <td>34.837048</td>\n",
       "      <td>165.533815</td>\n",
       "    </tr>\n",
       "    <tr>\n",
       "      <th>57731</th>\n",
       "      <td>15dc64f3_696a_48fc_9169_8467e3f7bba0</td>\n",
       "      <td>2024-10-31</td>\n",
       "      <td>8dbc6497_3d3a_47d6_9de4_dd42072fad66</td>\n",
       "      <td>Storage</td>\n",
       "      <td>Standard Page Blob</td>\n",
       "      <td>BR South</td>\n",
       "      <td>LRS Data Stored</td>\n",
       "      <td>0.000676</td>\n",
       "      <td>0.000078</td>\n",
       "      <td>unicin</td>\n",
       "      <td>2024</td>\n",
       "      <td>10</td>\n",
       "      <td>31</td>\n",
       "      <td>44</td>\n",
       "      <td>2024-44</td>\n",
       "      <td>2024-10</td>\n",
       "      <td>3</td>\n",
       "      <td>0</td>\n",
       "      <td>2.758325</td>\n",
       "      <td>18.769080</td>\n",
       "      <td>170.831834</td>\n",
       "      <td>34.837048</td>\n",
       "      <td>165.533815</td>\n",
       "    </tr>\n",
       "    <tr>\n",
       "      <th>57732</th>\n",
       "      <td>15dc64f3_696a_48fc_9169_8467e3f7bba0</td>\n",
       "      <td>2024-10-31</td>\n",
       "      <td>40551b4c_e8be_48ed_b70b_f8d25c7de724</td>\n",
       "      <td>Storage</td>\n",
       "      <td>General Block Blob</td>\n",
       "      <td>All</td>\n",
       "      <td>Read Operations</td>\n",
       "      <td>0.000800</td>\n",
       "      <td>0.000000</td>\n",
       "      <td>unicin</td>\n",
       "      <td>2024</td>\n",
       "      <td>10</td>\n",
       "      <td>31</td>\n",
       "      <td>44</td>\n",
       "      <td>2024-44</td>\n",
       "      <td>2024-10</td>\n",
       "      <td>3</td>\n",
       "      <td>0</td>\n",
       "      <td>2.758325</td>\n",
       "      <td>18.769080</td>\n",
       "      <td>170.831834</td>\n",
       "      <td>34.837048</td>\n",
       "      <td>165.533815</td>\n",
       "    </tr>\n",
       "  </tbody>\n",
       "</table>\n",
       "</div>"
      ],
      "text/plain": [
       "                          subscription_guid       date                         resource_guid service_name                service_type service_region              service_resource  quantity     cost maquina   ano  mes  dia  semana_ano ano_semana  ano_mes  dia_da_semana  fim_de_semana  custo_fixo_diario  custo_fixo_semanal  custo_fixo_mensal  custo_soma_movel_semanal  custo_soma_movel_mensal\n",
       "57728  15dc64f3_696a_48fc_9169_8467e3f7bba0 2024-10-31  e53063d5_dd23_4bdf_a1df_cdfe862d01ab      Storage  Standard SSD Managed Disks       BR South                   E3 LRS Disk  0.034944 0.078286  unicin  2024   10   31          44    2024-44  2024-10              3              0           2.758325           18.769080         170.831834                 34.837048               165.533815\n",
       "57729  15dc64f3_696a_48fc_9169_8467e3f7bba0 2024-10-31  2f2a1523_d8af_5cea_9b91_d0285e17e343       Backup                         All       BR South  Azure VM Protected Instances  0.008064 0.080640  unicin  2024   10   31          44    2024-44  2024-10              3              0           2.758325           18.769080         170.831834                 34.837048               165.533815\n",
       "57730  15dc64f3_696a_48fc_9169_8467e3f7bba0 2024-10-31  2dba9884_2518_4427_90ff_d2c100c5f775      Storage  Standard SSD Managed Disks       BR South                   E6 LRS Disk  0.017472 0.156546  unicin  2024   10   31          44    2024-44  2024-10              3              0           2.758325           18.769080         170.831834                 34.837048               165.533815\n",
       "57731  15dc64f3_696a_48fc_9169_8467e3f7bba0 2024-10-31  8dbc6497_3d3a_47d6_9de4_dd42072fad66      Storage          Standard Page Blob       BR South               LRS Data Stored  0.000676 0.000078  unicin  2024   10   31          44    2024-44  2024-10              3              0           2.758325           18.769080         170.831834                 34.837048               165.533815\n",
       "57732  15dc64f3_696a_48fc_9169_8467e3f7bba0 2024-10-31  40551b4c_e8be_48ed_b70b_f8d25c7de724      Storage          General Block Blob            All               Read Operations  0.000800 0.000000  unicin  2024   10   31          44    2024-44  2024-10              3              0           2.758325           18.769080         170.831834                 34.837048               165.533815"
      ]
     },
     "execution_count": 12,
     "metadata": {},
     "output_type": "execute_result"
    }
   ],
   "source": [
    "df.tail(5)"
   ]
  },
  {
   "cell_type": "markdown",
   "metadata": {},
   "source": [
    "# 4.0 EDA pós F.E."
   ]
  },
  {
   "cell_type": "markdown",
   "metadata": {},
   "source": [
    "## 4.1 Entendimento de Negócio"
   ]
  },
  {
   "cell_type": "markdown",
   "metadata": {},
   "source": [
    "### Informações/Premissas do negócio\n",
    "\n",
    "'maquina' UNICIN - renovação de contrato: 12 Mar 2025 - Mais estável na sua utilização sem ocilação de teste. Dados mais reais e confiáveis. Ação: Pode ser trabalhado.\n",
    "\n",
    "'maquina' CEAEC - renovação de contrato: 07 Jan 2025 - Estável na sua utilização atual, com algumas ocilações de testes e inputs propositais. Possui variação, mas ainda confiáveis. Ação: Pode ser trabalhado, mas tome cuidado com variações extremas e recorra ao negócio quando for necessário.\n",
    "\n",
    "'maquina' PORTAL (Editares) - renovação de contrato: 08 Sep 2025 - Ainda em fase de testes e montagem dos serviços. Possui alto grau de variação e os dados não representam a característica mais próximo do normal de comportamento devido a fase de multiplos testes e  montagem dos serviços. Ação: Após fase de teste (Novembro/2024), possivemente em 01/01/2025 já posso começar a trabalhar.\n",
    "\n",
    "Sobre a máquina PORTAL: lembrar que do dia 2024-09-08 ao dia 2024-09-19 o ['service_name'] == 'Functions' deve ficar sob vigia, pois foi um engano na utilização da máquina. Possivelmente todos os dados anteriores a Novembro ou Dezembro de 2024 serão \"descartados\" para fins de treinamento de modelo.\n",
    "\n",
    "\n",
    "Normalmente, os créditos são disponibilizados 30 dias antes."
   ]
  },
  {
   "cell_type": "markdown",
   "metadata": {},
   "source": [
    "## 4.2 Análise Univariada"
   ]
  },
  {
   "cell_type": "code",
   "execution_count": 19,
   "metadata": {},
   "outputs": [],
   "source": [
    "df_numerico = df.select_dtypes(include=['int64', 'int32', 'float64'])\n",
    "df_categorico = df.select_dtypes(exclude=['int64', 'int32', 'float64','datetime64[ns]'])"
   ]
  },
  {
   "cell_type": "markdown",
   "metadata": {},
   "source": [
    "### 4.2.1 Numéricos"
   ]
  },
  {
   "cell_type": "code",
   "execution_count": 20,
   "metadata": {},
   "outputs": [
    {
     "data": {
      "text/html": [
       "<div>\n",
       "<style scoped>\n",
       "    .dataframe tbody tr th:only-of-type {\n",
       "        vertical-align: middle;\n",
       "    }\n",
       "\n",
       "    .dataframe tbody tr th {\n",
       "        vertical-align: top;\n",
       "    }\n",
       "\n",
       "    .dataframe thead th {\n",
       "        text-align: right;\n",
       "    }\n",
       "</style>\n",
       "<table border=\"1\" class=\"dataframe\">\n",
       "  <thead>\n",
       "    <tr style=\"text-align: right;\">\n",
       "      <th></th>\n",
       "      <th>variaveis</th>\n",
       "      <th>minimo</th>\n",
       "      <th>maximo</th>\n",
       "      <th>range</th>\n",
       "      <th>media</th>\n",
       "      <th>mediana</th>\n",
       "      <th>desvio_padrao</th>\n",
       "      <th>assimetria</th>\n",
       "      <th>curtosis</th>\n",
       "    </tr>\n",
       "  </thead>\n",
       "  <tbody>\n",
       "    <tr>\n",
       "      <th>0</th>\n",
       "      <td>quantity</td>\n",
       "      <td>0.000000</td>\n",
       "      <td>832.332400</td>\n",
       "      <td>832.332400</td>\n",
       "      <td>8.022273</td>\n",
       "      <td>0.071424</td>\n",
       "      <td>26.548001</td>\n",
       "      <td>8.571524</td>\n",
       "      <td>120.965305</td>\n",
       "    </tr>\n",
       "    <tr>\n",
       "      <th>1</th>\n",
       "      <td>cost</td>\n",
       "      <td>0.000000</td>\n",
       "      <td>14.386982</td>\n",
       "      <td>14.386982</td>\n",
       "      <td>0.350476</td>\n",
       "      <td>0.012164</td>\n",
       "      <td>0.766197</td>\n",
       "      <td>3.395670</td>\n",
       "      <td>21.777083</td>\n",
       "    </tr>\n",
       "    <tr>\n",
       "      <th>2</th>\n",
       "      <td>ano</td>\n",
       "      <td>2021.000000</td>\n",
       "      <td>2024.000000</td>\n",
       "      <td>3.000000</td>\n",
       "      <td>2022.738901</td>\n",
       "      <td>2023.000000</td>\n",
       "      <td>0.934523</td>\n",
       "      <td>-0.043518</td>\n",
       "      <td>-1.039700</td>\n",
       "    </tr>\n",
       "    <tr>\n",
       "      <th>3</th>\n",
       "      <td>mes</td>\n",
       "      <td>1.000000</td>\n",
       "      <td>12.000000</td>\n",
       "      <td>11.000000</td>\n",
       "      <td>6.872517</td>\n",
       "      <td>7.000000</td>\n",
       "      <td>3.459958</td>\n",
       "      <td>-0.154946</td>\n",
       "      <td>-1.200894</td>\n",
       "    </tr>\n",
       "    <tr>\n",
       "      <th>4</th>\n",
       "      <td>dia</td>\n",
       "      <td>1.000000</td>\n",
       "      <td>31.000000</td>\n",
       "      <td>30.000000</td>\n",
       "      <td>15.827257</td>\n",
       "      <td>16.000000</td>\n",
       "      <td>8.770667</td>\n",
       "      <td>-0.008353</td>\n",
       "      <td>-1.183632</td>\n",
       "    </tr>\n",
       "    <tr>\n",
       "      <th>5</th>\n",
       "      <td>dia_da_semana</td>\n",
       "      <td>0.000000</td>\n",
       "      <td>6.000000</td>\n",
       "      <td>6.000000</td>\n",
       "      <td>2.993037</td>\n",
       "      <td>3.000000</td>\n",
       "      <td>2.000005</td>\n",
       "      <td>0.005443</td>\n",
       "      <td>-1.249314</td>\n",
       "    </tr>\n",
       "    <tr>\n",
       "      <th>6</th>\n",
       "      <td>fim_de_semana</td>\n",
       "      <td>0.000000</td>\n",
       "      <td>1.000000</td>\n",
       "      <td>1.000000</td>\n",
       "      <td>0.284413</td>\n",
       "      <td>0.000000</td>\n",
       "      <td>0.451134</td>\n",
       "      <td>0.955781</td>\n",
       "      <td>-1.086520</td>\n",
       "    </tr>\n",
       "    <tr>\n",
       "      <th>7</th>\n",
       "      <td>custo_fixo_diario</td>\n",
       "      <td>0.662484</td>\n",
       "      <td>27.567188</td>\n",
       "      <td>26.904704</td>\n",
       "      <td>8.382521</td>\n",
       "      <td>8.634676</td>\n",
       "      <td>2.439409</td>\n",
       "      <td>1.900951</td>\n",
       "      <td>11.319124</td>\n",
       "    </tr>\n",
       "    <tr>\n",
       "      <th>8</th>\n",
       "      <td>custo_fixo_semanal</td>\n",
       "      <td>4.897755</td>\n",
       "      <td>179.141964</td>\n",
       "      <td>174.244209</td>\n",
       "      <td>58.203012</td>\n",
       "      <td>60.438798</td>\n",
       "      <td>16.742619</td>\n",
       "      <td>1.485495</td>\n",
       "      <td>8.647996</td>\n",
       "    </tr>\n",
       "    <tr>\n",
       "      <th>9</th>\n",
       "      <td>custo_fixo_mensal</td>\n",
       "      <td>53.427584</td>\n",
       "      <td>410.306254</td>\n",
       "      <td>356.878670</td>\n",
       "      <td>249.929355</td>\n",
       "      <td>264.421509</td>\n",
       "      <td>65.596460</td>\n",
       "      <td>-0.001510</td>\n",
       "      <td>-0.020484</td>\n",
       "    </tr>\n",
       "    <tr>\n",
       "      <th>10</th>\n",
       "      <td>custo_soma_movel_semanal</td>\n",
       "      <td>4.664638</td>\n",
       "      <td>186.275209</td>\n",
       "      <td>181.610571</td>\n",
       "      <td>58.403005</td>\n",
       "      <td>60.546193</td>\n",
       "      <td>16.342298</td>\n",
       "      <td>1.390310</td>\n",
       "      <td>7.723205</td>\n",
       "    </tr>\n",
       "    <tr>\n",
       "      <th>11</th>\n",
       "      <td>custo_soma_movel_mensal</td>\n",
       "      <td>6.318983</td>\n",
       "      <td>477.272289</td>\n",
       "      <td>470.953306</td>\n",
       "      <td>245.759831</td>\n",
       "      <td>259.050159</td>\n",
       "      <td>66.731481</td>\n",
       "      <td>-0.036055</td>\n",
       "      <td>1.118336</td>\n",
       "    </tr>\n",
       "  </tbody>\n",
       "</table>\n",
       "</div>"
      ],
      "text/plain": [
       "                   variaveis      minimo      maximo      range       media     mediana  desvio_padrao  assimetria   curtosis\n",
       "0                   quantity    0.000000  832.332400 832.332400    8.022273    0.071424      26.548001    8.571524 120.965305\n",
       "1                       cost    0.000000   14.386982  14.386982    0.350476    0.012164       0.766197    3.395670  21.777083\n",
       "2                        ano 2021.000000 2024.000000   3.000000 2022.738901 2023.000000       0.934523   -0.043518  -1.039700\n",
       "3                        mes    1.000000   12.000000  11.000000    6.872517    7.000000       3.459958   -0.154946  -1.200894\n",
       "4                        dia    1.000000   31.000000  30.000000   15.827257   16.000000       8.770667   -0.008353  -1.183632\n",
       "5              dia_da_semana    0.000000    6.000000   6.000000    2.993037    3.000000       2.000005    0.005443  -1.249314\n",
       "6              fim_de_semana    0.000000    1.000000   1.000000    0.284413    0.000000       0.451134    0.955781  -1.086520\n",
       "7          custo_fixo_diario    0.662484   27.567188  26.904704    8.382521    8.634676       2.439409    1.900951  11.319124\n",
       "8         custo_fixo_semanal    4.897755  179.141964 174.244209   58.203012   60.438798      16.742619    1.485495   8.647996\n",
       "9          custo_fixo_mensal   53.427584  410.306254 356.878670  249.929355  264.421509      65.596460   -0.001510  -0.020484\n",
       "10  custo_soma_movel_semanal    4.664638  186.275209 181.610571   58.403005   60.546193      16.342298    1.390310   7.723205\n",
       "11   custo_soma_movel_mensal    6.318983  477.272289 470.953306  245.759831  259.050159      66.731481   -0.036055   1.118336"
      ]
     },
     "execution_count": 20,
     "metadata": {},
     "output_type": "execute_result"
    }
   ],
   "source": [
    "estatistica_descritiva(df_numerico)"
   ]
  },
  {
   "cell_type": "code",
   "execution_count": 31,
   "metadata": {},
   "outputs": [
    {
     "data": {
      "image/png": "[encoded data removed]",
      "text/plain": [
       "<Figure size 1800x800 with 12 Axes>"
      ]
     },
     "metadata": {},
     "output_type": "display_data"
    }
   ],
   "source": [
    "df_numerico.hist();"
   ]
  },
  {
   "cell_type": "markdown",
   "metadata": {},
   "source": [
    "### 4.2.2 Categóricos"
   ]
  },
  {
   "cell_type": "code",
   "execution_count": 27,
   "metadata": {},
   "outputs": [
    {
     "name": "stdout",
     "output_type": "stream",
     "text": [
      "Atributo: subscription_guid\n",
      "Valores Únicos: 3\n",
      "Valores Descritos: ['0b1856f5_ffb1_4fb2_9b31_ebc3ddeacf68', '15dc64f3_696a_48fc_9169_8467e3f7bba0', '82375e17_0dda_4790_b6e8_c565d4f08e87']\n",
      "\n",
      "Atributo: resource_guid\n",
      "Valores Únicos: 86\n",
      "Valores Descritos: ['05212985_faad_4b6c_8ddb_c08cc8e37f79', '0b248445_aa24_4fe8_a794_a174929327bd', '0b608a26_f611_4232_8192_ce81b6b57194', '0ddb5c81_143d_52f8_9ea3_29b64cc0ef97', '0f68ed30_d33d_4b1b_8533_f16ae059f71d', '0f824807_2376_435c_95c9_f992b67a07b0', '0fcb37f3_8a5a_4e81_820e_848908a57e44', '11ecb7d4_b18a_447a_bb0c_f057585fc701', '12da282f_7e96_49e2_983a_9a65da2a4866', '13c2d6a4_7f53_47a9_b6aa_8bb6167ac54d', '17b3fc96_9141_4e25_88f2_b8953f3ca784', '1adb9ebc_c08f_426d_9aa4_8af9de7b6d74', '1b74a37f_45a2_4266_bf07_2764801d0b85', '211e620c_ebcf_4db5_a7fd_996abebe9546', '26ce34b7_67b3_480d_9d1b_54a7fb80f67a', '27426e86_f015_4506_a8cc_26c18688990a', '28339581_90e9_4bde_93d2_a61b4f2a0b5e', '2dba9884_2518_4427_90ff_d2c100c5f775', '2f2a1523_d8af_5cea_9b91_d0285e17e343', '2f718765_8dfc_40cf_a636_b2d7d169d7d2', '334e1296_793b_4bd4_96ed_e82953411ce3', '37a224be_47e1_42bd_b2aa_f08060e965ee', '39edab1a_b691_4088_9bb2_6ffe51d91da4', '3b2bbe89_0295_459e_b5e9_7e43b90318da', '3da19ca3_6007_4a29_89ea_cab10c2010ed', '3f2b1e1c_c886_4ec6_ad6f_dd0ef38819c9', '40551b4c_e8be_48ed_b70b_f8d25c7de724', '416a0a14_9d61_438f_a875_779e7b0e38c3', '42e2a22f_fabf_41ea_a21e_e86bb3ff5799', '43034668_a244_4031_bb4d_be5bcce22c5f', '45459e84_815c_5b78_be46_75f78a824d07', '5101ea73_2a5b_4120_b00e_30c13185e5a5', '546a93ff_42e9_4844_b221_a53ae7524bab', '60e3c37c_1ab8_41f8_891d_047657ae5ef4', '6551548b_7e61_4f51_896e_eb907d256b95', '69147946_58dc_4ede_890a_815890b4ba03', '6a99015c_d33f_4f46_ae59_2e4d14091aa8', '6db4a779_0d75_481a_af26_026ccf5795c8', '73ad5336_6f64_4263_9537_1d571874dac6', '761abab8_259d_4206_a6ae_707ed03fc540', '82b5adb9_7503_4970_98cb_1d8537c51056', '82cd70ab_1aee_4b30_bc04_8b71e1204dbc', '839c4a20_9584_42af_a885_2798d1f027ba', '8d099b7b_bce4_4fd4_bcc3_95d867d84332', '8dbc6497_3d3a_47d6_9de4_dd42072fad66', '8f967c58_b144_4bd7_8882_8bf02767c839', '923978e1_fd3f_4bd5_a798_f4b533057e46', '92f6f16a_1e67_4a1d_8271_9d9498d609a1', '95eca2c1_9519_4c55_baa1_9a0e0b201e25', '97452b97_ca28_499c_b86e_c4910b80a75d', '9995d93a_7d35_4d3f_9c69_7a7fea447ef4', '9be71924_a8d1_40a5_a065_2ac0c5d69a07', '9c150bf9_2bad_430e_a53c_c213804f49ef', '9cb0bde8_bc0d_468c_8423_a25fe06779d3', 'a10dad63_7382_402b_b8a8_3aa68b93677f', 'a97f31a2_0fb1_4d64_bb43_a2399dd31f0b', 'aa932d74_52b8_4ce3_944b_079512ab0f4a', 'ac2340a7_812b_4fb4_981f_a4701844be2e', 'ae331802_83a5_4b9e_b287_85675f794e3d', 'b0931109_47c5_42e9_a548_00adac804b4b', 'b9e5e77c_a0b3_4a2c_9b8b_57fa54f31c52', 'beb1457b_1ab8_4e38_8021_bf7e39b1014b', 'c01a1eed_b19a_4aad_bb83_8d62cdc29778', 'c089a13a_9dd0_44b5_aa9e_44a77bbd6788', 'c0f5cb45_6fb1_41c9_8545_72ad400d9da4', 'c52a982d_f2ca_46c2_9e2a_06dae03a531d', 'c80a3636_2edb_4248_bcb1_04ef818a75ac', 'cbe92596_7f61_5f48_ba3d_d624aa141eaf', 'cc44d8d6_484a_41f0_87cd_7e1496651906', 'cd4cfb51_f027_4d88_89d0_80e78795f00e', 'ce957933_8287_4f8b_83ee_53a5cbe056d9', 'd10d7086_9771_4cfa_b049_3287c97c5f1d', 'd23a5753_ff85_4ddf_af28_8cc5cf2d3882', 'd54686f0_77ff_43f3_9e7c_2099030d32a7', 'dbefcfc1_e3f6_409b_be6d_9cd7b00724a5', 'e07fca8f_2362_4b83_99c2_05adfa84adbd', 'e1115bb5_8d79_4530_93c9_a1c947d03837', 'e53063d5_dd23_4bdf_a1df_cdfe862d01ab', 'e53c4e1b_4859_4305_8749_d8ea4980ab9f', 'e6ab7238_e433_4fe0_a2b2_2b2564df2cdb', 'ed8a651a_e0a3_4de6_a8ae_3b4ce8cb72cf', 'f114cb19_ea64_40b5_bcd7_aee474b62853', 'f1fcf7da_9502_4a86_bfe7_9c2646efa203', 'f8c187bb_5a47_46ae_b874_f186d207fff4', 'f90f81d2_238a_49d0_9f1b_9df13a859843', 'fec1d8d1_cc81_4d54_a391_83e228df4928']\n",
      "\n",
      "Atributo: service_name\n",
      "Valores Únicos: 15\n",
      "Valores Descritos: ['Automation', 'Azure App Service', 'Azure DNS', 'Azure Monitor', 'Backup', 'Bandwidth', 'Functions', 'Key Vault', 'Log Analytics', 'Logic Apps', 'Network Watcher', 'Storage', 'Virtual Machines', 'Virtual Machines Licenses', 'Virtual Network']\n",
      "\n",
      "Atributo: service_type\n",
      "Valores Únicos: 24\n",
      "Valores Descritos: ['All', 'BS Series', 'BS Series Windows', 'Basv2 Series', 'Dv3/DSv3 Series', 'Files', 'Files v2', 'Free Plan', 'General Block Blob', 'IP Addresses', 'Inter-Region', 'Premium', 'Premium Page Blob', 'Premium SSD Managed Disks', 'Private Link', 'Process', 'Queues v2', 'SQL Server Azure Hybrid Benefit', 'SQL Server Developer Edition', 'Standard HDD Managed Disks', 'Standard Page Blob', 'Standard SSD Managed Disks', 'Tables', 'Tiered Block Blob']\n",
      "\n",
      "Atributo: service_region\n",
      "Valores Únicos: 7\n",
      "Valores Descritos: ['All', 'BR South', 'Global', 'Intercontinental', 'North America', 'South America', 'US East']\n",
      "\n",
      "Atributo: service_resource\n",
      "Valores Únicos: 62\n",
      "Valores Descritos: ['Alerts System Log Monitored at 5 Minute Frequency', 'All Other Operations', 'Azure VM Protected Instances', 'B2als v2', 'B2ms', 'B2s', 'Basic IPv4 Dynamic Public IP', 'Basic IPv4 Static Public IP', 'Basic Runtime', 'Batch Write Operations', 'Consumption Built-in Actions', 'Consumption Data Retention', 'Consumption Standard Connector Actions', 'D2 v3/D2s v3', 'D4 v3/D4s v3', 'Delete Operations', 'Developer License', 'Disk Read Operations', 'Disk Write Operations', 'E10 LRS Disk', 'E15 LRS Disk', 'E20 LRS Disk', 'E3 LRS Disk', 'E4 LRS Disk', 'E4 LRS Disk Operations', 'E6 LRS Disk', 'F1 App', 'GRS Data Stored', 'Hot ZRS Write Operations', 'Inter Continent Data Transfer In - LATAM To Any', 'Inter Continent Data Transfer Out - LATAM To Any', 'Inter Continent Data Transfer Out - NAM or EU To Any', 'Intra Continent Data Transfer Out', 'LRS Data Stored', 'LRS List and Create Container Operations', 'LRS Write Operations', 'Operations', 'P10 LRS Disk', 'P4 LRS Disk', 'P6 LRS Disk', 'Pay-as-you-go Data Ingestion', 'Premium Memory Duration', 'Premium vCPU Duration', 'Private Zone', 'Protocol Operations', 'Public Queries', 'Public Zone', 'Read Operations', 'S4 LRS Disk Operations', 'Snapshots LRS Snapshots', 'Snapshots ZRS Snapshots', 'Standard Data Transfer Out', 'Standard Diagnostic Tool API', 'Standard Edition License', 'Standard IPv4 Static Public IP', 'Standard Private Endpoint', 'Write Operations', 'ZRS Class 1 Operations', 'ZRS Data Stored', 'ZRS Protocol Operations', 'ZRS Read Operations', 'ZRS Write Operations']\n",
      "\n",
      "Atributo: maquina\n",
      "Valores Únicos: 3\n",
      "Valores Descritos: ['ceaec', 'portal', 'unicin']\n",
      "\n",
      "Atributo: semana_ano\n",
      "Valores Únicos: 52\n",
      "Valores Descritos: [1, 2, 3, 4, 5, 6, 7, 8, 9, 10, 11, 12, 13, 14, 15, 16, 17, 18, 19, 20, 21, 22, 23, 24, 25, 26, 27, 28, 29, 30, 31, 32, 33, 34, 35, 36, 37, 38, 39, 40, 41, 42, 43, 44, 45, 46, 47, 48, 49, 50, 51, 52]\n",
      "\n",
      "Atributo: ano_semana\n",
      "Valores Únicos: 162\n",
      "Valores Descritos: ['2021-41', '2021-42', '2021-43', '2021-44', '2021-45', '2021-46', '2021-47', '2021-48', '2021-49', '2021-50', '2021-51', '2021-52', '2022-00', '2022-01', '2022-02', '2022-03', '2022-04', '2022-05', '2022-06', '2022-07', '2022-08', '2022-09', '2022-10', '2022-11', '2022-12', '2022-13', '2022-14', '2022-15', '2022-16', '2022-17', '2022-18', '2022-19', '2022-20', '2022-21', '2022-22', '2022-23', '2022-24', '2022-25', '2022-26', '2022-27', '2022-28', '2022-29', '2022-30', '2022-31', '2022-32', '2022-33', '2022-34', '2022-35', '2022-36', '2022-37', '2022-38', '2022-39', '2022-40', '2022-41', '2022-42', '2022-43', '2022-44', '2022-45', '2022-46', '2022-47', '2022-48', '2022-49', '2022-50', '2022-51', '2022-52', '2023-00', '2023-01', '2023-02', '2023-03', '2023-04', '2023-05', '2023-06', '2023-07', '2023-08', '2023-09', '2023-10', '2023-11', '2023-12', '2023-13', '2023-14', '2023-15', '2023-16', '2023-17', '2023-18', '2023-19', '2023-20', '2023-21', '2023-22', '2023-23', '2023-24', '2023-25', '2023-26', '2023-27', '2023-28', '2023-29', '2023-30', '2023-31', '2023-32', '2023-33', '2023-34', '2023-35', '2023-36', '2023-37', '2023-38', '2023-39', '2023-40', '2023-41', '2023-42', '2023-43', '2023-44', '2023-45', '2023-46', '2023-47', '2023-48', '2023-49', '2023-50', '2023-51', '2023-52', '2024-01', '2024-02', '2024-03', '2024-04', '2024-05', '2024-06', '2024-07', '2024-08', '2024-09', '2024-10', '2024-11', '2024-12', '2024-13', '2024-14', '2024-15', '2024-16', '2024-17', '2024-18', '2024-19', '2024-20', '2024-21', '2024-22', '2024-23', '2024-24', '2024-25', '2024-26', '2024-27', '2024-28', '2024-29', '2024-30', '2024-31', '2024-32', '2024-33', '2024-34', '2024-35', '2024-36', '2024-37', '2024-38', '2024-39', '2024-40', '2024-41', '2024-42', '2024-43', '2024-44']\n",
      "\n",
      "Atributo: ano_mes\n",
      "Valores Únicos: 37\n",
      "Valores Descritos: ['2021-10', '2021-11', '2021-12', '2022-01', '2022-02', '2022-03', '2022-04', '2022-05', '2022-06', '2022-07', '2022-08', '2022-09', '2022-10', '2022-11', '2022-12', '2023-01', '2023-02', '2023-03', '2023-04', '2023-05', '2023-06', '2023-07', '2023-08', '2023-09', '2023-10', '2023-11', '2023-12', '2024-01', '2024-02', '2024-03', '2024-04', '2024-05', '2024-06', '2024-07', '2024-08', '2024-09', '2024-10']\n",
      "\n"
     ]
    }
   ],
   "source": [
    "visualizacao_dados_categoricos(df_categorico)"
   ]
  },
  {
   "cell_type": "markdown",
   "metadata": {},
   "source": [
    "## 4.3 Análise Bivariada"
   ]
  },
  {
   "cell_type": "code",
   "execution_count": null,
   "metadata": {},
   "outputs": [],
   "source": []
  },
  {
   "cell_type": "markdown",
   "metadata": {},
   "source": [
    "## 4.4 Análise Multivariada"
   ]
  },
  {
   "cell_type": "code",
   "execution_count": null,
   "metadata": {},
   "outputs": [],
   "source": []
  }
 ],
 "metadata": {
  "kernelspec": {
   "display_name": "Python 3.11.9 ('v3119')",
   "language": "python",
   "name": "python3"
  },
  "language_info": {
   "codemirror_mode": {
    "name": "ipython",
    "version": 3
   },
   "file_extension": ".py",
   "mimetype": "text/x-python",
   "name": "python",
   "nbconvert_exporter": "python",
   "pygments_lexer": "ipython3",
   "version": "3.11.9"
  },
  "orig_nbformat": 4,
  "vscode": {
   "interpreter": {
    "hash": "d9fd945bec87ea1faae53cf0492201e0c2959d8565ad017415241cf5b171a17a"
   }
  }
 },
 "nbformat": 4,
 "nbformat_minor": 2
}
