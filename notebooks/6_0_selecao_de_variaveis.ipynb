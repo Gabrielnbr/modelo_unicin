{
 "cells": [
  {
   "cell_type": "markdown",
   "metadata": {},
   "source": [
    "# 0 Imports"
   ]
  },
  {
   "cell_type": "code",
   "execution_count": 43,
   "metadata": {},
   "outputs": [],
   "source": [
    "import pickle\n",
    "import datetime\n",
    "\n",
    "import numpy as np\n",
    "import pandas as pd\n",
    "import seaborn as sns\n",
    "import plotly.express as px\n",
    "\n",
    "from matplotlib import pyplot as plt\n",
    "\n",
    "from IPython.display        import Image\n",
    "from IPython.core.display   import HTML\n",
    "\n",
    "from sklearn.feature_selection  import RFE\n",
    "from sklearn.linear_model       import LinearRegression\n",
    "from sklearn.model_selection    import cross_val_score\n",
    "from sklearn.metrics            import mean_squared_error\n",
    "from lightgbm                   import LGBMRegressor"
   ]
  },
  {
   "cell_type": "code",
   "execution_count": 2,
   "metadata": {},
   "outputs": [],
   "source": [
    "# Supressão da notação científica.\n",
    "np.set_printoptions(suppress=True)\n",
    "pd.set_option('display.float_format', '{:.6f}'.format)"
   ]
  },
  {
   "cell_type": "markdown",
   "metadata": {},
   "source": [
    "## 0.1 Funções Suporte"
   ]
  },
  {
   "cell_type": "code",
   "execution_count": 3,
   "metadata": {},
   "outputs": [
    {
     "name": "stdout",
     "output_type": "stream",
     "text": [
      "%pylab is deprecated, use %matplotlib inline and import the required libraries.\n",
      "Populating the interactive namespace from numpy and matplotlib\n"
     ]
    },
    {
     "data": {
      "text/html": [
       "<style>.container { width: 100% !important;} </style>"
      ],
      "text/plain": [
       "<IPython.core.display.HTML object>"
      ]
     },
     "metadata": {},
     "output_type": "display_data"
    }
   ],
   "source": [
    "def jupyter_settings():\n",
    "    %matplotlib inline\n",
    "    %pylab inline\n",
    "    \n",
    "    plt.style.use( 'bmh' )\n",
    "    plt.rcParams['figure.figsize'] = [18,8]\n",
    "    plt.rcParams['font.size'] = 14\n",
    "    \n",
    "    display( HTML('<style>.container { width: 100% !important;} </style>') )\n",
    "    pd.options.display.max_columns = None\n",
    "    pd.options.display.max_rows = None\n",
    "    pd.set_option( 'display.expand_frame_repr', False)\n",
    "    \n",
    "    sns.set()\n",
    "    \n",
    "jupyter_settings()"
   ]
  },
  {
   "cell_type": "code",
   "execution_count": 4,
   "metadata": {},
   "outputs": [],
   "source": [
    "def abrir_arquivo()-> pd.DataFrame:\n",
    "    with open(f\"{__CAMINHO_INTERIM}{__NOME_ARQUIVO_IMPORTAR}\",\"rb\") as arquivo:\n",
    "        df = pickle.load(arquivo)\n",
    "    return df"
   ]
  },
  {
   "cell_type": "code",
   "execution_count": 5,
   "metadata": {},
   "outputs": [],
   "source": [
    "def exportar_df(df: pd.DataFrame):\n",
    "    df.to_pickle(f'{__CAMINHO_INTERIM}{__NOME_ARQUIVO_EXPORTAR}')"
   ]
  },
  {
   "cell_type": "markdown",
   "metadata": {},
   "source": [
    "## 0.2 Load Data"
   ]
  },
  {
   "cell_type": "code",
   "execution_count": 6,
   "metadata": {},
   "outputs": [],
   "source": [
    "__CAMINHO_RAW = '../data/raw/'\n",
    "__CAMINHO_INTERIM = '../data/interim/'\n",
    "\n",
    "__NOME_ARQUIVO_IMPORTAR = '5_0_preparacao_dados.pkl'\n",
    "__NOME_ARQUIVO_EXPORTAR = '6_0_selecao_vars.pkl'"
   ]
  },
  {
   "cell_type": "markdown",
   "metadata": {},
   "source": [
    "# 6.0 Seleção de Variáveis"
   ]
  },
  {
   "cell_type": "code",
   "execution_count": 26,
   "metadata": {},
   "outputs": [],
   "source": [
    "df = abrir_arquivo()"
   ]
  },
  {
   "cell_type": "code",
   "execution_count": 27,
   "metadata": {},
   "outputs": [
    {
     "name": "stdout",
     "output_type": "stream",
     "text": [
      "<class 'pandas.core.frame.DataFrame'>\n",
      "Index: 6947 entries, 52365 to 59311\n",
      "Data columns (total 29 columns):\n",
      " #   Column                    Non-Null Count  Dtype         \n",
      "---  ------                    --------------  -----         \n",
      " 0   date                      6947 non-null   datetime64[ns]\n",
      " 1   resource_guid             6947 non-null   float64       \n",
      " 2   service_name              6947 non-null   float64       \n",
      " 3   service_type              6947 non-null   float64       \n",
      " 4   service_region            6947 non-null   float64       \n",
      " 5   service_resource          6947 non-null   float64       \n",
      " 6   quantity                  6947 non-null   float64       \n",
      " 7   cost                      6947 non-null   float64       \n",
      " 8   ano                       6947 non-null   int32         \n",
      " 9   mes                       6947 non-null   int32         \n",
      " 10  dia                       6947 non-null   int32         \n",
      " 11  semana_ano                6947 non-null   UInt32        \n",
      " 12  ano_semana                6947 non-null   int64         \n",
      " 13  ano_mes                   6947 non-null   int64         \n",
      " 14  dia_da_semana             6947 non-null   int32         \n",
      " 15  fim_de_semana             6947 non-null   int64         \n",
      " 16  custo_fixo_diario         6947 non-null   float64       \n",
      " 17  custo_fixo_semanal        6947 non-null   float64       \n",
      " 18  custo_fixo_mensal         6947 non-null   float64       \n",
      " 19  custo_soma_movel_semanal  6947 non-null   float64       \n",
      " 20  custo_soma_movel_mensal   6947 non-null   float64       \n",
      " 21  mes_sen                   6947 non-null   float64       \n",
      " 22  mes_cos                   6947 non-null   float64       \n",
      " 23  dia_sen                   6947 non-null   float64       \n",
      " 24  dia_cos                   6947 non-null   float64       \n",
      " 25  semana_ano_sen            6947 non-null   float64       \n",
      " 26  semana_ano_cos            6947 non-null   float64       \n",
      " 27  dia_da_semana_sen         6947 non-null   float64       \n",
      " 28  dia_da_semana_cos         6947 non-null   float64       \n",
      "dtypes: UInt32(1), datetime64[ns](1), float64(20), int32(4), int64(3)\n",
      "memory usage: 1.5 MB\n"
     ]
    }
   ],
   "source": [
    "df.info()"
   ]
  },
  {
   "cell_type": "markdown",
   "metadata": {},
   "source": [
    "## 6.1 Train Test"
   ]
  },
  {
   "cell_type": "code",
   "execution_count": 28,
   "metadata": {},
   "outputs": [
    {
     "name": "stdout",
     "output_type": "stream",
     "text": [
      "2024-10-30 00:00:00\n",
      "2023-10-31 00:00:00\n"
     ]
    }
   ],
   "source": [
    "print(df['date'].max())\n",
    "print(df['date'].min())"
   ]
  },
  {
   "cell_type": "code",
   "execution_count": 29,
   "metadata": {},
   "outputs": [
    {
     "name": "stdout",
     "output_type": "stream",
     "text": [
      "2024-09-30 00:00:00\n",
      "2023-10-31 00:00:00\n",
      "2024-10-30 00:00:00\n",
      "2024-10-01 00:00:00\n"
     ]
    }
   ],
   "source": [
    "X_train = df[df['date'] <= '2024-09-30']\n",
    "y_train = X_train['cost']\n",
    "print(X_train['date'].max())\n",
    "print(X_train['date'].min())\n",
    "\n",
    "\n",
    "X_test = df[df['date'] > '2024-09-30']\n",
    "y_test = X_test['cost']\n",
    "print(X_test['date'].max())\n",
    "print(X_test['date'].min()) "
   ]
  },
  {
   "cell_type": "code",
   "execution_count": 30,
   "metadata": {},
   "outputs": [],
   "source": [
    "X_train = X_train.drop(columns=['cost','date'])\n",
    "X_test = X_test.drop(columns=['cost','date'])"
   ]
  },
  {
   "cell_type": "code",
   "execution_count": 36,
   "metadata": {},
   "outputs": [
    {
     "name": "stdout",
     "output_type": "stream",
     "text": [
      "MSE: 0.07491966941452886\n",
      "Features Selecionadas: [ 0  1  2  3  4  5  6  7  9 10 11 14 15]\n"
     ]
    }
   ],
   "source": [
    "# Inicialize o KNN Regressor\n",
    "lr = LinearRegression()\n",
    "\n",
    "# Aplicar RFE para selecionar as melhores features\n",
    "rfe = RFE(estimator=lr)\n",
    "X_train_rfe = rfe.fit_transform(X_train, y_train)\n",
    "X_test_rfe = rfe.transform(X_test)\n",
    "\n",
    "# Treine o modelo e avalie\n",
    "lr.fit(X_train_rfe, y_train)\n",
    "y_pred = lr.predict(X_test_rfe)\n",
    "\n",
    "print(\"MSE:\", mean_squared_error(y_test, y_pred))\n",
    "print(\"Features Selecionadas:\", np.where(rfe.support_)[0])"
   ]
  },
  {
   "cell_type": "code",
   "execution_count": 44,
   "metadata": {},
   "outputs": [
    {
     "name": "stdout",
     "output_type": "stream",
     "text": [
      "[LightGBM] [Info] Auto-choosing row-wise multi-threading, the overhead of testing was 0.000955 seconds.\n",
      "You can set `force_row_wise=true` to remove the overhead.\n",
      "And if memory is not enough, you can set `force_col_wise=true`.\n",
      "[LightGBM] [Info] Total Bins 1443\n",
      "[LightGBM] [Info] Number of data points in the train set: 6377, number of used features: 27\n",
      "[LightGBM] [Info] Start training from score 0.210779\n",
      "Feature ranking\n",
      "                    feature  importance\n",
      "0                  quantity        1199\n",
      "0         custo_fixo_diario         377\n",
      "0              service_name         323\n",
      "0  custo_soma_movel_semanal         220\n",
      "0            service_region         174\n",
      "0   custo_soma_movel_mensal         162\n",
      "0                       dia         107\n",
      "0              service_type          93\n",
      "0                semana_ano          81\n",
      "0                ano_semana          66\n",
      "0        custo_fixo_semanal          46\n",
      "0                   dia_cos          45\n",
      "0                   dia_sen          19\n",
      "0                       mes          17\n",
      "0         custo_fixo_mensal          16\n",
      "0            semana_ano_sen          10\n",
      "0             dia_da_semana           9\n",
      "0         dia_da_semana_sen           9\n",
      "0            semana_ano_cos           7\n",
      "0                   mes_cos           6\n",
      "0         dia_da_semana_cos           5\n",
      "0                   mes_sen           4\n",
      "0          service_resource           4\n",
      "0                       ano           1\n",
      "0             resource_guid           0\n",
      "0                   ano_mes           0\n",
      "0             fim_de_semana           0\n"
     ]
    }
   ],
   "source": [
    "# Crie e treine o modelo LGBMClassifier\n",
    "lgb_model = LGBMRegressor(n_jobs=-1, random_state=42)\n",
    "X_train_sel = X_train\n",
    "lgb_model.fit(X_train_sel, y_train)\n",
    "\n",
    "# Obtenha as importâncias das características do modelo\n",
    "importances = lgb_model.feature_importances_\n",
    "\n",
    "# Ordene as características por importância decrescente\n",
    "indices = np.argsort(importances)[::-1]\n",
    "\n",
    "# Imprima o ranking das características\n",
    "print('Feature ranking')\n",
    "df = pd.DataFrame()\n",
    "\n",
    "for i, j in zip(X_train_sel.columns, importances):\n",
    "    aux = pd.DataFrame({'feature': i, 'importance': j}, index=[0])\n",
    "    df = pd.concat([df, aux], axis=0)\n",
    "\n",
    "print(df.sort_values('importance', ascending=False))"
   ]
  },
  {
   "cell_type": "code",
   "execution_count": 45,
   "metadata": {},
   "outputs": [],
   "source": [
    "from sklearn.ensemble import RandomForestRegressor"
   ]
  },
  {
   "cell_type": "code",
   "execution_count": 46,
   "metadata": {},
   "outputs": [
    {
     "name": "stdout",
     "output_type": "stream",
     "text": [
      "5. Random Forest Feature Importance:\n"
     ]
    },
    {
     "data": {
      "text/html": [
       "<div>\n",
       "<style scoped>\n",
       "    .dataframe tbody tr th:only-of-type {\n",
       "        vertical-align: middle;\n",
       "    }\n",
       "\n",
       "    .dataframe tbody tr th {\n",
       "        vertical-align: top;\n",
       "    }\n",
       "\n",
       "    .dataframe thead th {\n",
       "        text-align: right;\n",
       "    }\n",
       "</style>\n",
       "<table border=\"1\" class=\"dataframe\">\n",
       "  <thead>\n",
       "    <tr style=\"text-align: right;\">\n",
       "      <th></th>\n",
       "      <th>feature</th>\n",
       "      <th>importance</th>\n",
       "    </tr>\n",
       "  </thead>\n",
       "  <tbody>\n",
       "    <tr>\n",
       "      <th>3</th>\n",
       "      <td>service_region</td>\n",
       "      <td>0.423031</td>\n",
       "    </tr>\n",
       "    <tr>\n",
       "      <th>1</th>\n",
       "      <td>service_name</td>\n",
       "      <td>0.308153</td>\n",
       "    </tr>\n",
       "    <tr>\n",
       "      <th>5</th>\n",
       "      <td>quantity</td>\n",
       "      <td>0.212667</td>\n",
       "    </tr>\n",
       "    <tr>\n",
       "      <th>2</th>\n",
       "      <td>service_type</td>\n",
       "      <td>0.044361</td>\n",
       "    </tr>\n",
       "    <tr>\n",
       "      <th>14</th>\n",
       "      <td>custo_fixo_diario</td>\n",
       "      <td>0.010389</td>\n",
       "    </tr>\n",
       "    <tr>\n",
       "      <th>9</th>\n",
       "      <td>semana_ano</td>\n",
       "      <td>0.000635</td>\n",
       "    </tr>\n",
       "    <tr>\n",
       "      <th>24</th>\n",
       "      <td>semana_ano_cos</td>\n",
       "      <td>0.000242</td>\n",
       "    </tr>\n",
       "    <tr>\n",
       "      <th>7</th>\n",
       "      <td>mes</td>\n",
       "      <td>0.000140</td>\n",
       "    </tr>\n",
       "    <tr>\n",
       "      <th>10</th>\n",
       "      <td>ano_semana</td>\n",
       "      <td>0.000087</td>\n",
       "    </tr>\n",
       "    <tr>\n",
       "      <th>20</th>\n",
       "      <td>mes_cos</td>\n",
       "      <td>0.000054</td>\n",
       "    </tr>\n",
       "    <tr>\n",
       "      <th>23</th>\n",
       "      <td>semana_ano_sen</td>\n",
       "      <td>0.000053</td>\n",
       "    </tr>\n",
       "    <tr>\n",
       "      <th>17</th>\n",
       "      <td>custo_soma_movel_semanal</td>\n",
       "      <td>0.000039</td>\n",
       "    </tr>\n",
       "    <tr>\n",
       "      <th>11</th>\n",
       "      <td>ano_mes</td>\n",
       "      <td>0.000036</td>\n",
       "    </tr>\n",
       "    <tr>\n",
       "      <th>6</th>\n",
       "      <td>ano</td>\n",
       "      <td>0.000029</td>\n",
       "    </tr>\n",
       "    <tr>\n",
       "      <th>18</th>\n",
       "      <td>custo_soma_movel_mensal</td>\n",
       "      <td>0.000017</td>\n",
       "    </tr>\n",
       "    <tr>\n",
       "      <th>8</th>\n",
       "      <td>dia</td>\n",
       "      <td>0.000016</td>\n",
       "    </tr>\n",
       "    <tr>\n",
       "      <th>26</th>\n",
       "      <td>dia_da_semana_cos</td>\n",
       "      <td>0.000011</td>\n",
       "    </tr>\n",
       "    <tr>\n",
       "      <th>15</th>\n",
       "      <td>custo_fixo_semanal</td>\n",
       "      <td>0.000008</td>\n",
       "    </tr>\n",
       "    <tr>\n",
       "      <th>16</th>\n",
       "      <td>custo_fixo_mensal</td>\n",
       "      <td>0.000008</td>\n",
       "    </tr>\n",
       "    <tr>\n",
       "      <th>19</th>\n",
       "      <td>mes_sen</td>\n",
       "      <td>0.000006</td>\n",
       "    </tr>\n",
       "    <tr>\n",
       "      <th>21</th>\n",
       "      <td>dia_sen</td>\n",
       "      <td>0.000006</td>\n",
       "    </tr>\n",
       "    <tr>\n",
       "      <th>22</th>\n",
       "      <td>dia_cos</td>\n",
       "      <td>0.000005</td>\n",
       "    </tr>\n",
       "    <tr>\n",
       "      <th>12</th>\n",
       "      <td>dia_da_semana</td>\n",
       "      <td>0.000004</td>\n",
       "    </tr>\n",
       "    <tr>\n",
       "      <th>25</th>\n",
       "      <td>dia_da_semana_sen</td>\n",
       "      <td>0.000003</td>\n",
       "    </tr>\n",
       "    <tr>\n",
       "      <th>13</th>\n",
       "      <td>fim_de_semana</td>\n",
       "      <td>0.000000</td>\n",
       "    </tr>\n",
       "    <tr>\n",
       "      <th>4</th>\n",
       "      <td>service_resource</td>\n",
       "      <td>0.000000</td>\n",
       "    </tr>\n",
       "    <tr>\n",
       "      <th>0</th>\n",
       "      <td>resource_guid</td>\n",
       "      <td>0.000000</td>\n",
       "    </tr>\n",
       "  </tbody>\n",
       "</table>\n",
       "</div>"
      ],
      "text/plain": [
       "                     feature  importance\n",
       "3             service_region    0.423031\n",
       "1               service_name    0.308153\n",
       "5                   quantity    0.212667\n",
       "2               service_type    0.044361\n",
       "14         custo_fixo_diario    0.010389\n",
       "9                 semana_ano    0.000635\n",
       "24            semana_ano_cos    0.000242\n",
       "7                        mes    0.000140\n",
       "10                ano_semana    0.000087\n",
       "20                   mes_cos    0.000054\n",
       "23            semana_ano_sen    0.000053\n",
       "17  custo_soma_movel_semanal    0.000039\n",
       "11                   ano_mes    0.000036\n",
       "6                        ano    0.000029\n",
       "18   custo_soma_movel_mensal    0.000017\n",
       "8                        dia    0.000016\n",
       "26         dia_da_semana_cos    0.000011\n",
       "15        custo_fixo_semanal    0.000008\n",
       "16         custo_fixo_mensal    0.000008\n",
       "19                   mes_sen    0.000006\n",
       "21                   dia_sen    0.000006\n",
       "22                   dia_cos    0.000005\n",
       "12             dia_da_semana    0.000004\n",
       "25         dia_da_semana_sen    0.000003\n",
       "13             fim_de_semana    0.000000\n",
       "4           service_resource    0.000000\n",
       "0              resource_guid    0.000000"
      ]
     },
     "execution_count": 46,
     "metadata": {},
     "output_type": "execute_result"
    }
   ],
   "source": [
    "print(\"\\\n",
    "5. Random Forest Feature Importance:\")\n",
    "rf = RandomForestRegressor(random_state=42)\n",
    "rf.fit(X_train, y_train)\n",
    "rf_importance = pd.DataFrame({\n",
    "    'feature': X_train.columns,\n",
    "    'importance': rf.feature_importances_\n",
    "}).sort_values('importance', ascending=False)\n",
    "rf_importance"
   ]
  },
  {
   "cell_type": "code",
   "execution_count": 48,
   "metadata": {},
   "outputs": [],
   "source": [
    "from boruta import BorutaPy"
   ]
  },
  {
   "cell_type": "code",
   "execution_count": 49,
   "metadata": {},
   "outputs": [],
   "source": [
    "rf = RandomForestRegressor()\n",
    "boruta = BorutaPy( rf, n_estimators = 'auto', verbose=2, random_state=42).fit( X_train, y_train)"
   ]
  }
 ],
 "metadata": {
  "kernelspec": {
   "display_name": "Python 3.11.9 ('v3119')",
   "language": "python",
   "name": "python3"
  },
  "language_info": {
   "codemirror_mode": {
    "name": "ipython",
    "version": 3
   },
   "file_extension": ".py",
   "mimetype": "text/x-python",
   "name": "python",
   "nbconvert_exporter": "python",
   "pygments_lexer": "ipython3",
   "version": "3.11.9"
  },
  "orig_nbformat": 4,
  "vscode": {
   "interpreter": {
    "hash": "d9fd945bec87ea1faae53cf0492201e0c2959d8565ad017415241cf5b171a17a"
   }
  }
 },
 "nbformat": 4,
 "nbformat_minor": 2
}
