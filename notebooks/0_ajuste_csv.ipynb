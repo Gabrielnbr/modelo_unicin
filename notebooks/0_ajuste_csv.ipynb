{
 "cells": [
  {
   "cell_type": "markdown",
   "metadata": {},
   "source": [
    "# Imports"
   ]
  },
  {
   "cell_type": "code",
   "execution_count": 1,
   "metadata": {},
   "outputs": [],
   "source": [
    "import os\n",
    "import pickle\n",
    "import datetime\n",
    "import inflection\n",
    "\n",
    "# import numpy    as np\n",
    "import pandas   as pd\n",
    "# import seaborn  as sns\n",
    "\n",
    "# from matplotlib import pyplot as plt\n",
    "\n",
    "# from IPython.display        import Image\n",
    "# from IPython.core.display   import HTML"
   ]
  },
  {
   "cell_type": "markdown",
   "metadata": {},
   "source": [
    "# Metodos Sup"
   ]
  },
  {
   "cell_type": "markdown",
   "metadata": {},
   "source": [
    "# Load Data"
   ]
  },
  {
   "cell_type": "code",
   "execution_count": 2,
   "metadata": {},
   "outputs": [],
   "source": [
    "caminho = '../data/raw/'\n",
    "arquivos = os.listdir(caminho)\n",
    "lista_arquivos = [arquivo for arquivo in arquivos if arquivo.endswith('.csv')]"
   ]
  },
  {
   "cell_type": "code",
   "execution_count": 3,
   "metadata": {},
   "outputs": [
    {
     "data": {
      "text/plain": [
       "['azure_ceaec_1ano_ceaec.csv',\n",
       " 'azure_ceaec_5_set_5_out.csv',\n",
       " 'azure_editares_1ano.csv',\n",
       " 'azure_editares_5_set_5_out.csv']"
      ]
     },
     "execution_count": 3,
     "metadata": {},
     "output_type": "execute_result"
    }
   ],
   "source": [
    "lista_arquivos"
   ]
  },
  {
   "cell_type": "code",
   "execution_count": 14,
   "metadata": {},
   "outputs": [],
   "source": [
    "dfs = pd.DataFrame()\n",
    "for arquivo in lista_arquivos:\n",
    "    \n",
    "    df = pd.read_csv( os.path.join( caminho, arquivo ) )\n",
    "    maquina = arquivo.split('_')[1]\n",
    "    df['maquina'] = maquina\n",
    "    \n",
    "    df = renomear_colunas(df)\n",
    "    df = mundaca_tipo_date(df)\n",
    "    \n",
    "    if dfs.empty:\n",
    "        dfs = df\n",
    "    else:\n",
    "        if maquina in dfs['maquina'].values:\n",
    "            \n",
    "            date = dfs.loc[dfs['maquina'] == maquina, 'date']\n",
    "            filtro = date.max()\n",
    "            df = df.loc[df['date'] > filtro]\n",
    "    \n",
    "    dfs = pd.concat([dfs,df], ignore_index=True)\n",
    "\n",
    "#df.drop_duplicates(inplace=True)"
   ]
  },
  {
   "cell_type": "code",
   "execution_count": 10,
   "metadata": {},
   "outputs": [
    {
     "data": {
      "text/plain": [
       "(21720, 11)"
      ]
     },
     "execution_count": 10,
     "metadata": {},
     "output_type": "execute_result"
    }
   ],
   "source": [
    "dfs.shape"
   ]
  },
  {
   "cell_type": "code",
   "execution_count": 5,
   "metadata": {},
   "outputs": [],
   "source": [
    "def renomear_colunas(df):\n",
    "    \n",
    "    columns_old = df.columns\n",
    "    snakecase = lambda x : inflection.underscore(x)\n",
    "    columns_new = list(map(snakecase,columns_old))\n",
    "    df.columns = columns_new\n",
    "    \n",
    "    return df"
   ]
  },
  {
   "cell_type": "code",
   "execution_count": 6,
   "metadata": {},
   "outputs": [],
   "source": [
    "def mundaca_tipo_date(df: pd.DataFrame)-> pd.DataFrame:\n",
    "    \n",
    "    df['date'] = pd.to_datetime( df['date'] )\n",
    "    \n",
    "    return df"
   ]
  },
  {
   "cell_type": "markdown",
   "metadata": {},
   "source": [
    "# Tratamento"
   ]
  },
  {
   "cell_type": "code",
   "execution_count": null,
   "metadata": {},
   "outputs": [],
   "source": []
  },
  {
   "cell_type": "markdown",
   "metadata": {},
   "source": [
    "# Export Data"
   ]
  },
  {
   "cell_type": "code",
   "execution_count": null,
   "metadata": {},
   "outputs": [],
   "source": []
  },
  {
   "cell_type": "code",
   "execution_count": 11,
   "metadata": {},
   "outputs": [],
   "source": [
    "ceaec = pickle.load(open(\"../src/data/processed/2_0_eda_ceaec.pkl\",\"rb\"))\n",
    "portal = pickle.load(open(\"../src/data/processed/2_0_eda_portal.pkl\",\"rb\"))\n",
    "ceaec_2 = pickle.load(open(\"../src/data/processed/2_0_eda_ceaec_2.pkl\",\"rb\"))\n",
    "portal_2 = pickle.load(open(\"../src/data/processed/2_0_eda_portal_2.pkl\",\"rb\"))"
   ]
  },
  {
   "cell_type": "code",
   "execution_count": 12,
   "metadata": {},
   "outputs": [],
   "source": [
    "portal['maquina'] = \"Portal\"\n",
    "ceaec['maquina'] = \"CEAEC\"\n",
    "portal_2['maquina'] = \"Portal\"\n",
    "ceaec_2['maquina'] = \"CEAEC\"\n",
    "\n",
    "filtro_ceaec = ceaec['date'].max()\n",
    "ceaec_filter = ceaec_2.loc[ceaec_2['date'] > filtro_ceaec]\n",
    "\n",
    "filtro_portal = portal['date'].max()\n",
    "portal_filter = portal_2.loc[portal_2['date'] > filtro_portal]\n",
    "\n",
    "df_pronto_1 = pd.concat([portal,ceaec], ignore_index=True)\n",
    "df_pronto_2 = pd.concat([portal_filter,ceaec_filter], ignore_index=True)\n",
    "df_pronto_final = pd.concat([df_pronto_1,df_pronto_2], ignore_index=True)"
   ]
  },
  {
   "cell_type": "code",
   "execution_count": 13,
   "metadata": {},
   "outputs": [
    {
     "data": {
      "text/plain": [
       "(13515, 18)"
      ]
     },
     "execution_count": 13,
     "metadata": {},
     "output_type": "execute_result"
    }
   ],
   "source": [
    "df_pronto_final.shape"
   ]
  },
  {
   "cell_type": "code",
   "execution_count": null,
   "metadata": {},
   "outputs": [],
   "source": []
  }
 ],
 "metadata": {
  "kernelspec": {
   "display_name": "Python 3.11.9 ('v3119')",
   "language": "python",
   "name": "python3"
  },
  "language_info": {
   "codemirror_mode": {
    "name": "ipython",
    "version": 3
   },
   "file_extension": ".py",
   "mimetype": "text/x-python",
   "name": "python",
   "nbconvert_exporter": "python",
   "pygments_lexer": "ipython3",
   "version": "3.11.9"
  },
  "orig_nbformat": 4,
  "vscode": {
   "interpreter": {
    "hash": "d9fd945bec87ea1faae53cf0492201e0c2959d8565ad017415241cf5b171a17a"
   }
  }
 },
 "nbformat": 4,
 "nbformat_minor": 2
}
