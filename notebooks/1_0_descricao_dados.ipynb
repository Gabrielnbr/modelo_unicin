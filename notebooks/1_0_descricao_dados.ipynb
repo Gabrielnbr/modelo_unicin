{
 "cells": [
  {
   "cell_type": "markdown",
   "metadata": {},
   "source": [
    "# 0 Imports"
   ]
  },
  {
   "cell_type": "code",
   "execution_count": 12,
   "metadata": {},
   "outputs": [],
   "source": [
    "import pickle\n",
    "import datetime\n",
    "import inflection\n",
    "\n",
    "import numpy    as np\n",
    "import pandas   as pd\n",
    "import seaborn  as sns\n",
    "\n",
    "from matplotlib import pyplot as plt\n",
    "\n",
    "from IPython.display        import Image\n",
    "from IPython.core.display   import HTML"
   ]
  },
  {
   "cell_type": "markdown",
   "metadata": {},
   "source": [
    "## 0.1 Funções Suporte"
   ]
  },
  {
   "cell_type": "code",
   "execution_count": 7,
   "metadata": {},
   "outputs": [],
   "source": [
    "# Supressão da notação científica.\n",
    "np.set_printoptions(suppress=True)\n",
    "pd.set_option('display.float_format', '{:.6f}'.format)"
   ]
  },
  {
   "cell_type": "code",
   "execution_count": 26,
   "metadata": {},
   "outputs": [],
   "source": [
    "def estatistica_descritiva(df1):\n",
    "    # Medidas de tendência central - Mean, Median\n",
    "    media = pd.DataFrame(df1.apply(np.mean)).T\n",
    "    mediana = pd.DataFrame(df1.apply(np.median)).T\n",
    "    \n",
    "    # Medidas de Dispersão - Std, min, max, range, skew, kurtosis\n",
    "    desvio_padrao = pd.DataFrame(df1.apply(np.std)).T\n",
    "    minimo = pd.DataFrame(df1.apply(np.min)).T\n",
    "    maximo = pd.DataFrame(df1.apply(np.max)).T\n",
    "    range = pd.DataFrame(df1.apply(lambda x : x.max() - x.min())).T\n",
    "    assimetria = pd.DataFrame(df1.apply(lambda x : x.skew())).T\n",
    "    curtosis = pd.DataFrame(df1.apply(lambda x : x.kurtosis())).T\n",
    "    \n",
    "    estatistica = pd.concat([minimo, maximo, range, media, mediana, desvio_padrao, assimetria, curtosis]).T.reset_index()\n",
    "    estatistica.columns = ['variaveis','minimo', 'maximo', 'range', 'media', 'mediana', 'desvio_padrao', 'assimetria', 'curtosis']\n",
    "    \n",
    "    return estatistica"
   ]
  },
  {
   "cell_type": "code",
   "execution_count": 44,
   "metadata": {},
   "outputs": [],
   "source": [
    "def visualizacao_dados_categoricos(df):\n",
    "    for i in df:\n",
    "        print(f'Atributo: {i} - {df[i].sort_values().unique().tolist()}\\n')"
   ]
  },
  {
   "cell_type": "code",
   "execution_count": null,
   "metadata": {},
   "outputs": [],
   "source": [
    "## Function to reduce the DF size\n",
    "## It is necessary that after using this code, carefully check the output results for each column.\n",
    "def reduce_mem_usage(df, verbose=True):\n",
    "    numerics = ['int16', 'int32', 'int64', 'float16', 'float32', 'float64']\n",
    "    start_mem = df.memory_usage().sum() / 10242\n",
    "    for col in df.columns:\n",
    "        col_type = df[col].dtypes\n",
    "        if col_type in numerics:\n",
    "            c_min = df[col].min()\n",
    "            c_max = df[col].max()\n",
    "            if str(col_type)[:3] == 'int':\n",
    "                if c_min > np.iinfo(np.int8).min and c_max < np.iinfo(np.int8).max:\n",
    "                    df[col] = df[col].astype(np.int8)\n",
    "                elif c_min > np.iinfo(np.int16).min and c_max < np.iinfo(np.int16).max:\n",
    "                    df[col] = df[col].astype(np.int16)\n",
    "                elif c_min > np.iinfo(np.int32).min and c_max < np.iinfo(np.int32).max:\n",
    "                    df[col] = df[col].astype(np.int32)\n",
    "                elif c_min > np.iinfo(np.int64).min and c_max < np.iinfo(np.int64).max:\n",
    "                    df[col] = df[col].astype(np.int64)\n",
    "            else:\n",
    "                if c_min > np.finfo(np.float16).min and c_max < np.finfo(np.float16).max:\n",
    "                    df[col] = df[col].astype(np.float16)\n",
    "                elif c_min > np.finfo(np.float32).min and c_max < np.finfo(np.float32).max:\n",
    "                    df[col] = df[col].astype(np.float32)\n",
    "                else:\n",
    "                    df[col] = df[col].astype(np.float64)\n",
    "    end_mem = df.memory_usage().sum() / 10242\n",
    "    if verbose: print('Mem. usage decreased to {:5.2f} Mb ({:.1f}% reduction)'.format(end_mem, 100 * (start_mem - end_mem) / start_mem))\n",
    "    return df"
   ]
  },
  {
   "cell_type": "code",
   "execution_count": null,
   "metadata": {},
   "outputs": [],
   "source": [
    "def jupyter_settings():\n",
    "    %matplotlib inline\n",
    "    %pylab inline\n",
    "    \n",
    "    plt.style.use( 'bmh' )\n",
    "    plt.rcParams['figure.figsize'] = [18,10]\n",
    "    plt.rcParams['font.size'] = 24\n",
    "    \n",
    "    display( HTML('<style>.container { width: 100% !important;} </style>') )\n",
    "    pd.options.display.max_columns = None\n",
    "    pd.options.display.max_rows = None\n",
    "    pd.set_option( 'display.expand_frame_repr', False)\n",
    "    \n",
    "    sns.set()\n",
    "    \n",
    "jupyter_settings()"
   ]
  },
  {
   "cell_type": "markdown",
   "metadata": {},
   "source": [
    "## 0.2 Load Data"
   ]
  },
  {
   "cell_type": "code",
   "execution_count": null,
   "metadata": {},
   "outputs": [],
   "source": [
    "df = pd.read_csv(\"../data/raw/azure_usage_1ano.csv\")\n",
    "df.sample()"
   ]
  },
  {
   "cell_type": "markdown",
   "metadata": {},
   "source": [
    "# 1.0 Descrição dos Dados"
   ]
  },
  {
   "cell_type": "markdown",
   "metadata": {},
   "source": [
    "## 1.1 Rename Columns"
   ]
  },
  {
   "cell_type": "code",
   "execution_count": null,
   "metadata": {},
   "outputs": [],
   "source": [
    "columns_old = df.columns\n",
    "\n",
    "snakecase = lambda x : inflection.underscore(x)\n",
    "\n",
    "columns_new = list(map(snakecase,columns_old))\n",
    "\n",
    "df.columns = columns_new"
   ]
  },
  {
   "cell_type": "markdown",
   "metadata": {},
   "source": [
    "## 1.2 Data Dimension"
   ]
  },
  {
   "cell_type": "code",
   "execution_count": 18,
   "metadata": {},
   "outputs": [
    {
     "data": {
      "text/plain": [
       "(4728, 10)"
      ]
     },
     "execution_count": 18,
     "metadata": {},
     "output_type": "execute_result"
    }
   ],
   "source": [
    "df.shape"
   ]
  },
  {
   "cell_type": "markdown",
   "metadata": {},
   "source": [
    "## 1.3 Data Types"
   ]
  },
  {
   "cell_type": "code",
   "execution_count": 20,
   "metadata": {},
   "outputs": [
    {
     "name": "stdout",
     "output_type": "stream",
     "text": [
      "<class 'pandas.core.frame.DataFrame'>\n",
      "RangeIndex: 4728 entries, 0 to 4727\n",
      "Data columns (total 10 columns):\n",
      " #   Column             Non-Null Count  Dtype  \n",
      "---  ------             --------------  -----  \n",
      " 0   subscription_name  4728 non-null   object \n",
      " 1   subscription_guid  4728 non-null   object \n",
      " 2   date               4728 non-null   object \n",
      " 3   resource_guid      4728 non-null   object \n",
      " 4   service_name       4728 non-null   object \n",
      " 5   service_type       4728 non-null   object \n",
      " 6   service_region     4728 non-null   object \n",
      " 7   service_resource   4728 non-null   object \n",
      " 8   quantity           4728 non-null   float64\n",
      " 9   cost               4728 non-null   float64\n",
      "dtypes: float64(2), object(8)\n",
      "memory usage: 369.5+ KB\n"
     ]
    }
   ],
   "source": [
    "df.info()"
   ]
  },
  {
   "cell_type": "code",
   "execution_count": 42,
   "metadata": {},
   "outputs": [
    {
     "data": {
      "text/plain": [
       "subscription_name    0\n",
       "subscription_guid    0\n",
       "date                 0\n",
       "resource_guid        0\n",
       "service_name         0\n",
       "service_type         0\n",
       "service_region       0\n",
       "service_resource     0\n",
       "quantity             0\n",
       "cost                 0\n",
       "dtype: int64"
      ]
     },
     "execution_count": 42,
     "metadata": {},
     "output_type": "execute_result"
    }
   ],
   "source": [
    "df.isna().sum()"
   ]
  },
  {
   "cell_type": "markdown",
   "metadata": {},
   "source": [
    "## 1.4 Change types"
   ]
  },
  {
   "cell_type": "code",
   "execution_count": 21,
   "metadata": {},
   "outputs": [],
   "source": [
    "df['date'] = pd.to_datetime( df['date'] )"
   ]
  },
  {
   "cell_type": "code",
   "execution_count": 32,
   "metadata": {},
   "outputs": [
    {
     "name": "stdout",
     "output_type": "stream",
     "text": [
      "<class 'pandas.core.frame.DataFrame'>\n",
      "RangeIndex: 4728 entries, 0 to 4727\n",
      "Data columns (total 10 columns):\n",
      " #   Column             Non-Null Count  Dtype         \n",
      "---  ------             --------------  -----         \n",
      " 0   subscription_name  4728 non-null   object        \n",
      " 1   subscription_guid  4728 non-null   object        \n",
      " 2   date               4728 non-null   datetime64[ns]\n",
      " 3   resource_guid      4728 non-null   object        \n",
      " 4   service_name       4728 non-null   object        \n",
      " 5   service_type       4728 non-null   object        \n",
      " 6   service_region     4728 non-null   object        \n",
      " 7   service_resource   4728 non-null   object        \n",
      " 8   quantity           4728 non-null   float64       \n",
      " 9   cost               4728 non-null   float64       \n",
      "dtypes: datetime64[ns](1), float64(2), object(7)\n",
      "memory usage: 369.5+ KB\n"
     ]
    }
   ],
   "source": [
    "df.info()"
   ]
  },
  {
   "cell_type": "markdown",
   "metadata": {},
   "source": [
    "## 1.5 Estatística Descritiva"
   ]
  },
  {
   "cell_type": "code",
   "execution_count": 33,
   "metadata": {},
   "outputs": [],
   "source": [
    "variaveis_categoricas = df.select_dtypes( exclude = ['int64','float64','datetime64[ns]'])\n",
    "variaveis_numericas = df.select_dtypes( include = ['int64','float64'])"
   ]
  },
  {
   "cell_type": "markdown",
   "metadata": {},
   "source": [
    "### 1.5.1 Variáveis Numéricas"
   ]
  },
  {
   "cell_type": "code",
   "execution_count": 38,
   "metadata": {},
   "outputs": [
    {
     "data": {
      "text/html": [
       "<div>\n",
       "<style scoped>\n",
       "    .dataframe tbody tr th:only-of-type {\n",
       "        vertical-align: middle;\n",
       "    }\n",
       "\n",
       "    .dataframe tbody tr th {\n",
       "        vertical-align: top;\n",
       "    }\n",
       "\n",
       "    .dataframe thead th {\n",
       "        text-align: right;\n",
       "    }\n",
       "</style>\n",
       "<table border=\"1\" class=\"dataframe\">\n",
       "  <thead>\n",
       "    <tr style=\"text-align: right;\">\n",
       "      <th></th>\n",
       "      <th>variaveis</th>\n",
       "      <th>minimo</th>\n",
       "      <th>maximo</th>\n",
       "      <th>range</th>\n",
       "      <th>media</th>\n",
       "      <th>mediana</th>\n",
       "      <th>desvio_padrao</th>\n",
       "      <th>assimetria</th>\n",
       "      <th>curtosis</th>\n",
       "    </tr>\n",
       "  </thead>\n",
       "  <tbody>\n",
       "    <tr>\n",
       "      <th>0</th>\n",
       "      <td>quantity</td>\n",
       "      <td>0.000000</td>\n",
       "      <td>252.000000</td>\n",
       "      <td>252.000000</td>\n",
       "      <td>7.022578</td>\n",
       "      <td>0.114466</td>\n",
       "      <td>15.777792</td>\n",
       "      <td>7.966446</td>\n",
       "      <td>109.052088</td>\n",
       "    </tr>\n",
       "    <tr>\n",
       "      <th>1</th>\n",
       "      <td>cost</td>\n",
       "      <td>0.000000</td>\n",
       "      <td>13.176000</td>\n",
       "      <td>13.176000</td>\n",
       "      <td>0.499057</td>\n",
       "      <td>0.096768</td>\n",
       "      <td>1.239533</td>\n",
       "      <td>4.161124</td>\n",
       "      <td>24.601527</td>\n",
       "    </tr>\n",
       "  </tbody>\n",
       "</table>\n",
       "</div>"
      ],
      "text/plain": [
       "  variaveis   minimo     maximo      range    media  mediana  desvio_padrao  assimetria   curtosis\n",
       "0  quantity 0.000000 252.000000 252.000000 7.022578 0.114466      15.777792    7.966446 109.052088\n",
       "1      cost 0.000000  13.176000  13.176000 0.499057 0.096768       1.239533    4.161124  24.601527"
      ]
     },
     "execution_count": 38,
     "metadata": {},
     "output_type": "execute_result"
    }
   ],
   "source": [
    "estatistica_numerica = estatistica_descritiva(variaveis_numericas)\n",
    "estatistica_numerica"
   ]
  },
  {
   "cell_type": "code",
   "execution_count": 35,
   "metadata": {},
   "outputs": [
    {
     "data": {
      "image/png": "[encoded data removed]",
      "text/plain": [
       "<Figure size 1800x1000 with 2 Axes>"
      ]
     },
     "metadata": {},
     "output_type": "display_data"
    }
   ],
   "source": [
    "variaveis_numericas.hist(bins = 25);"
   ]
  },
  {
   "cell_type": "markdown",
   "metadata": {},
   "source": [
    "### 1.5.2 Vairiáveis Categóricas"
   ]
  },
  {
   "cell_type": "code",
   "execution_count": 37,
   "metadata": {},
   "outputs": [
    {
     "data": {
      "text/html": [
       "<div>\n",
       "<style scoped>\n",
       "    .dataframe tbody tr th:only-of-type {\n",
       "        vertical-align: middle;\n",
       "    }\n",
       "\n",
       "    .dataframe tbody tr th {\n",
       "        vertical-align: top;\n",
       "    }\n",
       "\n",
       "    .dataframe thead th {\n",
       "        text-align: right;\n",
       "    }\n",
       "</style>\n",
       "<table border=\"1\" class=\"dataframe\">\n",
       "  <thead>\n",
       "    <tr style=\"text-align: right;\">\n",
       "      <th></th>\n",
       "      <th>count</th>\n",
       "      <th>unique</th>\n",
       "      <th>top</th>\n",
       "      <th>freq</th>\n",
       "    </tr>\n",
       "  </thead>\n",
       "  <tbody>\n",
       "    <tr>\n",
       "      <th>subscription_name</th>\n",
       "      <td>4728</td>\n",
       "      <td>1</td>\n",
       "      <td>Microsoft Azure Sponsorship</td>\n",
       "      <td>4728</td>\n",
       "    </tr>\n",
       "    <tr>\n",
       "      <th>subscription_guid</th>\n",
       "      <td>4728</td>\n",
       "      <td>1</td>\n",
       "      <td>82375e17-0dda-4790-b6e8-c565d4f08e87</td>\n",
       "      <td>4728</td>\n",
       "    </tr>\n",
       "    <tr>\n",
       "      <th>resource_guid</th>\n",
       "      <td>4728</td>\n",
       "      <td>53</td>\n",
       "      <td>cbe92596-7f61-5f48-ba3d-d624aa141eaf</td>\n",
       "      <td>367</td>\n",
       "    </tr>\n",
       "    <tr>\n",
       "      <th>service_name</th>\n",
       "      <td>4728</td>\n",
       "      <td>12</td>\n",
       "      <td>Storage</td>\n",
       "      <td>1958</td>\n",
       "    </tr>\n",
       "    <tr>\n",
       "      <th>service_type</th>\n",
       "      <td>4728</td>\n",
       "      <td>15</td>\n",
       "      <td>All</td>\n",
       "      <td>1308</td>\n",
       "    </tr>\n",
       "    <tr>\n",
       "      <th>service_region</th>\n",
       "      <td>4728</td>\n",
       "      <td>7</td>\n",
       "      <td>All</td>\n",
       "      <td>1767</td>\n",
       "    </tr>\n",
       "    <tr>\n",
       "      <th>service_resource</th>\n",
       "      <td>4728</td>\n",
       "      <td>46</td>\n",
       "      <td>GRS Data Stored</td>\n",
       "      <td>367</td>\n",
       "    </tr>\n",
       "  </tbody>\n",
       "</table>\n",
       "</div>"
      ],
      "text/plain": [
       "                  count unique                                   top  freq\n",
       "subscription_name  4728      1           Microsoft Azure Sponsorship  4728\n",
       "subscription_guid  4728      1  82375e17-0dda-4790-b6e8-c565d4f08e87  4728\n",
       "resource_guid      4728     53  cbe92596-7f61-5f48-ba3d-d624aa141eaf   367\n",
       "service_name       4728     12                               Storage  1958\n",
       "service_type       4728     15                                   All  1308\n",
       "service_region     4728      7                                   All  1767\n",
       "service_resource   4728     46                       GRS Data Stored   367"
      ]
     },
     "execution_count": 37,
     "metadata": {},
     "output_type": "execute_result"
    }
   ],
   "source": [
    "variaveis_categoricas.describe().T"
   ]
  },
  {
   "cell_type": "code",
   "execution_count": 45,
   "metadata": {},
   "outputs": [
    {
     "name": "stdout",
     "output_type": "stream",
     "text": [
      "Atributo: subscription_name - ['Microsoft Azure Sponsorship']\n",
      "\n",
      "Atributo: subscription_guid - ['82375e17-0dda-4790-b6e8-c565d4f08e87']\n",
      "\n",
      "Atributo: resource_guid - ['0b608a26-f611-4232-8192-ce81b6b57194', '0ddb5c81-143d-52f8-9ea3-29b64cc0ef97', '0f824807-2376-435c-95c9-f992b67a07b0', '0fcb37f3-8a5a-4e81-820e-848908a57e44', '11ecb7d4-b18a-447a-bb0c-f057585fc701', '12da282f-7e96-49e2-983a-9a65da2a4866', '17b3fc96-9141-4e25-88f2-b8953f3ca784', '1b74a37f-45a2-4266-bf07-2764801d0b85', '211e620c-ebcf-4db5-a7fd-996abebe9546', '26ce34b7-67b3-480d-9d1b-54a7fb80f67a', '28339581-90e9-4bde-93d2-a61b4f2a0b5e', '2dba9884-2518-4427-90ff-d2c100c5f775', '2f718765-8dfc-40cf-a636-b2d7d169d7d2', '334e1296-793b-4bd4-96ed-e82953411ce3', '3b2bbe89-0295-459e-b5e9-7e43b90318da', '3da19ca3-6007-4a29-89ea-cab10c2010ed', '3f2b1e1c-c886-4ec6-ad6f-dd0ef38819c9', '40551b4c-e8be-48ed-b70b-f8d25c7de724', '416a0a14-9d61-438f-a875-779e7b0e38c3', '42e2a22f-fabf-41ea-a21e-e86bb3ff5799', '43034668-a244-4031-bb4d-be5bcce22c5f', '546a93ff-42e9-4844-b221-a53ae7524bab', '60e3c37c-1ab8-41f8-891d-047657ae5ef4', '6db4a779-0d75-481a-af26-026ccf5795c8', '73ad5336-6f64-4263-9537-1d571874dac6', '82b5adb9-7503-4970-98cb-1d8537c51056', '8f967c58-b144-4bd7-8882-8bf02767c839', '97452b97-ca28-499c-b86e-c4910b80a75d', '9995d93a-7d35-4d3f-9c69-7a7fea447ef4', '9be71924-a8d1-40a5-a065-2ac0c5d69a07', '9c150bf9-2bad-430e-a53c-c213804f49ef', '9cb0bde8-bc0d-468c-8423-a25fe06779d3', 'a10dad63-7382-402b-b8a8-3aa68b93677f', 'a97f31a2-0fb1-4d64-bb43-a2399dd31f0b', 'ac2340a7-812b-4fb4-981f-a4701844be2e', 'b9e5e77c-a0b3-4a2c-9b8b-57fa54f31c52', 'beb1457b-1ab8-4e38-8021-bf7e39b1014b', 'c089a13a-9dd0-44b5-aa9e-44a77bbd6788', 'c0f5cb45-6fb1-41c9-8545-72ad400d9da4', 'c52a982d-f2ca-46c2-9e2a-06dae03a531d', 'c80a3636-2edb-4248-bcb1-04ef818a75ac', 'cbe92596-7f61-5f48-ba3d-d624aa141eaf', 'ce957933-8287-4f8b-83ee-53a5cbe056d9', 'd10d7086-9771-4cfa-b049-3287c97c5f1d', 'd23a5753-ff85-4ddf-af28-8cc5cf2d3882', 'd54686f0-77ff-43f3-9e7c-2099030d32a7', 'dbefcfc1-e3f6-409b-be6d-9cd7b00724a5', 'e07fca8f-2362-4b83-99c2-05adfa84adbd', 'e53c4e1b-4859-4305-8749-d8ea4980ab9f', 'e6ab7238-e433-4fe0-a2b2-2b2564df2cdb', 'f114cb19-ea64-40b5-bcd7-aee474b62853', 'f8c187bb-5a47-46ae-b874-f186d207fff4', 'fec1d8d1-cc81-4d54-a391-83e228df4928']\n",
      "\n",
      "Atributo: service_name - ['Azure App Service', 'Azure DNS', 'Backup', 'Bandwidth', 'Functions', 'Key Vault', 'Log Analytics', 'Logic Apps', 'Network Watcher', 'Storage', 'Virtual Machines', 'Virtual Network']\n",
      "\n",
      "Atributo: service_type - ['All', 'Dv3/DSv3 Series', 'Files v2', 'Free Plan', 'General Block Blob', 'IP Addresses', 'Inter-Region', 'Premium', 'Premium SSD Managed Disks', 'Private Link', 'Queues v2', 'Standard Page Blob', 'Standard SSD Managed Disks', 'Tables', 'Tiered Block Blob']\n",
      "\n",
      "Atributo: service_region - ['All', 'BR South', 'Global', 'Intercontinental', 'North America', 'South America', 'US East']\n",
      "\n",
      "Atributo: service_resource - ['All Other Operations', 'Azure VM Protected Instances', 'Basic IPv4 Dynamic Public IP', 'Basic IPv4 Static Public IP', 'Batch Write Operations', 'Consumption Built-in Actions', 'Consumption Data Retention', 'Consumption Standard Connector Actions', 'D2 v3/D2s v3', 'D4 v3/D4s v3', 'Disk Read Operations', 'Disk Write Operations', 'E10 LRS Disk', 'E15 LRS Disk', 'E4 LRS Disk', 'E4 LRS Disk Operations', 'E6 LRS Disk', 'F1 App', 'GRS Data Stored', 'Hot ZRS Write Operations', 'Inter Continent Data Transfer Out - LATAM To Any', 'Inter Continent Data Transfer Out - NAM or EU To Any', 'Intra Continent Data Transfer Out', 'LRS Data Stored', 'LRS List and Create Container Operations', 'LRS Write Operations', 'Operations', 'P4 LRS Disk', 'Pay-as-you-go Data Ingestion', 'Premium Memory Duration', 'Premium vCPU Duration', 'Private Zone', 'Public Queries', 'Public Zone', 'Read Operations', 'Snapshots LRS Snapshots', 'Standard Data Transfer Out', 'Standard Diagnostic Tool API', 'Standard IPv4 Static Public IP', 'Standard Private Endpoint', 'Write Operations', 'ZRS Class 1 Operations', 'ZRS Data Stored', 'ZRS Protocol Operations', 'ZRS Read Operations', 'ZRS Write Operations']\n",
      "\n"
     ]
    }
   ],
   "source": [
    "estatistica_categorica = visualizacao_dados_categoricos(variaveis_categoricas)\n",
    "estatistica_categorica"
   ]
  },
  {
   "cell_type": "markdown",
   "metadata": {},
   "source": [
    "# 1.6 Export PKL"
   ]
  },
  {
   "cell_type": "code",
   "execution_count": 43,
   "metadata": {},
   "outputs": [],
   "source": [
    "pickle.dump(df,open(\"../data/interim/1_0_descricao_dados.pkl\",\"wb\"))"
   ]
  }
 ],
 "metadata": {
  "kernelspec": {
   "display_name": "Python 3.11.9 ('v3119')",
   "language": "python",
   "name": "python3"
  },
  "language_info": {
   "codemirror_mode": {
    "name": "ipython",
    "version": 3
   },
   "file_extension": ".py",
   "mimetype": "text/x-python",
   "name": "python",
   "nbconvert_exporter": "python",
   "pygments_lexer": "ipython3",
   "version": "3.11.9"
  },
  "orig_nbformat": 4,
  "vscode": {
   "interpreter": {
    "hash": "d9fd945bec87ea1faae53cf0492201e0c2959d8565ad017415241cf5b171a17a"
   }
  }
 },
 "nbformat": 4,
 "nbformat_minor": 2
}
