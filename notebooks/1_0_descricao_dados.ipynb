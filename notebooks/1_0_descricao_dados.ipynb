{
 "cells": [
  {
   "cell_type": "markdown",
   "metadata": {},
   "source": [
    "# 0 Imports"
   ]
  },
  {
   "cell_type": "code",
   "execution_count": 94,
   "metadata": {},
   "outputs": [],
   "source": [
    "import pickle\n",
    "import datetime\n",
    "import inflection\n",
    "\n",
    "import numpy    as np\n",
    "import pandas   as pd\n",
    "import seaborn  as sns\n",
    "\n",
    "from matplotlib import pyplot as plt\n",
    "\n",
    "from IPython.display        import Image\n",
    "from IPython.core.display   import HTML"
   ]
  },
  {
   "cell_type": "markdown",
   "metadata": {},
   "source": [
    "## 0.1 Funções Suporte"
   ]
  },
  {
   "cell_type": "code",
   "execution_count": 3,
   "metadata": {},
   "outputs": [],
   "source": [
    "# Supressão da notação científica.\n",
    "np.set_printoptions(suppress=True)\n",
    "pd.set_option('display.float_format', '{:.6f}'.format)"
   ]
  },
  {
   "cell_type": "code",
   "execution_count": 4,
   "metadata": {},
   "outputs": [],
   "source": [
    "def estatistica_descritiva(df1):\n",
    "    # Medidas de tendência central - Mean, Median\n",
    "    media = pd.DataFrame(df1.apply(np.mean)).T\n",
    "    mediana = pd.DataFrame(df1.apply(np.median)).T\n",
    "    \n",
    "    # Medidas de Dispersão - Std, min, max, range, skew, kurtosis\n",
    "    desvio_padrao = pd.DataFrame(df1.apply(np.std)).T\n",
    "    minimo = pd.DataFrame(df1.apply(np.min)).T\n",
    "    maximo = pd.DataFrame(df1.apply(np.max)).T\n",
    "    range = pd.DataFrame(df1.apply(lambda x : x.max() - x.min())).T\n",
    "    assimetria = pd.DataFrame(df1.apply(lambda x : x.skew())).T\n",
    "    curtosis = pd.DataFrame(df1.apply(lambda x : x.kurtosis())).T\n",
    "    \n",
    "    estatistica = pd.concat([minimo, maximo, range, media, mediana, desvio_padrao, assimetria, curtosis]).T.reset_index()\n",
    "    estatistica.columns = ['variaveis','minimo', 'maximo', 'range', 'media', 'mediana', 'desvio_padrao', 'assimetria', 'curtosis']\n",
    "    \n",
    "    return estatistica"
   ]
  },
  {
   "cell_type": "code",
   "execution_count": 40,
   "metadata": {},
   "outputs": [],
   "source": [
    "def visualizacao_dados_categoricos(df):\n",
    "    for i in df:\n",
    "        print(f'Atributo: {i}') \n",
    "        print(f'Valores Únicos: {len(df[i].sort_values().unique())}')\n",
    "        print(f'Valores Descritos: {df[i].sort_values().unique().tolist()}\\n')"
   ]
  },
  {
   "cell_type": "code",
   "execution_count": 6,
   "metadata": {},
   "outputs": [],
   "source": [
    "## Function to reduce the DF size\n",
    "## It is necessary that after using this code, carefully check the output results for each column.\n",
    "def reduce_mem_usage(df, verbose=True):\n",
    "    numerics = ['int16', 'int32', 'int64', 'float16', 'float32', 'float64']\n",
    "    start_mem = df.memory_usage().sum() / 10242\n",
    "    for col in df.columns:\n",
    "        col_type = df[col].dtypes\n",
    "        if col_type in numerics:\n",
    "            c_min = df[col].min()\n",
    "            c_max = df[col].max()\n",
    "            if str(col_type)[:3] == 'int':\n",
    "                if c_min > np.iinfo(np.int8).min and c_max < np.iinfo(np.int8).max:\n",
    "                    df[col] = df[col].astype(np.int8)\n",
    "                elif c_min > np.iinfo(np.int16).min and c_max < np.iinfo(np.int16).max:\n",
    "                    df[col] = df[col].astype(np.int16)\n",
    "                elif c_min > np.iinfo(np.int32).min and c_max < np.iinfo(np.int32).max:\n",
    "                    df[col] = df[col].astype(np.int32)\n",
    "                elif c_min > np.iinfo(np.int64).min and c_max < np.iinfo(np.int64).max:\n",
    "                    df[col] = df[col].astype(np.int64)\n",
    "            else:\n",
    "                if c_min > np.finfo(np.float16).min and c_max < np.finfo(np.float16).max:\n",
    "                    df[col] = df[col].astype(np.float16)\n",
    "                elif c_min > np.finfo(np.float32).min and c_max < np.finfo(np.float32).max:\n",
    "                    df[col] = df[col].astype(np.float32)\n",
    "                else:\n",
    "                    df[col] = df[col].astype(np.float64)\n",
    "    end_mem = df.memory_usage().sum() / 10242\n",
    "    if verbose: print('Mem. usage decreased to {:5.2f} Mb ({:.1f}% reduction)'.format(end_mem, 100 * (start_mem - end_mem) / start_mem))\n",
    "    return df"
   ]
  },
  {
   "cell_type": "code",
   "execution_count": 7,
   "metadata": {},
   "outputs": [
    {
     "name": "stdout",
     "output_type": "stream",
     "text": [
      "%pylab is deprecated, use %matplotlib inline and import the required libraries.\n",
      "Populating the interactive namespace from numpy and matplotlib\n"
     ]
    },
    {
     "data": {
      "text/html": [
       "<style>.container { width: 100% !important;} </style>"
      ],
      "text/plain": [
       "<IPython.core.display.HTML object>"
      ]
     },
     "metadata": {},
     "output_type": "display_data"
    }
   ],
   "source": [
    "def jupyter_settings():\n",
    "    %matplotlib inline\n",
    "    %pylab inline\n",
    "    \n",
    "    plt.style.use( 'bmh' )\n",
    "    plt.rcParams['figure.figsize'] = [18,10]\n",
    "    plt.rcParams['font.size'] = 24\n",
    "    \n",
    "    display( HTML('<style>.container { width: 100% !important;} </style>') )\n",
    "    pd.options.display.max_columns = None\n",
    "    pd.options.display.max_rows = None\n",
    "    pd.set_option( 'display.expand_frame_repr', False)\n",
    "    \n",
    "    sns.set()\n",
    "    \n",
    "jupyter_settings()"
   ]
  },
  {
   "cell_type": "code",
   "execution_count": 8,
   "metadata": {},
   "outputs": [],
   "source": [
    "def importar_arquivos()-> list:\n",
    "    \"\"\"\n",
    "    Método para importar os DataFrames salvos no formato pkl.\n",
    "    Por enquanto não vamos receber dados externos, mas no futuro isso será implementado.\n",
    "    \"\"\"\n",
    "    \n",
    "    arquivos = os.listdir(__CAMINHO_RAW)\n",
    "    lista_arquivos = [arquivo for arquivo in arquivos if arquivo.endswith('.csv')]\n",
    "    \n",
    "    return lista_arquivos"
   ]
  },
  {
   "cell_type": "code",
   "execution_count": 9,
   "metadata": {},
   "outputs": [],
   "source": [
    "def mundaca_tipo_date(df: pd.DataFrame)-> pd.DataFrame:\n",
    "    \n",
    "    df['date'] = pd.to_datetime( df['date'] )\n",
    "    \n",
    "    return df"
   ]
  },
  {
   "cell_type": "code",
   "execution_count": 98,
   "metadata": {},
   "outputs": [],
   "source": [
    "def novas_colunas_date(df:pd.DataFrame)-> pd.DataFrame:\n",
    "    # year\n",
    "    df['year'] = df['date'].dt.year\n",
    "    # month\n",
    "    df['month'] = df['date'].dt.month\n",
    "    # day\n",
    "    df['day'] = df['date'].dt.day\n",
    "    # week of year\n",
    "    df['week_of_year'] = df['date'].dt.isocalendar().week\n",
    "    # year week string\n",
    "    df['year_week'] = df['date'].dt.strftime('%Y-%W')\n",
    "    # year month\n",
    "    df['year_month'] = df['date'].dt.strftime('%Y-%m')\n",
    "    \n",
    "    return df"
   ]
  },
  {
   "cell_type": "code",
   "execution_count": 35,
   "metadata": {},
   "outputs": [],
   "source": [
    "def exportar_df(df: pd.DataFrame):\n",
    "    df.to_pickle(f'{__CAMINHO_INTERIM}/db_ajustado.pkl')"
   ]
  },
  {
   "cell_type": "code",
   "execution_count": 12,
   "metadata": {},
   "outputs": [],
   "source": [
    "def renomear_colunas(df: pd.DataFrame)-> pd.DataFrame:\n",
    "    \n",
    "    columns_old = df.columns\n",
    "    snakecase = lambda x : inflection.underscore(x)\n",
    "    columns_new = list(map(snakecase,columns_old))\n",
    "    df.columns = columns_new\n",
    "    \n",
    "    return df"
   ]
  },
  {
   "cell_type": "code",
   "execution_count": 13,
   "metadata": {},
   "outputs": [],
   "source": [
    "def mesclar_arquivos(lista_arquivos: list,)-> pd.DataFrame:\n",
    "    \"\"\"\n",
    "    Método para meclar os DataFrames. Aporveito para acrescentar 1 coluna de identificação da tabela.\n",
    "    Preciso colocar essa identificação para não misturar os dados na hora da análise.\n",
    "    \"\"\"\n",
    "    dfs = pd.DataFrame()\n",
    "    for arquivo in lista_arquivos:\n",
    "    \n",
    "        df = pd.read_csv( os.path.join( __CAMINHO_RAW, arquivo ) )\n",
    "        maquina = arquivo.split('_')[1]\n",
    "        df['maquina'] = maquina\n",
    "    \n",
    "        df = renomear_colunas(df)\n",
    "        df = mundaca_tipo_date(df)\n",
    "\n",
    "        if dfs.empty:\n",
    "            dfs = df\n",
    "        else:\n",
    "            if maquina in dfs['maquina'].values:\n",
    "\n",
    "                date = dfs.loc[dfs['maquina'] == maquina, 'date']\n",
    "                filtro = date.max()\n",
    "                df = df.loc[df['date'] > filtro]\n",
    "                \n",
    "                dfs = pd.concat([dfs,df], ignore_index=True)\n",
    "            else:\n",
    "                dfs = pd.concat([dfs,df], ignore_index=True)\n",
    "\n",
    "    return dfs"
   ]
  },
  {
   "cell_type": "markdown",
   "metadata": {},
   "source": [
    "## 0.2 Load Data"
   ]
  },
  {
   "cell_type": "code",
   "execution_count": 36,
   "metadata": {},
   "outputs": [],
   "source": [
    "__CAMINHO_RAW = '../data/raw/'\n",
    "#__CAMINHO_RAW = 'E:/4_arquivos/1_projeto/modelo_unicin/src/data/raw'\n",
    "\n",
    "__CAMINHO_INTERIM = '../data/interim'\n"
   ]
  },
  {
   "cell_type": "code",
   "execution_count": 15,
   "metadata": {},
   "outputs": [],
   "source": [
    "lista_arquivos = importar_arquivos()"
   ]
  },
  {
   "cell_type": "markdown",
   "metadata": {},
   "source": [
    "## 0.3 Ajuste primário"
   ]
  },
  {
   "cell_type": "code",
   "execution_count": 99,
   "metadata": {},
   "outputs": [],
   "source": [
    "df = mesclar_arquivos(lista_arquivos=lista_arquivos)"
   ]
  },
  {
   "cell_type": "code",
   "execution_count": 100,
   "metadata": {},
   "outputs": [],
   "source": [
    "df = novas_colunas_date(df)"
   ]
  },
  {
   "cell_type": "markdown",
   "metadata": {},
   "source": [
    "# 1.0 Descrição dos Dados"
   ]
  },
  {
   "cell_type": "markdown",
   "metadata": {},
   "source": [
    "## 1.1 Data Sample"
   ]
  },
  {
   "cell_type": "code",
   "execution_count": 101,
   "metadata": {},
   "outputs": [
    {
     "data": {
      "text/html": [
       "<div>\n",
       "<style scoped>\n",
       "    .dataframe tbody tr th:only-of-type {\n",
       "        vertical-align: middle;\n",
       "    }\n",
       "\n",
       "    .dataframe tbody tr th {\n",
       "        vertical-align: top;\n",
       "    }\n",
       "\n",
       "    .dataframe thead th {\n",
       "        text-align: right;\n",
       "    }\n",
       "</style>\n",
       "<table border=\"1\" class=\"dataframe\">\n",
       "  <thead>\n",
       "    <tr style=\"text-align: right;\">\n",
       "      <th></th>\n",
       "      <th>subscription_name</th>\n",
       "      <th>subscription_guid</th>\n",
       "      <th>date</th>\n",
       "      <th>resource_guid</th>\n",
       "      <th>service_name</th>\n",
       "      <th>service_type</th>\n",
       "      <th>service_region</th>\n",
       "      <th>service_resource</th>\n",
       "      <th>quantity</th>\n",
       "      <th>cost</th>\n",
       "      <th>maquina</th>\n",
       "      <th>year</th>\n",
       "      <th>month</th>\n",
       "      <th>day</th>\n",
       "      <th>week_of_year</th>\n",
       "      <th>year_week</th>\n",
       "      <th>year_month</th>\n",
       "    </tr>\n",
       "  </thead>\n",
       "  <tbody>\n",
       "    <tr>\n",
       "      <th>56932</th>\n",
       "      <td>Microsoft Azure Sponsorship</td>\n",
       "      <td>82375e17-0dda-4790-b6e8-c565d4f08e87</td>\n",
       "      <td>2024-09-19</td>\n",
       "      <td>e53c4e1b-4859-4305-8749-d8ea4980ab9f</td>\n",
       "      <td>Storage</td>\n",
       "      <td>Files v2</td>\n",
       "      <td>BR South</td>\n",
       "      <td>ZRS Data Stored</td>\n",
       "      <td>0.000036</td>\n",
       "      <td>0.000004</td>\n",
       "      <td>portal</td>\n",
       "      <td>2024</td>\n",
       "      <td>9</td>\n",
       "      <td>19</td>\n",
       "      <td>38</td>\n",
       "      <td>2024-38</td>\n",
       "      <td>2024-09</td>\n",
       "    </tr>\n",
       "    <tr>\n",
       "      <th>56902</th>\n",
       "      <td>Microsoft Azure Sponsorship</td>\n",
       "      <td>82375e17-0dda-4790-b6e8-c565d4f08e87</td>\n",
       "      <td>2024-10-07</td>\n",
       "      <td>0b608a26-f611-4232-8192-ce81b6b57194</td>\n",
       "      <td>Azure DNS</td>\n",
       "      <td>All</td>\n",
       "      <td>All</td>\n",
       "      <td>Private Zone</td>\n",
       "      <td>0.032256</td>\n",
       "      <td>0.016128</td>\n",
       "      <td>portal</td>\n",
       "      <td>2024</td>\n",
       "      <td>10</td>\n",
       "      <td>7</td>\n",
       "      <td>41</td>\n",
       "      <td>2024-41</td>\n",
       "      <td>2024-10</td>\n",
       "    </tr>\n",
       "    <tr>\n",
       "      <th>56872</th>\n",
       "      <td>Microsoft Azure Sponsorship</td>\n",
       "      <td>82375e17-0dda-4790-b6e8-c565d4f08e87</td>\n",
       "      <td>2024-10-03</td>\n",
       "      <td>9c150bf9-2bad-430e-a53c-c213804f49ef</td>\n",
       "      <td>Virtual Network</td>\n",
       "      <td>IP Addresses</td>\n",
       "      <td>All</td>\n",
       "      <td>Standard IPv4 Static Public IP</td>\n",
       "      <td>24.000000</td>\n",
       "      <td>0.120000</td>\n",
       "      <td>portal</td>\n",
       "      <td>2024</td>\n",
       "      <td>10</td>\n",
       "      <td>3</td>\n",
       "      <td>40</td>\n",
       "      <td>2024-40</td>\n",
       "      <td>2024-10</td>\n",
       "    </tr>\n",
       "    <tr>\n",
       "      <th>56842</th>\n",
       "      <td>Microsoft Azure Sponsorship</td>\n",
       "      <td>82375e17-0dda-4790-b6e8-c565d4f08e87</td>\n",
       "      <td>2024-09-27</td>\n",
       "      <td>43034668-a244-4031-bb4d-be5bcce22c5f</td>\n",
       "      <td>Bandwidth</td>\n",
       "      <td>Inter-Region</td>\n",
       "      <td>Intercontinental</td>\n",
       "      <td>Inter Continent Data Transfer Out - LATAM To Any</td>\n",
       "      <td>0.949042</td>\n",
       "      <td>0.151845</td>\n",
       "      <td>portal</td>\n",
       "      <td>2024</td>\n",
       "      <td>9</td>\n",
       "      <td>27</td>\n",
       "      <td>39</td>\n",
       "      <td>2024-39</td>\n",
       "      <td>2024-09</td>\n",
       "    </tr>\n",
       "    <tr>\n",
       "      <th>56812</th>\n",
       "      <td>Microsoft Azure Sponsorship</td>\n",
       "      <td>82375e17-0dda-4790-b6e8-c565d4f08e87</td>\n",
       "      <td>2024-09-21</td>\n",
       "      <td>17b3fc96-9141-4e25-88f2-b8953f3ca784</td>\n",
       "      <td>Virtual Machines</td>\n",
       "      <td>Dv3/DSv3 Series</td>\n",
       "      <td>BR South</td>\n",
       "      <td>D2 v3/D2s v3</td>\n",
       "      <td>24.000000</td>\n",
       "      <td>3.816000</td>\n",
       "      <td>portal</td>\n",
       "      <td>2024</td>\n",
       "      <td>9</td>\n",
       "      <td>21</td>\n",
       "      <td>38</td>\n",
       "      <td>2024-38</td>\n",
       "      <td>2024-09</td>\n",
       "    </tr>\n",
       "    <tr>\n",
       "      <th>56782</th>\n",
       "      <td>Microsoft Azure Sponsorship</td>\n",
       "      <td>82375e17-0dda-4790-b6e8-c565d4f08e87</td>\n",
       "      <td>2024-09-19</td>\n",
       "      <td>12da282f-7e96-49e2-983a-9a65da2a4866</td>\n",
       "      <td>Storage</td>\n",
       "      <td>Tables</td>\n",
       "      <td>All</td>\n",
       "      <td>Read Operations</td>\n",
       "      <td>0.010800</td>\n",
       "      <td>0.000004</td>\n",
       "      <td>portal</td>\n",
       "      <td>2024</td>\n",
       "      <td>9</td>\n",
       "      <td>19</td>\n",
       "      <td>38</td>\n",
       "      <td>2024-38</td>\n",
       "      <td>2024-09</td>\n",
       "    </tr>\n",
       "    <tr>\n",
       "      <th>56752</th>\n",
       "      <td>Microsoft Azure Sponsorship</td>\n",
       "      <td>82375e17-0dda-4790-b6e8-c565d4f08e87</td>\n",
       "      <td>2024-10-07</td>\n",
       "      <td>3b2bbe89-0295-459e-b5e9-7e43b90318da</td>\n",
       "      <td>Logic Apps</td>\n",
       "      <td>All</td>\n",
       "      <td>All</td>\n",
       "      <td>Consumption Data Retention</td>\n",
       "      <td>0.000016</td>\n",
       "      <td>0.000002</td>\n",
       "      <td>portal</td>\n",
       "      <td>2024</td>\n",
       "      <td>10</td>\n",
       "      <td>7</td>\n",
       "      <td>41</td>\n",
       "      <td>2024-41</td>\n",
       "      <td>2024-10</td>\n",
       "    </tr>\n",
       "    <tr>\n",
       "      <th>56722</th>\n",
       "      <td>Microsoft Azure Sponsorship</td>\n",
       "      <td>82375e17-0dda-4790-b6e8-c565d4f08e87</td>\n",
       "      <td>2024-10-06</td>\n",
       "      <td>ce957933-8287-4f8b-83ee-53a5cbe056d9</td>\n",
       "      <td>Storage</td>\n",
       "      <td>Standard SSD Managed Disks</td>\n",
       "      <td>All</td>\n",
       "      <td>E4 LRS Disk Operations</td>\n",
       "      <td>5.295300</td>\n",
       "      <td>0.010592</td>\n",
       "      <td>portal</td>\n",
       "      <td>2024</td>\n",
       "      <td>10</td>\n",
       "      <td>6</td>\n",
       "      <td>40</td>\n",
       "      <td>2024-40</td>\n",
       "      <td>2024-10</td>\n",
       "    </tr>\n",
       "    <tr>\n",
       "      <th>56692</th>\n",
       "      <td>Microsoft Azure Sponsorship</td>\n",
       "      <td>82375e17-0dda-4790-b6e8-c565d4f08e87</td>\n",
       "      <td>2024-09-30</td>\n",
       "      <td>c089a13a-9dd0-44b5-aa9e-44a77bbd6788</td>\n",
       "      <td>Bandwidth</td>\n",
       "      <td>All</td>\n",
       "      <td>BR South</td>\n",
       "      <td>Standard Data Transfer Out</td>\n",
       "      <td>9.556648</td>\n",
       "      <td>1.729754</td>\n",
       "      <td>portal</td>\n",
       "      <td>2024</td>\n",
       "      <td>9</td>\n",
       "      <td>30</td>\n",
       "      <td>40</td>\n",
       "      <td>2024-40</td>\n",
       "      <td>2024-09</td>\n",
       "    </tr>\n",
       "    <tr>\n",
       "      <th>56662</th>\n",
       "      <td>Microsoft Azure Sponsorship</td>\n",
       "      <td>82375e17-0dda-4790-b6e8-c565d4f08e87</td>\n",
       "      <td>2024-09-28</td>\n",
       "      <td>9be71924-a8d1-40a5-a065-2ac0c5d69a07</td>\n",
       "      <td>Logic Apps</td>\n",
       "      <td>All</td>\n",
       "      <td>BR South</td>\n",
       "      <td>Consumption Built-in Actions</td>\n",
       "      <td>4.000000</td>\n",
       "      <td>0.000128</td>\n",
       "      <td>portal</td>\n",
       "      <td>2024</td>\n",
       "      <td>9</td>\n",
       "      <td>28</td>\n",
       "      <td>39</td>\n",
       "      <td>2024-39</td>\n",
       "      <td>2024-09</td>\n",
       "    </tr>\n",
       "  </tbody>\n",
       "</table>\n",
       "</div>"
      ],
      "text/plain": [
       "                 subscription_name                     subscription_guid       date                         resource_guid      service_name                service_type    service_region                                  service_resource  quantity     cost maquina  year  month  day  week_of_year year_week year_month\n",
       "56932  Microsoft Azure Sponsorship  82375e17-0dda-4790-b6e8-c565d4f08e87 2024-09-19  e53c4e1b-4859-4305-8749-d8ea4980ab9f           Storage                    Files v2          BR South                                   ZRS Data Stored  0.000036 0.000004  portal  2024      9   19            38   2024-38    2024-09\n",
       "56902  Microsoft Azure Sponsorship  82375e17-0dda-4790-b6e8-c565d4f08e87 2024-10-07  0b608a26-f611-4232-8192-ce81b6b57194         Azure DNS                         All               All                                      Private Zone  0.032256 0.016128  portal  2024     10    7            41   2024-41    2024-10\n",
       "56872  Microsoft Azure Sponsorship  82375e17-0dda-4790-b6e8-c565d4f08e87 2024-10-03  9c150bf9-2bad-430e-a53c-c213804f49ef   Virtual Network                IP Addresses               All                    Standard IPv4 Static Public IP 24.000000 0.120000  portal  2024     10    3            40   2024-40    2024-10\n",
       "56842  Microsoft Azure Sponsorship  82375e17-0dda-4790-b6e8-c565d4f08e87 2024-09-27  43034668-a244-4031-bb4d-be5bcce22c5f         Bandwidth                Inter-Region  Intercontinental  Inter Continent Data Transfer Out - LATAM To Any  0.949042 0.151845  portal  2024      9   27            39   2024-39    2024-09\n",
       "56812  Microsoft Azure Sponsorship  82375e17-0dda-4790-b6e8-c565d4f08e87 2024-09-21  17b3fc96-9141-4e25-88f2-b8953f3ca784  Virtual Machines             Dv3/DSv3 Series          BR South                                      D2 v3/D2s v3 24.000000 3.816000  portal  2024      9   21            38   2024-38    2024-09\n",
       "56782  Microsoft Azure Sponsorship  82375e17-0dda-4790-b6e8-c565d4f08e87 2024-09-19  12da282f-7e96-49e2-983a-9a65da2a4866           Storage                      Tables               All                                   Read Operations  0.010800 0.000004  portal  2024      9   19            38   2024-38    2024-09\n",
       "56752  Microsoft Azure Sponsorship  82375e17-0dda-4790-b6e8-c565d4f08e87 2024-10-07  3b2bbe89-0295-459e-b5e9-7e43b90318da        Logic Apps                         All               All                        Consumption Data Retention  0.000016 0.000002  portal  2024     10    7            41   2024-41    2024-10\n",
       "56722  Microsoft Azure Sponsorship  82375e17-0dda-4790-b6e8-c565d4f08e87 2024-10-06  ce957933-8287-4f8b-83ee-53a5cbe056d9           Storage  Standard SSD Managed Disks               All                            E4 LRS Disk Operations  5.295300 0.010592  portal  2024     10    6            40   2024-40    2024-10\n",
       "56692  Microsoft Azure Sponsorship  82375e17-0dda-4790-b6e8-c565d4f08e87 2024-09-30  c089a13a-9dd0-44b5-aa9e-44a77bbd6788         Bandwidth                         All          BR South                        Standard Data Transfer Out  9.556648 1.729754  portal  2024      9   30            40   2024-40    2024-09\n",
       "56662  Microsoft Azure Sponsorship  82375e17-0dda-4790-b6e8-c565d4f08e87 2024-09-28  9be71924-a8d1-40a5-a065-2ac0c5d69a07        Logic Apps                         All          BR South                      Consumption Built-in Actions  4.000000 0.000128  portal  2024      9   28            39   2024-39    2024-09"
      ]
     },
     "execution_count": 101,
     "metadata": {},
     "output_type": "execute_result"
    }
   ],
   "source": [
    "df.iloc[len(df):(len(df)-300):-30]"
   ]
  },
  {
   "cell_type": "markdown",
   "metadata": {},
   "source": [
    "## 1.2 Data Dimension"
   ]
  },
  {
   "cell_type": "code",
   "execution_count": 102,
   "metadata": {},
   "outputs": [
    {
     "data": {
      "text/plain": [
       "(56933, 17)"
      ]
     },
     "execution_count": 102,
     "metadata": {},
     "output_type": "execute_result"
    }
   ],
   "source": [
    "df.shape"
   ]
  },
  {
   "cell_type": "markdown",
   "metadata": {},
   "source": [
    "## 1.3 Data Types"
   ]
  },
  {
   "cell_type": "code",
   "execution_count": 103,
   "metadata": {},
   "outputs": [
    {
     "name": "stdout",
     "output_type": "stream",
     "text": [
      "<class 'pandas.core.frame.DataFrame'>\n",
      "RangeIndex: 56933 entries, 0 to 56932\n",
      "Data columns (total 17 columns):\n",
      " #   Column             Non-Null Count  Dtype         \n",
      "---  ------             --------------  -----         \n",
      " 0   subscription_name  56933 non-null  object        \n",
      " 1   subscription_guid  56933 non-null  object        \n",
      " 2   date               56933 non-null  datetime64[ns]\n",
      " 3   resource_guid      56933 non-null  object        \n",
      " 4   service_name       56933 non-null  object        \n",
      " 5   service_type       56933 non-null  object        \n",
      " 6   service_region     56933 non-null  object        \n",
      " 7   service_resource   56933 non-null  object        \n",
      " 8   quantity           56933 non-null  float64       \n",
      " 9   cost               56933 non-null  float64       \n",
      " 10  maquina            56933 non-null  object        \n",
      " 11  year               56933 non-null  int32         \n",
      " 12  month              56933 non-null  int32         \n",
      " 13  day                56933 non-null  int32         \n",
      " 14  week_of_year       56933 non-null  UInt32        \n",
      " 15  year_week          56933 non-null  object        \n",
      " 16  year_month         56933 non-null  object        \n",
      "dtypes: UInt32(1), datetime64[ns](1), float64(2), int32(3), object(10)\n",
      "memory usage: 6.6+ MB\n"
     ]
    }
   ],
   "source": [
    "df.info()"
   ]
  },
  {
   "cell_type": "code",
   "execution_count": 104,
   "metadata": {},
   "outputs": [
    {
     "data": {
      "text/plain": [
       "subscription_name    0\n",
       "subscription_guid    0\n",
       "date                 0\n",
       "resource_guid        0\n",
       "service_name         0\n",
       "service_type         0\n",
       "service_region       0\n",
       "service_resource     0\n",
       "quantity             0\n",
       "cost                 0\n",
       "maquina              0\n",
       "year                 0\n",
       "month                0\n",
       "day                  0\n",
       "week_of_year         0\n",
       "year_week            0\n",
       "year_month           0\n",
       "dtype: int64"
      ]
     },
     "execution_count": 104,
     "metadata": {},
     "output_type": "execute_result"
    }
   ],
   "source": [
    "df.isna().sum()"
   ]
  },
  {
   "cell_type": "markdown",
   "metadata": {},
   "source": [
    "## 1.5 Estatística Descritiva"
   ]
  },
  {
   "cell_type": "code",
   "execution_count": 105,
   "metadata": {},
   "outputs": [],
   "source": [
    "variaveis_categoricas = df.select_dtypes( exclude = [ 'int32','int64', 'float64','datetime64[ns]'])\n",
    "variaveis_numericas = df.select_dtypes( include = [ 'int32','int64', 'float64'])"
   ]
  },
  {
   "cell_type": "markdown",
   "metadata": {},
   "source": [
    "### 1.5.1 Variáveis Numéricas"
   ]
  },
  {
   "cell_type": "code",
   "execution_count": 106,
   "metadata": {},
   "outputs": [
    {
     "data": {
      "text/html": [
       "<div>\n",
       "<style scoped>\n",
       "    .dataframe tbody tr th:only-of-type {\n",
       "        vertical-align: middle;\n",
       "    }\n",
       "\n",
       "    .dataframe tbody tr th {\n",
       "        vertical-align: top;\n",
       "    }\n",
       "\n",
       "    .dataframe thead th {\n",
       "        text-align: right;\n",
       "    }\n",
       "</style>\n",
       "<table border=\"1\" class=\"dataframe\">\n",
       "  <thead>\n",
       "    <tr style=\"text-align: right;\">\n",
       "      <th></th>\n",
       "      <th>variaveis</th>\n",
       "      <th>minimo</th>\n",
       "      <th>maximo</th>\n",
       "      <th>range</th>\n",
       "      <th>media</th>\n",
       "      <th>mediana</th>\n",
       "      <th>desvio_padrao</th>\n",
       "      <th>assimetria</th>\n",
       "      <th>curtosis</th>\n",
       "    </tr>\n",
       "  </thead>\n",
       "  <tbody>\n",
       "    <tr>\n",
       "      <th>0</th>\n",
       "      <td>quantity</td>\n",
       "      <td>0.000000</td>\n",
       "      <td>832.332400</td>\n",
       "      <td>832.332400</td>\n",
       "      <td>8.029545</td>\n",
       "      <td>0.070638</td>\n",
       "      <td>26.658100</td>\n",
       "      <td>8.571905</td>\n",
       "      <td>120.598285</td>\n",
       "    </tr>\n",
       "    <tr>\n",
       "      <th>1</th>\n",
       "      <td>cost</td>\n",
       "      <td>0.000000</td>\n",
       "      <td>14.386982</td>\n",
       "      <td>14.386982</td>\n",
       "      <td>0.350305</td>\n",
       "      <td>0.011437</td>\n",
       "      <td>0.766550</td>\n",
       "      <td>3.400159</td>\n",
       "      <td>21.923725</td>\n",
       "    </tr>\n",
       "    <tr>\n",
       "      <th>2</th>\n",
       "      <td>year</td>\n",
       "      <td>2021.000000</td>\n",
       "      <td>2024.000000</td>\n",
       "      <td>3.000000</td>\n",
       "      <td>2022.721181</td>\n",
       "      <td>2023.000000</td>\n",
       "      <td>0.928948</td>\n",
       "      <td>-0.022849</td>\n",
       "      <td>-1.015652</td>\n",
       "    </tr>\n",
       "    <tr>\n",
       "      <th>3</th>\n",
       "      <td>month</td>\n",
       "      <td>1.000000</td>\n",
       "      <td>12.000000</td>\n",
       "      <td>11.000000</td>\n",
       "      <td>6.828570</td>\n",
       "      <td>7.000000</td>\n",
       "      <td>3.464124</td>\n",
       "      <td>-0.128836</td>\n",
       "      <td>-1.201212</td>\n",
       "    </tr>\n",
       "    <tr>\n",
       "      <th>4</th>\n",
       "      <td>day</td>\n",
       "      <td>1.000000</td>\n",
       "      <td>31.000000</td>\n",
       "      <td>30.000000</td>\n",
       "      <td>15.763529</td>\n",
       "      <td>16.000000</td>\n",
       "      <td>8.788142</td>\n",
       "      <td>0.000590</td>\n",
       "      <td>-1.191378</td>\n",
       "    </tr>\n",
       "  </tbody>\n",
       "</table>\n",
       "</div>"
      ],
      "text/plain": [
       "  variaveis      minimo      maximo      range       media     mediana  desvio_padrao  assimetria   curtosis\n",
       "0  quantity    0.000000  832.332400 832.332400    8.029545    0.070638      26.658100    8.571905 120.598285\n",
       "1      cost    0.000000   14.386982  14.386982    0.350305    0.011437       0.766550    3.400159  21.923725\n",
       "2      year 2021.000000 2024.000000   3.000000 2022.721181 2023.000000       0.928948   -0.022849  -1.015652\n",
       "3     month    1.000000   12.000000  11.000000    6.828570    7.000000       3.464124   -0.128836  -1.201212\n",
       "4       day    1.000000   31.000000  30.000000   15.763529   16.000000       8.788142    0.000590  -1.191378"
      ]
     },
     "execution_count": 106,
     "metadata": {},
     "output_type": "execute_result"
    }
   ],
   "source": [
    "estatistica_numerica = estatistica_descritiva(variaveis_numericas)\n",
    "estatistica_numerica"
   ]
  },
  {
   "cell_type": "code",
   "execution_count": 107,
   "metadata": {},
   "outputs": [
    {
     "data": {
      "image/png": "[encoded data removed]",
      "text/plain": [
       "<Figure size 1800x1000 with 6 Axes>"
      ]
     },
     "metadata": {},
     "output_type": "display_data"
    }
   ],
   "source": [
    "variaveis_numericas.hist(bins = 30);"
   ]
  },
  {
   "cell_type": "code",
   "execution_count": 108,
   "metadata": {},
   "outputs": [
    {
     "data": {
      "image/png": "[encoded data removed]",
      "text/plain": [
       "<Figure size 1800x1000 with 1 Axes>"
      ]
     },
     "metadata": {},
     "output_type": "display_data"
    }
   ],
   "source": [
    "df['week_of_year'].hist(bins = 52);"
   ]
  },
  {
   "cell_type": "markdown",
   "metadata": {},
   "source": [
    "### 1.5.2 Vairiáveis Categóricas"
   ]
  },
  {
   "cell_type": "code",
   "execution_count": 109,
   "metadata": {},
   "outputs": [
    {
     "data": {
      "text/html": [
       "<div>\n",
       "<style scoped>\n",
       "    .dataframe tbody tr th:only-of-type {\n",
       "        vertical-align: middle;\n",
       "    }\n",
       "\n",
       "    .dataframe tbody tr th {\n",
       "        vertical-align: top;\n",
       "    }\n",
       "\n",
       "    .dataframe thead th {\n",
       "        text-align: right;\n",
       "    }\n",
       "</style>\n",
       "<table border=\"1\" class=\"dataframe\">\n",
       "  <thead>\n",
       "    <tr style=\"text-align: right;\">\n",
       "      <th></th>\n",
       "      <th>count</th>\n",
       "      <th>mean</th>\n",
       "      <th>std</th>\n",
       "      <th>min</th>\n",
       "      <th>25%</th>\n",
       "      <th>50%</th>\n",
       "      <th>75%</th>\n",
       "      <th>max</th>\n",
       "    </tr>\n",
       "  </thead>\n",
       "  <tbody>\n",
       "    <tr>\n",
       "      <th>week_of_year</th>\n",
       "      <td>56933.000000</td>\n",
       "      <td>27.897037</td>\n",
       "      <td>15.068205</td>\n",
       "      <td>1.000000</td>\n",
       "      <td>15.000000</td>\n",
       "      <td>29.000000</td>\n",
       "      <td>41.000000</td>\n",
       "      <td>52.000000</td>\n",
       "    </tr>\n",
       "  </tbody>\n",
       "</table>\n",
       "</div>"
      ],
      "text/plain": [
       "                    count      mean       std      min       25%       50%       75%       max\n",
       "week_of_year 56933.000000 27.897037 15.068205 1.000000 15.000000 29.000000 41.000000 52.000000"
      ]
     },
     "execution_count": 109,
     "metadata": {},
     "output_type": "execute_result"
    }
   ],
   "source": [
    "variaveis_categoricas.describe().T"
   ]
  },
  {
   "cell_type": "code",
   "execution_count": 110,
   "metadata": {},
   "outputs": [
    {
     "name": "stdout",
     "output_type": "stream",
     "text": [
      "Atributo: subscription_name\n",
      "Valores Únicos: 1\n",
      "Valores Descritos: ['Microsoft Azure Sponsorship']\n",
      "\n",
      "Atributo: subscription_guid\n",
      "Valores Únicos: 3\n",
      "Valores Descritos: ['0b1856f5-ffb1-4fb2-9b31-ebc3ddeacf68', '15dc64f3-696a-48fc-9169-8467e3f7bba0', '82375e17-0dda-4790-b6e8-c565d4f08e87']\n",
      "\n",
      "Atributo: resource_guid\n",
      "Valores Únicos: 86\n",
      "Valores Descritos: ['05212985-faad-4b6c-8ddb-c08cc8e37f79', '0b248445-aa24-4fe8-a794-a174929327bd', '0b608a26-f611-4232-8192-ce81b6b57194', '0ddb5c81-143d-52f8-9ea3-29b64cc0ef97', '0f68ed30-d33d-4b1b-8533-f16ae059f71d', '0f824807-2376-435c-95c9-f992b67a07b0', '0fcb37f3-8a5a-4e81-820e-848908a57e44', '11ecb7d4-b18a-447a-bb0c-f057585fc701', '12da282f-7e96-49e2-983a-9a65da2a4866', '13c2d6a4-7f53-47a9-b6aa-8bb6167ac54d', '17b3fc96-9141-4e25-88f2-b8953f3ca784', '1adb9ebc-c08f-426d-9aa4-8af9de7b6d74', '1b74a37f-45a2-4266-bf07-2764801d0b85', '211e620c-ebcf-4db5-a7fd-996abebe9546', '26ce34b7-67b3-480d-9d1b-54a7fb80f67a', '27426e86-f015-4506-a8cc-26c18688990a', '28339581-90e9-4bde-93d2-a61b4f2a0b5e', '2dba9884-2518-4427-90ff-d2c100c5f775', '2f2a1523-d8af-5cea-9b91-d0285e17e343', '2f718765-8dfc-40cf-a636-b2d7d169d7d2', '334e1296-793b-4bd4-96ed-e82953411ce3', '37a224be-47e1-42bd-b2aa-f08060e965ee', '39edab1a-b691-4088-9bb2-6ffe51d91da4', '3b2bbe89-0295-459e-b5e9-7e43b90318da', '3da19ca3-6007-4a29-89ea-cab10c2010ed', '3f2b1e1c-c886-4ec6-ad6f-dd0ef38819c9', '40551b4c-e8be-48ed-b70b-f8d25c7de724', '416a0a14-9d61-438f-a875-779e7b0e38c3', '42e2a22f-fabf-41ea-a21e-e86bb3ff5799', '43034668-a244-4031-bb4d-be5bcce22c5f', '45459e84-815c-5b78-be46-75f78a824d07', '5101ea73-2a5b-4120-b00e-30c13185e5a5', '546a93ff-42e9-4844-b221-a53ae7524bab', '60e3c37c-1ab8-41f8-891d-047657ae5ef4', '6551548b-7e61-4f51-896e-eb907d256b95', '69147946-58dc-4ede-890a-815890b4ba03', '6a99015c-d33f-4f46-ae59-2e4d14091aa8', '6db4a779-0d75-481a-af26-026ccf5795c8', '73ad5336-6f64-4263-9537-1d571874dac6', '761abab8-259d-4206-a6ae-707ed03fc540', '82b5adb9-7503-4970-98cb-1d8537c51056', '82cd70ab-1aee-4b30-bc04-8b71e1204dbc', '839c4a20-9584-42af-a885-2798d1f027ba', '8d099b7b-bce4-4fd4-bcc3-95d867d84332', '8dbc6497-3d3a-47d6-9de4-dd42072fad66', '8f967c58-b144-4bd7-8882-8bf02767c839', '923978e1-fd3f-4bd5-a798-f4b533057e46', '92f6f16a-1e67-4a1d-8271-9d9498d609a1', '95eca2c1-9519-4c55-baa1-9a0e0b201e25', '97452b97-ca28-499c-b86e-c4910b80a75d', '9995d93a-7d35-4d3f-9c69-7a7fea447ef4', '9be71924-a8d1-40a5-a065-2ac0c5d69a07', '9c150bf9-2bad-430e-a53c-c213804f49ef', '9cb0bde8-bc0d-468c-8423-a25fe06779d3', 'a10dad63-7382-402b-b8a8-3aa68b93677f', 'a97f31a2-0fb1-4d64-bb43-a2399dd31f0b', 'aa932d74-52b8-4ce3-944b-079512ab0f4a', 'ac2340a7-812b-4fb4-981f-a4701844be2e', 'ae331802-83a5-4b9e-b287-85675f794e3d', 'b0931109-47c5-42e9-a548-00adac804b4b', 'b9e5e77c-a0b3-4a2c-9b8b-57fa54f31c52', 'beb1457b-1ab8-4e38-8021-bf7e39b1014b', 'c01a1eed-b19a-4aad-bb83-8d62cdc29778', 'c089a13a-9dd0-44b5-aa9e-44a77bbd6788', 'c0f5cb45-6fb1-41c9-8545-72ad400d9da4', 'c52a982d-f2ca-46c2-9e2a-06dae03a531d', 'c80a3636-2edb-4248-bcb1-04ef818a75ac', 'cbe92596-7f61-5f48-ba3d-d624aa141eaf', 'cc44d8d6-484a-41f0-87cd-7e1496651906', 'cd4cfb51-f027-4d88-89d0-80e78795f00e', 'ce957933-8287-4f8b-83ee-53a5cbe056d9', 'd10d7086-9771-4cfa-b049-3287c97c5f1d', 'd23a5753-ff85-4ddf-af28-8cc5cf2d3882', 'd54686f0-77ff-43f3-9e7c-2099030d32a7', 'dbefcfc1-e3f6-409b-be6d-9cd7b00724a5', 'e07fca8f-2362-4b83-99c2-05adfa84adbd', 'e1115bb5-8d79-4530-93c9-a1c947d03837', 'e53063d5-dd23-4bdf-a1df-cdfe862d01ab', 'e53c4e1b-4859-4305-8749-d8ea4980ab9f', 'e6ab7238-e433-4fe0-a2b2-2b2564df2cdb', 'ed8a651a-e0a3-4de6-a8ae-3b4ce8cb72cf', 'f114cb19-ea64-40b5-bcd7-aee474b62853', 'f1fcf7da-9502-4a86-bfe7-9c2646efa203', 'f8c187bb-5a47-46ae-b874-f186d207fff4', 'f90f81d2-238a-49d0-9f1b-9df13a859843', 'fec1d8d1-cc81-4d54-a391-83e228df4928']\n",
      "\n",
      "Atributo: service_name\n",
      "Valores Únicos: 15\n",
      "Valores Descritos: ['Automation', 'Azure App Service', 'Azure DNS', 'Azure Monitor', 'Backup', 'Bandwidth', 'Functions', 'Key Vault', 'Log Analytics', 'Logic Apps', 'Network Watcher', 'Storage', 'Virtual Machines', 'Virtual Machines Licenses', 'Virtual Network']\n",
      "\n",
      "Atributo: service_type\n",
      "Valores Únicos: 24\n",
      "Valores Descritos: ['All', 'BS Series', 'BS Series Windows', 'Basv2 Series', 'Dv3/DSv3 Series', 'Files', 'Files v2', 'Free Plan', 'General Block Blob', 'IP Addresses', 'Inter-Region', 'Premium', 'Premium Page Blob', 'Premium SSD Managed Disks', 'Private Link', 'Process', 'Queues v2', 'SQL Server Azure Hybrid Benefit', 'SQL Server Developer Edition', 'Standard HDD Managed Disks', 'Standard Page Blob', 'Standard SSD Managed Disks', 'Tables', 'Tiered Block Blob']\n",
      "\n",
      "Atributo: service_region\n",
      "Valores Únicos: 7\n",
      "Valores Descritos: ['All', 'BR South', 'Global', 'Intercontinental', 'North America', 'South America', 'US East']\n",
      "\n",
      "Atributo: service_resource\n",
      "Valores Únicos: 62\n",
      "Valores Descritos: ['Alerts System Log Monitored at 5 Minute Frequency', 'All Other Operations', 'Azure VM Protected Instances', 'B2als v2', 'B2ms', 'B2s', 'Basic IPv4 Dynamic Public IP', 'Basic IPv4 Static Public IP', 'Basic Runtime', 'Batch Write Operations', 'Consumption Built-in Actions', 'Consumption Data Retention', 'Consumption Standard Connector Actions', 'D2 v3/D2s v3', 'D4 v3/D4s v3', 'Delete Operations', 'Developer License', 'Disk Read Operations', 'Disk Write Operations', 'E10 LRS Disk', 'E15 LRS Disk', 'E20 LRS Disk', 'E3 LRS Disk', 'E4 LRS Disk', 'E4 LRS Disk Operations', 'E6 LRS Disk', 'F1 App', 'GRS Data Stored', 'Hot ZRS Write Operations', 'Inter Continent Data Transfer In - LATAM To Any', 'Inter Continent Data Transfer Out - LATAM To Any', 'Inter Continent Data Transfer Out - NAM or EU To Any', 'Intra Continent Data Transfer Out', 'LRS Data Stored', 'LRS List and Create Container Operations', 'LRS Write Operations', 'Operations', 'P10 LRS Disk', 'P4 LRS Disk', 'P6 LRS Disk', 'Pay-as-you-go Data Ingestion', 'Premium Memory Duration', 'Premium vCPU Duration', 'Private Zone', 'Protocol Operations', 'Public Queries', 'Public Zone', 'Read Operations', 'S4 LRS Disk Operations', 'Snapshots LRS Snapshots', 'Snapshots ZRS Snapshots', 'Standard Data Transfer Out', 'Standard Diagnostic Tool API', 'Standard Edition License', 'Standard IPv4 Static Public IP', 'Standard Private Endpoint', 'Write Operations', 'ZRS Class 1 Operations', 'ZRS Data Stored', 'ZRS Protocol Operations', 'ZRS Read Operations', 'ZRS Write Operations']\n",
      "\n",
      "Atributo: maquina\n",
      "Valores Únicos: 3\n",
      "Valores Descritos: ['ceaec', 'portal', 'unicin']\n",
      "\n",
      "Atributo: week_of_year\n",
      "Valores Únicos: 52\n",
      "Valores Descritos: [1, 2, 3, 4, 5, 6, 7, 8, 9, 10, 11, 12, 13, 14, 15, 16, 17, 18, 19, 20, 21, 22, 23, 24, 25, 26, 27, 28, 29, 30, 31, 32, 33, 34, 35, 36, 37, 38, 39, 40, 41, 42, 43, 44, 45, 46, 47, 48, 49, 50, 51, 52]\n",
      "\n",
      "Atributo: year_week\n",
      "Valores Únicos: 159\n",
      "Valores Descritos: ['2021-41', '2021-42', '2021-43', '2021-44', '2021-45', '2021-46', '2021-47', '2021-48', '2021-49', '2021-50', '2021-51', '2021-52', '2022-00', '2022-01', '2022-02', '2022-03', '2022-04', '2022-05', '2022-06', '2022-07', '2022-08', '2022-09', '2022-10', '2022-11', '2022-12', '2022-13', '2022-14', '2022-15', '2022-16', '2022-17', '2022-18', '2022-19', '2022-20', '2022-21', '2022-22', '2022-23', '2022-24', '2022-25', '2022-26', '2022-27', '2022-28', '2022-29', '2022-30', '2022-31', '2022-32', '2022-33', '2022-34', '2022-35', '2022-36', '2022-37', '2022-38', '2022-39', '2022-40', '2022-41', '2022-42', '2022-43', '2022-44', '2022-45', '2022-46', '2022-47', '2022-48', '2022-49', '2022-50', '2022-51', '2022-52', '2023-00', '2023-01', '2023-02', '2023-03', '2023-04', '2023-05', '2023-06', '2023-07', '2023-08', '2023-09', '2023-10', '2023-11', '2023-12', '2023-13', '2023-14', '2023-15', '2023-16', '2023-17', '2023-18', '2023-19', '2023-20', '2023-21', '2023-22', '2023-23', '2023-24', '2023-25', '2023-26', '2023-27', '2023-28', '2023-29', '2023-30', '2023-31', '2023-32', '2023-33', '2023-34', '2023-35', '2023-36', '2023-37', '2023-38', '2023-39', '2023-40', '2023-41', '2023-42', '2023-43', '2023-44', '2023-45', '2023-46', '2023-47', '2023-48', '2023-49', '2023-50', '2023-51', '2023-52', '2024-01', '2024-02', '2024-03', '2024-04', '2024-05', '2024-06', '2024-07', '2024-08', '2024-09', '2024-10', '2024-11', '2024-12', '2024-13', '2024-14', '2024-15', '2024-16', '2024-17', '2024-18', '2024-19', '2024-20', '2024-21', '2024-22', '2024-23', '2024-24', '2024-25', '2024-26', '2024-27', '2024-28', '2024-29', '2024-30', '2024-31', '2024-32', '2024-33', '2024-34', '2024-35', '2024-36', '2024-37', '2024-38', '2024-39', '2024-40', '2024-41']\n",
      "\n",
      "Atributo: year_month\n",
      "Valores Únicos: 37\n",
      "Valores Descritos: ['2021-10', '2021-11', '2021-12', '2022-01', '2022-02', '2022-03', '2022-04', '2022-05', '2022-06', '2022-07', '2022-08', '2022-09', '2022-10', '2022-11', '2022-12', '2023-01', '2023-02', '2023-03', '2023-04', '2023-05', '2023-06', '2023-07', '2023-08', '2023-09', '2023-10', '2023-11', '2023-12', '2024-01', '2024-02', '2024-03', '2024-04', '2024-05', '2024-06', '2024-07', '2024-08', '2024-09', '2024-10']\n",
      "\n"
     ]
    }
   ],
   "source": [
    "visualizacao_dados_categoricos(variaveis_categoricas)"
   ]
  },
  {
   "cell_type": "markdown",
   "metadata": {},
   "source": [
    "# 1.6 Export PKL"
   ]
  },
  {
   "cell_type": "code",
   "execution_count": 111,
   "metadata": {},
   "outputs": [],
   "source": [
    "exportar_df(df=df)"
   ]
  }
 ],
 "metadata": {
  "kernelspec": {
   "display_name": "Python 3.11.9 ('v3119')",
   "language": "python",
   "name": "python3"
  },
  "language_info": {
   "codemirror_mode": {
    "name": "ipython",
    "version": 3
   },
   "file_extension": ".py",
   "mimetype": "text/x-python",
   "name": "python",
   "nbconvert_exporter": "python",
   "pygments_lexer": "ipython3",
   "version": "3.11.9"
  },
  "orig_nbformat": 4,
  "vscode": {
   "interpreter": {
    "hash": "d9fd945bec87ea1faae53cf0492201e0c2959d8565ad017415241cf5b171a17a"
   }
  }
 },
 "nbformat": 4,
 "nbformat_minor": 2
}
