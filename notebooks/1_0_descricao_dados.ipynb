{
 "cells": [
  {
   "cell_type": "markdown",
   "metadata": {},
   "source": [
    "# 0 Imports"
   ]
  },
  {
   "cell_type": "code",
   "execution_count": 30,
   "metadata": {},
   "outputs": [],
   "source": [
    "import pickle\n",
    "import datetime\n",
    "import inflection\n",
    "\n",
    "import numpy    as np\n",
    "import pandas   as pd\n",
    "import seaborn  as sns\n",
    "\n",
    "from matplotlib import pyplot as plt\n",
    "\n",
    "from IPython.display        import Image\n",
    "from IPython.core.display   import HTML"
   ]
  },
  {
   "cell_type": "markdown",
   "metadata": {},
   "source": [
    "## 0.1 Funções Suporte"
   ]
  },
  {
   "cell_type": "code",
   "execution_count": 77,
   "metadata": {},
   "outputs": [],
   "source": [
    "# Supressão da notação científica.\n",
    "np.set_printoptions(suppress=True)\n",
    "pd.set_option('display.float_format', '{:.6f}'.format)"
   ]
  },
  {
   "cell_type": "code",
   "execution_count": 78,
   "metadata": {},
   "outputs": [],
   "source": [
    "def estatistica_descritiva(df1):\n",
    "    # Medidas de tendência central - Mean, Median\n",
    "    media = pd.DataFrame(df1.apply(np.mean)).T\n",
    "    mediana = pd.DataFrame(df1.apply(np.median)).T\n",
    "    \n",
    "    # Medidas de Dispersão - Std, min, max, range, skew, kurtosis\n",
    "    desvio_padrao = pd.DataFrame(df1.apply(np.std)).T\n",
    "    minimo = pd.DataFrame(df1.apply(np.min)).T\n",
    "    maximo = pd.DataFrame(df1.apply(np.max)).T\n",
    "    range = pd.DataFrame(df1.apply(lambda x : x.max() - x.min())).T\n",
    "    assimetria = pd.DataFrame(df1.apply(lambda x : x.skew())).T\n",
    "    curtosis = pd.DataFrame(df1.apply(lambda x : x.kurtosis())).T\n",
    "    \n",
    "    estatistica = pd.concat([minimo, maximo, range, media, mediana, desvio_padrao, assimetria, curtosis]).T.reset_index()\n",
    "    estatistica.columns = ['variaveis','minimo', 'maximo', 'range', 'media', 'mediana', 'desvio_padrao', 'assimetria', 'curtosis']\n",
    "    \n",
    "    return estatistica"
   ]
  },
  {
   "cell_type": "code",
   "execution_count": 79,
   "metadata": {},
   "outputs": [],
   "source": [
    "def visualizacao_dados_categoricos(df):\n",
    "    for i in df:\n",
    "        print(f'Atributo: {i} - {df[i].sort_values().unique().tolist()}\\n')"
   ]
  },
  {
   "cell_type": "code",
   "execution_count": null,
   "metadata": {},
   "outputs": [],
   "source": [
    "## Function to reduce the DF size\n",
    "## It is necessary that after using this code, carefully check the output results for each column.\n",
    "def reduce_mem_usage(df, verbose=True):\n",
    "    numerics = ['int16', 'int32', 'int64', 'float16', 'float32', 'float64']\n",
    "    start_mem = df.memory_usage().sum() / 10242\n",
    "    for col in df.columns:\n",
    "        col_type = df[col].dtypes\n",
    "        if col_type in numerics:\n",
    "            c_min = df[col].min()\n",
    "            c_max = df[col].max()\n",
    "            if str(col_type)[:3] == 'int':\n",
    "                if c_min > np.iinfo(np.int8).min and c_max < np.iinfo(np.int8).max:\n",
    "                    df[col] = df[col].astype(np.int8)\n",
    "                elif c_min > np.iinfo(np.int16).min and c_max < np.iinfo(np.int16).max:\n",
    "                    df[col] = df[col].astype(np.int16)\n",
    "                elif c_min > np.iinfo(np.int32).min and c_max < np.iinfo(np.int32).max:\n",
    "                    df[col] = df[col].astype(np.int32)\n",
    "                elif c_min > np.iinfo(np.int64).min and c_max < np.iinfo(np.int64).max:\n",
    "                    df[col] = df[col].astype(np.int64)\n",
    "            else:\n",
    "                if c_min > np.finfo(np.float16).min and c_max < np.finfo(np.float16).max:\n",
    "                    df[col] = df[col].astype(np.float16)\n",
    "                elif c_min > np.finfo(np.float32).min and c_max < np.finfo(np.float32).max:\n",
    "                    df[col] = df[col].astype(np.float32)\n",
    "                else:\n",
    "                    df[col] = df[col].astype(np.float64)\n",
    "    end_mem = df.memory_usage().sum() / 10242\n",
    "    if verbose: print('Mem. usage decreased to {:5.2f} Mb ({:.1f}% reduction)'.format(end_mem, 100 * (start_mem - end_mem) / start_mem))\n",
    "    return df"
   ]
  },
  {
   "cell_type": "code",
   "execution_count": 80,
   "metadata": {},
   "outputs": [
    {
     "name": "stdout",
     "output_type": "stream",
     "text": [
      "%pylab is deprecated, use %matplotlib inline and import the required libraries.\n",
      "Populating the interactive namespace from numpy and matplotlib\n"
     ]
    },
    {
     "data": {
      "text/html": [
       "<style>.container { width: 100% !important;} </style>"
      ],
      "text/plain": [
       "<IPython.core.display.HTML object>"
      ]
     },
     "metadata": {},
     "output_type": "display_data"
    }
   ],
   "source": [
    "def jupyter_settings():\n",
    "    %matplotlib inline\n",
    "    %pylab inline\n",
    "    \n",
    "    plt.style.use( 'bmh' )\n",
    "    plt.rcParams['figure.figsize'] = [18,10]\n",
    "    plt.rcParams['font.size'] = 24\n",
    "    \n",
    "    display( HTML('<style>.container { width: 100% !important;} </style>') )\n",
    "    pd.options.display.max_columns = None\n",
    "    pd.options.display.max_rows = None\n",
    "    pd.set_option( 'display.expand_frame_repr', False)\n",
    "    \n",
    "    sns.set()\n",
    "    \n",
    "jupyter_settings()"
   ]
  },
  {
   "cell_type": "code",
   "execution_count": null,
   "metadata": {},
   "outputs": [],
   "source": [
    "def importar_arquivos()-> list:\n",
    "    \"\"\"\n",
    "    Método para importar os DataFrames salvos no formato pkl.\n",
    "    Por enquanto não vamos receber dados externos, mas no futuro isso será implementado.\n",
    "    \"\"\"\n",
    "    \n",
    "    arquivos = os.listdir(__CAMINHO_RAW)\n",
    "    lista_arquivos = [arquivo for arquivo in arquivos if arquivo.endswith('.csv')]\n",
    "    \n",
    "    return lista_arquivos"
   ]
  },
  {
   "cell_type": "code",
   "execution_count": null,
   "metadata": {},
   "outputs": [],
   "source": [
    "def mundaca_tipo_date(df: pd.DataFrame)-> pd.DataFrame:\n",
    "    \n",
    "    df['date'] = pd.to_datetime( df['date'] )\n",
    "    \n",
    "    return df"
   ]
  },
  {
   "cell_type": "code",
   "execution_count": null,
   "metadata": {},
   "outputs": [],
   "source": [
    "def novas_colunas_date(df:pd.DataFrame)-> pd.DataFrame:\n",
    "    # year\n",
    "    df['year'] = df['date'].dt.year\n",
    "    # month\n",
    "    df['month'] = df['date'].dt.month\n",
    "    # day\n",
    "    df['day'] = df['date'].dt.day\n",
    "    # week of year\n",
    "    df['week_of_year'] = df['date'].dt.isocalendar().week\n",
    "    # year week\n",
    "    df['year_week'] = df['date'].dt.strftime('%Y-%W')\n",
    "    # year month\n",
    "    df['year_month'] = df['date'].dt.strftime('%Y-%m')\n",
    "\n",
    "    df['data_br'] = df['date'].dt.strftime('%d/%m/%Y')\n",
    "    \n",
    "    return df"
   ]
  },
  {
   "cell_type": "code",
   "execution_count": null,
   "metadata": {},
   "outputs": [],
   "source": [
    "def exportar_df(df: pd.DataFrame):\n",
    "    df.to_pickle('../data/external/db_ajustado.pkl')"
   ]
  },
  {
   "cell_type": "code",
   "execution_count": null,
   "metadata": {},
   "outputs": [],
   "source": [
    "def renomear_colunas(df: pd.DataFrame)-> pd.DataFrame:\n",
    "    \n",
    "    columns_old = df.columns\n",
    "    snakecase = lambda x : inflection.underscore(x)\n",
    "    columns_new = list(map(snakecase,columns_old))\n",
    "    df.columns = columns_new\n",
    "    \n",
    "    return df"
   ]
  },
  {
   "cell_type": "code",
   "execution_count": null,
   "metadata": {},
   "outputs": [],
   "source": [
    "def mesclar_arquivos(lista_arquivos: list,)-> pd.DataFrame:\n",
    "    \"\"\"\n",
    "    Método para meclar os DataFrames. Aporveito para acrescentar 1 coluna de identificação da tabela.\n",
    "    Preciso colocar essa identificação para não misturar os dados na hora da análise.\n",
    "    \"\"\"\n",
    "    dfs = pd.DataFrame()\n",
    "    for arquivo in lista_arquivos:\n",
    "    \n",
    "        df = pd.read_csv( os.path.join( __CAMINHO_RAW, arquivo ) )\n",
    "        maquina = arquivo.split('_')[1]\n",
    "        df['maquina'] = maquina\n",
    "    \n",
    "        df = renomear_colunas(df)\n",
    "        df = mundaca_tipo_date(df)\n",
    "\n",
    "        if dfs.empty:\n",
    "            dfs = df\n",
    "        else:\n",
    "            if maquina in dfs['maquina'].values:\n",
    "\n",
    "                date = dfs.loc[dfs['maquina'] == maquina, 'date']\n",
    "                filtro = date.max()\n",
    "                df = df.loc[df['date'] > filtro]\n",
    "                \n",
    "                dfs = pd.concat([dfs,df], ignore_index=True)\n",
    "            else:\n",
    "                dfs = pd.concat([dfs,df], ignore_index=True)\n",
    "\n",
    "    return dfs"
   ]
  },
  {
   "cell_type": "markdown",
   "metadata": {},
   "source": [
    "## 0.2 Load Data"
   ]
  },
  {
   "cell_type": "code",
   "execution_count": 31,
   "metadata": {},
   "outputs": [
    {
     "data": {
      "text/html": [
       "<div>\n",
       "<style scoped>\n",
       "    .dataframe tbody tr th:only-of-type {\n",
       "        vertical-align: middle;\n",
       "    }\n",
       "\n",
       "    .dataframe tbody tr th {\n",
       "        vertical-align: top;\n",
       "    }\n",
       "\n",
       "    .dataframe thead th {\n",
       "        text-align: right;\n",
       "    }\n",
       "</style>\n",
       "<table border=\"1\" class=\"dataframe\">\n",
       "  <thead>\n",
       "    <tr style=\"text-align: right;\">\n",
       "      <th></th>\n",
       "      <th>SubscriptionName</th>\n",
       "      <th>SubscriptionGuid</th>\n",
       "      <th>Date</th>\n",
       "      <th>ResourceGuid</th>\n",
       "      <th>ServiceName</th>\n",
       "      <th>ServiceType</th>\n",
       "      <th>ServiceRegion</th>\n",
       "      <th>ServiceResource</th>\n",
       "      <th>Quantity</th>\n",
       "      <th>Cost</th>\n",
       "    </tr>\n",
       "  </thead>\n",
       "  <tbody>\n",
       "    <tr>\n",
       "      <th>125</th>\n",
       "      <td>Microsoft Azure Sponsorship</td>\n",
       "      <td>82375e17-0dda-4790-b6e8-c565d4f08e87</td>\n",
       "      <td>10/1/2024</td>\n",
       "      <td>0ddb5c81-143d-52f8-9ea3-29b64cc0ef97</td>\n",
       "      <td>Backup</td>\n",
       "      <td>All</td>\n",
       "      <td>US East</td>\n",
       "      <td>GRS Data Stored</td>\n",
       "      <td>2.548416</td>\n",
       "      <td>0.114168</td>\n",
       "    </tr>\n",
       "  </tbody>\n",
       "</table>\n",
       "</div>"
      ],
      "text/plain": [
       "                SubscriptionName                      SubscriptionGuid  \\\n",
       "125  Microsoft Azure Sponsorship  82375e17-0dda-4790-b6e8-c565d4f08e87   \n",
       "\n",
       "          Date                          ResourceGuid ServiceName ServiceType  \\\n",
       "125  10/1/2024  0ddb5c81-143d-52f8-9ea3-29b64cc0ef97      Backup         All   \n",
       "\n",
       "    ServiceRegion  ServiceResource  Quantity      Cost  \n",
       "125       US East  GRS Data Stored  2.548416  0.114168  "
      ]
     },
     "execution_count": 31,
     "metadata": {},
     "output_type": "execute_result"
    }
   ],
   "source": [
    "__CAMINHO_RAW = '../data/raw/'\n",
    "#__CAMINHO_RAW = 'E:/4_arquivos/1_projeto/modelo_unicin/src/data/raw'\n",
    "\n",
    "__CAMINHO_INTERIM = '../data/processed'\n"
   ]
  },
  {
   "cell_type": "code",
   "execution_count": null,
   "metadata": {},
   "outputs": [],
   "source": [
    "lista_arquivos = importar_arquivos()"
   ]
  },
  {
   "cell_type": "markdown",
   "metadata": {},
   "source": [
    "## 0.3 Ajuste primário"
   ]
  },
  {
   "cell_type": "code",
   "execution_count": null,
   "metadata": {},
   "outputs": [],
   "source": [
    "df = mesclar_arquivos(lista_arquivos=lista_arquivos)"
   ]
  },
  {
   "cell_type": "code",
   "execution_count": null,
   "metadata": {},
   "outputs": [],
   "source": [
    "df = novas_colunas_date(df)"
   ]
  },
  {
   "cell_type": "markdown",
   "metadata": {},
   "source": [
    "# 1.0 Descrição dos Dados"
   ]
  },
  {
   "cell_type": "markdown",
   "metadata": {},
   "source": [
    "# Data Sample"
   ]
  },
  {
   "cell_type": "code",
   "execution_count": null,
   "metadata": {},
   "outputs": [],
   "source": [
    "df.sample(5)"
   ]
  },
  {
   "cell_type": "markdown",
   "metadata": {},
   "source": [
    "## 1.2 Data Dimension"
   ]
  },
  {
   "cell_type": "code",
   "execution_count": 83,
   "metadata": {},
   "outputs": [
    {
     "data": {
      "text/plain": [
       "(4728, 10)"
      ]
     },
     "execution_count": 83,
     "metadata": {},
     "output_type": "execute_result"
    }
   ],
   "source": [
    "df.shape"
   ]
  },
  {
   "cell_type": "markdown",
   "metadata": {},
   "source": [
    "## 1.3 Data Types"
   ]
  },
  {
   "cell_type": "code",
   "execution_count": 84,
   "metadata": {},
   "outputs": [
    {
     "name": "stdout",
     "output_type": "stream",
     "text": [
      "<class 'pandas.core.frame.DataFrame'>\n",
      "RangeIndex: 4728 entries, 0 to 4727\n",
      "Data columns (total 10 columns):\n",
      " #   Column             Non-Null Count  Dtype  \n",
      "---  ------             --------------  -----  \n",
      " 0   subscription_name  4728 non-null   object \n",
      " 1   subscription_guid  4728 non-null   object \n",
      " 2   date               4728 non-null   object \n",
      " 3   resource_guid      4728 non-null   object \n",
      " 4   service_name       4728 non-null   object \n",
      " 5   service_type       4728 non-null   object \n",
      " 6   service_region     4728 non-null   object \n",
      " 7   service_resource   4728 non-null   object \n",
      " 8   quantity           4728 non-null   float64\n",
      " 9   cost               4728 non-null   float64\n",
      "dtypes: float64(2), object(8)\n",
      "memory usage: 369.5+ KB\n"
     ]
    }
   ],
   "source": [
    "df.info()"
   ]
  },
  {
   "cell_type": "code",
   "execution_count": 10,
   "metadata": {},
   "outputs": [
    {
     "data": {
      "text/plain": [
       "subscription_name    0\n",
       "subscription_guid    0\n",
       "date                 0\n",
       "resource_guid        0\n",
       "service_name         0\n",
       "service_type         0\n",
       "service_region       0\n",
       "service_resource     0\n",
       "quantity             0\n",
       "cost                 0\n",
       "dtype: int64"
      ]
     },
     "execution_count": 10,
     "metadata": {},
     "output_type": "execute_result"
    }
   ],
   "source": [
    "df.isna().sum()"
   ]
  },
  {
   "cell_type": "markdown",
   "metadata": {},
   "source": [
    "## 1.5 Estatística Descritiva"
   ]
  },
  {
   "cell_type": "code",
   "execution_count": 70,
   "metadata": {},
   "outputs": [],
   "source": [
    "variaveis_categoricas = df.select_dtypes( exclude = ['int64','float64','datetime64[ns]'])\n",
    "variaveis_numericas = df.select_dtypes( include = ['int64','float64'])"
   ]
  },
  {
   "cell_type": "markdown",
   "metadata": {},
   "source": [
    "### 1.5.1 Variáveis Numéricas"
   ]
  },
  {
   "cell_type": "code",
   "execution_count": 71,
   "metadata": {},
   "outputs": [
    {
     "data": {
      "text/html": [
       "<div>\n",
       "<style scoped>\n",
       "    .dataframe tbody tr th:only-of-type {\n",
       "        vertical-align: middle;\n",
       "    }\n",
       "\n",
       "    .dataframe tbody tr th {\n",
       "        vertical-align: top;\n",
       "    }\n",
       "\n",
       "    .dataframe thead th {\n",
       "        text-align: right;\n",
       "    }\n",
       "</style>\n",
       "<table border=\"1\" class=\"dataframe\">\n",
       "  <thead>\n",
       "    <tr style=\"text-align: right;\">\n",
       "      <th></th>\n",
       "      <th>variaveis</th>\n",
       "      <th>minimo</th>\n",
       "      <th>maximo</th>\n",
       "      <th>range</th>\n",
       "      <th>media</th>\n",
       "      <th>mediana</th>\n",
       "      <th>desvio_padrao</th>\n",
       "      <th>assimetria</th>\n",
       "      <th>curtosis</th>\n",
       "    </tr>\n",
       "  </thead>\n",
       "  <tbody>\n",
       "    <tr>\n",
       "      <th>0</th>\n",
       "      <td>quantity</td>\n",
       "      <td>0.000000</td>\n",
       "      <td>169.057400</td>\n",
       "      <td>169.057400</td>\n",
       "      <td>6.477967</td>\n",
       "      <td>0.100008</td>\n",
       "      <td>12.700456</td>\n",
       "      <td>2.588009</td>\n",
       "      <td>11.655654</td>\n",
       "    </tr>\n",
       "    <tr>\n",
       "      <th>1</th>\n",
       "      <td>cost</td>\n",
       "      <td>0.000000</td>\n",
       "      <td>2.472096</td>\n",
       "      <td>2.472096</td>\n",
       "      <td>0.345307</td>\n",
       "      <td>0.006937</td>\n",
       "      <td>0.736648</td>\n",
       "      <td>2.017059</td>\n",
       "      <td>2.268850</td>\n",
       "    </tr>\n",
       "  </tbody>\n",
       "</table>\n",
       "</div>"
      ],
      "text/plain": [
       "  variaveis   minimo     maximo      range    media  mediana  desvio_padrao  assimetria  curtosis\n",
       "0  quantity 0.000000 169.057400 169.057400 6.477967 0.100008      12.700456    2.588009 11.655654\n",
       "1      cost 0.000000   2.472096   2.472096 0.345307 0.006937       0.736648    2.017059  2.268850"
      ]
     },
     "execution_count": 71,
     "metadata": {},
     "output_type": "execute_result"
    }
   ],
   "source": [
    "estatistica_numerica = estatistica_descritiva(variaveis_numericas)\n",
    "estatistica_numerica"
   ]
  },
  {
   "cell_type": "code",
   "execution_count": 72,
   "metadata": {},
   "outputs": [
    {
     "data": {
      "image/png": "[encoded data removed]",
      "text/plain": [
       "<Figure size 1800x1000 with 2 Axes>"
      ]
     },
     "metadata": {},
     "output_type": "display_data"
    }
   ],
   "source": [
    "variaveis_numericas.hist(bins = 25);"
   ]
  },
  {
   "cell_type": "markdown",
   "metadata": {},
   "source": [
    "### 1.5.2 Vairiáveis Categóricas"
   ]
  },
  {
   "cell_type": "code",
   "execution_count": 73,
   "metadata": {},
   "outputs": [
    {
     "data": {
      "text/html": [
       "<div>\n",
       "<style scoped>\n",
       "    .dataframe tbody tr th:only-of-type {\n",
       "        vertical-align: middle;\n",
       "    }\n",
       "\n",
       "    .dataframe tbody tr th {\n",
       "        vertical-align: top;\n",
       "    }\n",
       "\n",
       "    .dataframe thead th {\n",
       "        text-align: right;\n",
       "    }\n",
       "</style>\n",
       "<table border=\"1\" class=\"dataframe\">\n",
       "  <thead>\n",
       "    <tr style=\"text-align: right;\">\n",
       "      <th></th>\n",
       "      <th>count</th>\n",
       "      <th>unique</th>\n",
       "      <th>top</th>\n",
       "      <th>freq</th>\n",
       "    </tr>\n",
       "  </thead>\n",
       "  <tbody>\n",
       "    <tr>\n",
       "      <th>subscription_name</th>\n",
       "      <td>8205</td>\n",
       "      <td>1</td>\n",
       "      <td>Microsoft Azure Sponsorship</td>\n",
       "      <td>8205</td>\n",
       "    </tr>\n",
       "    <tr>\n",
       "      <th>subscription_guid</th>\n",
       "      <td>8205</td>\n",
       "      <td>1</td>\n",
       "      <td>0b1856f5-ffb1-4fb2-9b31-ebc3ddeacf68</td>\n",
       "      <td>8205</td>\n",
       "    </tr>\n",
       "    <tr>\n",
       "      <th>resource_guid</th>\n",
       "      <td>8205</td>\n",
       "      <td>29</td>\n",
       "      <td>40551b4c-e8be-48ed-b70b-f8d25c7de724</td>\n",
       "      <td>366</td>\n",
       "    </tr>\n",
       "    <tr>\n",
       "      <th>service_name</th>\n",
       "      <td>8205</td>\n",
       "      <td>9</td>\n",
       "      <td>Storage</td>\n",
       "      <td>3792</td>\n",
       "    </tr>\n",
       "    <tr>\n",
       "      <th>service_type</th>\n",
       "      <td>8205</td>\n",
       "      <td>14</td>\n",
       "      <td>All</td>\n",
       "      <td>1966</td>\n",
       "    </tr>\n",
       "    <tr>\n",
       "      <th>service_region</th>\n",
       "      <td>8205</td>\n",
       "      <td>6</td>\n",
       "      <td>All</td>\n",
       "      <td>4297</td>\n",
       "    </tr>\n",
       "    <tr>\n",
       "      <th>service_resource</th>\n",
       "      <td>8205</td>\n",
       "      <td>25</td>\n",
       "      <td>LRS Data Stored</td>\n",
       "      <td>1030</td>\n",
       "    </tr>\n",
       "  </tbody>\n",
       "</table>\n",
       "</div>"
      ],
      "text/plain": [
       "                  count unique                                   top  freq\n",
       "subscription_name  8205      1           Microsoft Azure Sponsorship  8205\n",
       "subscription_guid  8205      1  0b1856f5-ffb1-4fb2-9b31-ebc3ddeacf68  8205\n",
       "resource_guid      8205     29  40551b4c-e8be-48ed-b70b-f8d25c7de724   366\n",
       "service_name       8205      9                               Storage  3792\n",
       "service_type       8205     14                                   All  1966\n",
       "service_region     8205      6                                   All  4297\n",
       "service_resource   8205     25                       LRS Data Stored  1030"
      ]
     },
     "execution_count": 73,
     "metadata": {},
     "output_type": "execute_result"
    }
   ],
   "source": [
    "variaveis_categoricas.describe().T"
   ]
  },
  {
   "cell_type": "code",
   "execution_count": 74,
   "metadata": {},
   "outputs": [
    {
     "name": "stdout",
     "output_type": "stream",
     "text": [
      "Atributo: subscription_name - ['Microsoft Azure Sponsorship']\n",
      "\n",
      "Atributo: subscription_guid - ['0b1856f5-ffb1-4fb2-9b31-ebc3ddeacf68']\n",
      "\n",
      "Atributo: resource_guid - ['0b248445-aa24-4fe8-a794-a174929327bd', '0f68ed30-d33d-4b1b-8533-f16ae059f71d', '13c2d6a4-7f53-47a9-b6aa-8bb6167ac54d', '211e620c-ebcf-4db5-a7fd-996abebe9546', '26ce34b7-67b3-480d-9d1b-54a7fb80f67a', '28339581-90e9-4bde-93d2-a61b4f2a0b5e', '37a224be-47e1-42bd-b2aa-f08060e965ee', '3f2b1e1c-c886-4ec6-ad6f-dd0ef38819c9', '40551b4c-e8be-48ed-b70b-f8d25c7de724', '416a0a14-9d61-438f-a875-779e7b0e38c3', '42e2a22f-fabf-41ea-a21e-e86bb3ff5799', '43034668-a244-4031-bb4d-be5bcce22c5f', '5101ea73-2a5b-4120-b00e-30c13185e5a5', '839c4a20-9584-42af-a885-2798d1f027ba', '8f967c58-b144-4bd7-8882-8bf02767c839', '92f6f16a-1e67-4a1d-8271-9d9498d609a1', '95eca2c1-9519-4c55-baa1-9a0e0b201e25', '9995d93a-7d35-4d3f-9c69-7a7fea447ef4', 'a97f31a2-0fb1-4d64-bb43-a2399dd31f0b', 'ae331802-83a5-4b9e-b287-85675f794e3d', 'b9e5e77c-a0b3-4a2c-9b8b-57fa54f31c52', 'beb1457b-1ab8-4e38-8021-bf7e39b1014b', 'c089a13a-9dd0-44b5-aa9e-44a77bbd6788', 'c80a3636-2edb-4248-bcb1-04ef818a75ac', 'ce957933-8287-4f8b-83ee-53a5cbe056d9', 'd54686f0-77ff-43f3-9e7c-2099030d32a7', 'dbefcfc1-e3f6-409b-be6d-9cd7b00724a5', 'ed8a651a-e0a3-4de6-a8ae-3b4ce8cb72cf', 'f114cb19-ea64-40b5-bcd7-aee474b62853']\n",
      "\n",
      "Atributo: service_name - ['Automation', 'Azure DNS', 'Azure Monitor', 'Bandwidth', 'Log Analytics', 'Storage', 'Virtual Machines', 'Virtual Machines Licenses', 'Virtual Network']\n",
      "\n",
      "Atributo: service_type - ['All', 'BS Series Windows', 'Dv3/DSv3 Series', 'Files', 'General Block Blob', 'IP Addresses', 'Inter-Region', 'Premium SSD Managed Disks', 'Process', 'SQL Server Azure Hybrid Benefit', 'Standard Page Blob', 'Standard SSD Managed Disks', 'Tables', 'Tiered Block Blob']\n",
      "\n",
      "Atributo: service_region - ['All', 'BR South', 'Global', 'Intercontinental', 'North America', 'US East']\n",
      "\n",
      "Atributo: service_resource - ['Alerts System Log Monitored at 5 Minute Frequency', 'All Other Operations', 'B2s', 'Basic IPv4 Dynamic Public IP', 'Basic IPv4 Static Public IP', 'Basic Runtime', 'Batch Write Operations', 'D2 v3/D2s v3', 'Disk Read Operations', 'Disk Write Operations', 'E10 LRS Disk', 'E20 LRS Disk', 'E4 LRS Disk Operations', 'Inter Continent Data Transfer Out - LATAM To Any', 'Inter Continent Data Transfer Out - NAM or EU To Any', 'Intra Continent Data Transfer Out', 'LRS Data Stored', 'LRS Write Operations', 'P4 LRS Disk', 'Pay-as-you-go Data Ingestion', 'Public Queries', 'Public Zone', 'Read Operations', 'Standard Data Transfer Out', 'Standard Edition License']\n",
      "\n"
     ]
    }
   ],
   "source": [
    "estatistica_categorica = visualizacao_dados_categoricos(variaveis_categoricas)\n",
    "estatistica_categorica"
   ]
  },
  {
   "cell_type": "markdown",
   "metadata": {},
   "source": [
    "# 1.6 Export PKL"
   ]
  },
  {
   "cell_type": "code",
   "execution_count": 17,
   "metadata": {},
   "outputs": [],
   "source": [
    "exportar_df(df=df)"
   ]
  }
 ],
 "metadata": {
  "kernelspec": {
   "display_name": "Python 3.11.9 ('v3119')",
   "language": "python",
   "name": "python3"
  },
  "language_info": {
   "codemirror_mode": {
    "name": "ipython",
    "version": 3
   },
   "file_extension": ".py",
   "mimetype": "text/x-python",
   "name": "python",
   "nbconvert_exporter": "python",
   "pygments_lexer": "ipython3",
   "version": "3.11.9"
  },
  "orig_nbformat": 4,
  "vscode": {
   "interpreter": {
    "hash": "d9fd945bec87ea1faae53cf0492201e0c2959d8565ad017415241cf5b171a17a"
   }
  }
 },
 "nbformat": 4,
 "nbformat_minor": 2
}
