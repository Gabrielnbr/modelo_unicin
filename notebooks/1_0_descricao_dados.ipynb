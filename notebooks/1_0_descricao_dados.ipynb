{
 "cells": [
  {
   "cell_type": "markdown",
   "metadata": {},
   "source": [
    "# 0 Imports"
   ]
  },
  {
   "cell_type": "code",
   "execution_count": 42,
   "metadata": {},
   "outputs": [],
   "source": [
    "import pickle\n",
    "import datetime\n",
    "import inflection\n",
    "\n",
    "import numpy    as np\n",
    "import pandas   as pd\n",
    "import seaborn  as sns\n",
    "\n",
    "from matplotlib import pyplot as plt\n",
    "\n",
    "from IPython.display        import Image\n",
    "from IPython.core.display   import HTML"
   ]
  },
  {
   "cell_type": "markdown",
   "metadata": {},
   "source": [
    "## 0.1 Funções Suporte"
   ]
  },
  {
   "cell_type": "code",
   "execution_count": 43,
   "metadata": {},
   "outputs": [],
   "source": [
    "# Supressão da notação científica.\n",
    "np.set_printoptions(suppress=True)\n",
    "pd.set_option('display.float_format', '{:.6f}'.format)"
   ]
  },
  {
   "cell_type": "code",
   "execution_count": 44,
   "metadata": {},
   "outputs": [],
   "source": [
    "def estatistica_descritiva(df1):\n",
    "    # Medidas de tendência central - Mean, Median\n",
    "    media = pd.DataFrame(df1.apply(np.mean)).T\n",
    "    mediana = pd.DataFrame(df1.apply(np.median)).T\n",
    "    \n",
    "    # Medidas de Dispersão - Std, min, max, range, skew, kurtosis\n",
    "    desvio_padrao = pd.DataFrame(df1.apply(np.std)).T\n",
    "    minimo = pd.DataFrame(df1.apply(np.min)).T\n",
    "    maximo = pd.DataFrame(df1.apply(np.max)).T\n",
    "    range = pd.DataFrame(df1.apply(lambda x : x.max() - x.min())).T\n",
    "    assimetria = pd.DataFrame(df1.apply(lambda x : x.skew())).T\n",
    "    curtosis = pd.DataFrame(df1.apply(lambda x : x.kurtosis())).T\n",
    "    \n",
    "    estatistica = pd.concat([minimo, maximo, range, media, mediana, desvio_padrao, assimetria, curtosis]).T.reset_index()\n",
    "    estatistica.columns = ['variaveis','minimo', 'maximo', 'range', 'media', 'mediana', 'desvio_padrao', 'assimetria', 'curtosis']\n",
    "    \n",
    "    return estatistica"
   ]
  },
  {
   "cell_type": "code",
   "execution_count": 45,
   "metadata": {},
   "outputs": [],
   "source": [
    "def visualizacao_dados_categoricos(df):\n",
    "    for i in df:\n",
    "        print(f'Atributo: {i}') \n",
    "        print(f'Valores Únicos: {len(df[i].sort_values().unique())}')\n",
    "        print(f'Valores Descritos: {df[i].sort_values().unique().tolist()}\\n')"
   ]
  },
  {
   "cell_type": "code",
   "execution_count": 46,
   "metadata": {},
   "outputs": [],
   "source": [
    "## Function to reduce the DF size\n",
    "## It is necessary that after using this code, carefully check the output results for each column.\n",
    "def reduce_mem_usage(df, verbose=True):\n",
    "    numerics = ['int16', 'int32', 'int64', 'float16', 'float32', 'float64']\n",
    "    start_mem = df.memory_usage().sum() / 10242\n",
    "    for col in df.columns:\n",
    "        col_type = df[col].dtypes\n",
    "        if col_type in numerics:\n",
    "            c_min = df[col].min()\n",
    "            c_max = df[col].max()\n",
    "            if str(col_type)[:3] == 'int':\n",
    "                if c_min > np.iinfo(np.int8).min and c_max < np.iinfo(np.int8).max:\n",
    "                    df[col] = df[col].astype(np.int8)\n",
    "                elif c_min > np.iinfo(np.int16).min and c_max < np.iinfo(np.int16).max:\n",
    "                    df[col] = df[col].astype(np.int16)\n",
    "                elif c_min > np.iinfo(np.int32).min and c_max < np.iinfo(np.int32).max:\n",
    "                    df[col] = df[col].astype(np.int32)\n",
    "                elif c_min > np.iinfo(np.int64).min and c_max < np.iinfo(np.int64).max:\n",
    "                    df[col] = df[col].astype(np.int64)\n",
    "            else:\n",
    "                if c_min > np.finfo(np.float16).min and c_max < np.finfo(np.float16).max:\n",
    "                    df[col] = df[col].astype(np.float16)\n",
    "                elif c_min > np.finfo(np.float32).min and c_max < np.finfo(np.float32).max:\n",
    "                    df[col] = df[col].astype(np.float32)\n",
    "                else:\n",
    "                    df[col] = df[col].astype(np.float64)\n",
    "    end_mem = df.memory_usage().sum() / 10242\n",
    "    if verbose: print('Mem. usage decreased to {:5.2f} Mb ({:.1f}% reduction)'.format(end_mem, 100 * (start_mem - end_mem) / start_mem))\n",
    "    return df"
   ]
  },
  {
   "cell_type": "code",
   "execution_count": 47,
   "metadata": {},
   "outputs": [
    {
     "name": "stdout",
     "output_type": "stream",
     "text": [
      "%pylab is deprecated, use %matplotlib inline and import the required libraries.\n",
      "Populating the interactive namespace from numpy and matplotlib\n"
     ]
    },
    {
     "data": {
      "text/html": [
       "<style>.container { width: 100% !important;} </style>"
      ],
      "text/plain": [
       "<IPython.core.display.HTML object>"
      ]
     },
     "metadata": {},
     "output_type": "display_data"
    }
   ],
   "source": [
    "def jupyter_settings():\n",
    "    %matplotlib inline\n",
    "    %pylab inline\n",
    "    \n",
    "    plt.style.use( 'bmh' )\n",
    "    plt.rcParams['figure.figsize'] = [18,10]\n",
    "    plt.rcParams['font.size'] = 24\n",
    "    \n",
    "    display( HTML('<style>.container { width: 100% !important;} </style>') )\n",
    "    pd.options.display.max_columns = None\n",
    "    pd.options.display.max_rows = None\n",
    "    pd.set_option( 'display.expand_frame_repr', False)\n",
    "    \n",
    "    sns.set()\n",
    "    \n",
    "jupyter_settings()"
   ]
  },
  {
   "cell_type": "code",
   "execution_count": 48,
   "metadata": {},
   "outputs": [],
   "source": [
    "def importar_arquivos()-> list:\n",
    "    \"\"\"\n",
    "    Método para importar os DataFrames salvos no formato pkl.\n",
    "    Por enquanto não vamos receber dados externos, mas no futuro isso será implementado.\n",
    "    \"\"\"\n",
    "    \n",
    "    arquivos = os.listdir(__CAMINHO_RAW)\n",
    "    lista_arquivos = [arquivo for arquivo in arquivos if arquivo.endswith('.csv')]\n",
    "    \n",
    "    return lista_arquivos"
   ]
  },
  {
   "cell_type": "code",
   "execution_count": 49,
   "metadata": {},
   "outputs": [],
   "source": [
    "def exportar_df(df: pd.DataFrame):\n",
    "    df.to_pickle(f'{__CAMINHO_INTERIM}/1_0_descricao.pkl')"
   ]
  },
  {
   "cell_type": "code",
   "execution_count": 50,
   "metadata": {},
   "outputs": [],
   "source": [
    "def renomear_colunas(df: pd.DataFrame)-> pd.DataFrame:\n",
    "    \n",
    "    columns_old = df.columns\n",
    "    snakecase = lambda x : inflection.underscore(x)\n",
    "    columns_new = list(map(snakecase,columns_old))\n",
    "    df.columns = columns_new\n",
    "    \n",
    "    return df"
   ]
  },
  {
   "cell_type": "code",
   "execution_count": 51,
   "metadata": {},
   "outputs": [],
   "source": [
    "def mundaca_tipo_date(df: pd.DataFrame)-> pd.DataFrame:\n",
    "    df['date'] = pd.to_datetime( df['date'] )\n",
    "    return df"
   ]
  },
  {
   "cell_type": "code",
   "execution_count": 52,
   "metadata": {},
   "outputs": [],
   "source": [
    "def mesclar_arquivos(lista_arquivos: list,)-> pd.DataFrame:\n",
    "    \"\"\"\n",
    "    Método para meclar os DataFrames. Aporveito para acrescentar 1 coluna de identificação da tabela.\n",
    "    Preciso colocar essa identificação para não misturar os dados na hora da análise.\n",
    "    \"\"\"\n",
    "    dfs = pd.DataFrame()\n",
    "    for arquivo in lista_arquivos:\n",
    "    \n",
    "        df = pd.read_csv( os.path.join( __CAMINHO_RAW, arquivo ) )\n",
    "        maquina = arquivo.split('_')[1]\n",
    "        df['maquina'] = maquina\n",
    "    \n",
    "        df = renomear_colunas(df)\n",
    "        df = mundaca_tipo_date(df)\n",
    "\n",
    "        if dfs.empty:\n",
    "            dfs = df\n",
    "        else:\n",
    "            if maquina in dfs['maquina'].values:\n",
    "\n",
    "                date = dfs.loc[dfs['maquina'] == maquina, 'date']\n",
    "                filtro = date.max()\n",
    "                df = df.loc[df['date'] > filtro]\n",
    "                \n",
    "                dfs = pd.concat([dfs,df], ignore_index=True)\n",
    "            else:\n",
    "                dfs = pd.concat([dfs,df], ignore_index=True)\n",
    "\n",
    "    return dfs"
   ]
  },
  {
   "cell_type": "markdown",
   "metadata": {},
   "source": [
    "## 0.2 Load Data"
   ]
  },
  {
   "cell_type": "code",
   "execution_count": 53,
   "metadata": {},
   "outputs": [],
   "source": [
    "__CAMINHO_RAW = '../data/raw/'\n",
    "#__CAMINHO_RAW = 'E:/4_arquivos/1_projeto/modelo_unicin/src/data/raw'\n",
    "\n",
    "__CAMINHO_INTERIM = '../data/interim'\n"
   ]
  },
  {
   "cell_type": "code",
   "execution_count": 54,
   "metadata": {},
   "outputs": [],
   "source": [
    "lista_arquivos = importar_arquivos()"
   ]
  },
  {
   "cell_type": "markdown",
   "metadata": {},
   "source": [
    "## 0.3 Ajuste primário"
   ]
  },
  {
   "cell_type": "code",
   "execution_count": 55,
   "metadata": {},
   "outputs": [],
   "source": [
    "df = mesclar_arquivos(lista_arquivos=lista_arquivos)"
   ]
  },
  {
   "cell_type": "markdown",
   "metadata": {},
   "source": [
    "# 1.0 Descrição dos Dados"
   ]
  },
  {
   "cell_type": "markdown",
   "metadata": {},
   "source": [
    "## 1.1 Data Sample"
   ]
  },
  {
   "cell_type": "code",
   "execution_count": 56,
   "metadata": {},
   "outputs": [
    {
     "data": {
      "text/html": [
       "<div>\n",
       "<style scoped>\n",
       "    .dataframe tbody tr th:only-of-type {\n",
       "        vertical-align: middle;\n",
       "    }\n",
       "\n",
       "    .dataframe tbody tr th {\n",
       "        vertical-align: top;\n",
       "    }\n",
       "\n",
       "    .dataframe thead th {\n",
       "        text-align: right;\n",
       "    }\n",
       "</style>\n",
       "<table border=\"1\" class=\"dataframe\">\n",
       "  <thead>\n",
       "    <tr style=\"text-align: right;\">\n",
       "      <th></th>\n",
       "      <th>subscription_name</th>\n",
       "      <th>subscription_guid</th>\n",
       "      <th>date</th>\n",
       "      <th>resource_guid</th>\n",
       "      <th>service_name</th>\n",
       "      <th>service_type</th>\n",
       "      <th>service_region</th>\n",
       "      <th>service_resource</th>\n",
       "      <th>quantity</th>\n",
       "      <th>cost</th>\n",
       "      <th>maquina</th>\n",
       "    </tr>\n",
       "  </thead>\n",
       "  <tbody>\n",
       "    <tr>\n",
       "      <th>59285</th>\n",
       "      <td>Microsoft Azure Sponsorship</td>\n",
       "      <td>15dc64f3-696a-48fc-9169-8467e3f7bba0</td>\n",
       "      <td>2024-10-31</td>\n",
       "      <td>40551b4c-e8be-48ed-b70b-f8d25c7de724</td>\n",
       "      <td>Storage</td>\n",
       "      <td>General Block Blob</td>\n",
       "      <td>All</td>\n",
       "      <td>Read Operations</td>\n",
       "      <td>0.000800</td>\n",
       "      <td>0.000000</td>\n",
       "      <td>unicin</td>\n",
       "    </tr>\n",
       "    <tr>\n",
       "      <th>59255</th>\n",
       "      <td>Microsoft Azure Sponsorship</td>\n",
       "      <td>15dc64f3-696a-48fc-9169-8467e3f7bba0</td>\n",
       "      <td>2024-10-21</td>\n",
       "      <td>8dbc6497-3d3a-47d6-9de4-dd42072fad66</td>\n",
       "      <td>Storage</td>\n",
       "      <td>Standard Page Blob</td>\n",
       "      <td>BR South</td>\n",
       "      <td>LRS Data Stored</td>\n",
       "      <td>0.001248</td>\n",
       "      <td>0.000144</td>\n",
       "      <td>unicin</td>\n",
       "    </tr>\n",
       "    <tr>\n",
       "      <th>59225</th>\n",
       "      <td>Microsoft Azure Sponsorship</td>\n",
       "      <td>15dc64f3-696a-48fc-9169-8467e3f7bba0</td>\n",
       "      <td>2024-10-31</td>\n",
       "      <td>2f2a1523-d8af-5cea-9b91-d0285e17e343</td>\n",
       "      <td>Backup</td>\n",
       "      <td>All</td>\n",
       "      <td>BR South</td>\n",
       "      <td>Azure VM Protected Instances</td>\n",
       "      <td>0.008064</td>\n",
       "      <td>0.080640</td>\n",
       "      <td>unicin</td>\n",
       "    </tr>\n",
       "    <tr>\n",
       "      <th>59195</th>\n",
       "      <td>Microsoft Azure Sponsorship</td>\n",
       "      <td>15dc64f3-696a-48fc-9169-8467e3f7bba0</td>\n",
       "      <td>2024-10-21</td>\n",
       "      <td>e53063d5-dd23-4bdf-a1df-cdfe862d01ab</td>\n",
       "      <td>Storage</td>\n",
       "      <td>Standard SSD Managed Disks</td>\n",
       "      <td>BR South</td>\n",
       "      <td>E3 LRS Disk</td>\n",
       "      <td>0.064512</td>\n",
       "      <td>0.144528</td>\n",
       "      <td>unicin</td>\n",
       "    </tr>\n",
       "    <tr>\n",
       "      <th>59165</th>\n",
       "      <td>Microsoft Azure Sponsorship</td>\n",
       "      <td>15dc64f3-696a-48fc-9169-8467e3f7bba0</td>\n",
       "      <td>2024-10-31</td>\n",
       "      <td>05212985-faad-4b6c-8ddb-c08cc8e37f79</td>\n",
       "      <td>Storage</td>\n",
       "      <td>Premium Page Blob</td>\n",
       "      <td>US East</td>\n",
       "      <td>P10 LRS Disk</td>\n",
       "      <td>0.052416</td>\n",
       "      <td>1.033123</td>\n",
       "      <td>unicin</td>\n",
       "    </tr>\n",
       "    <tr>\n",
       "      <th>59135</th>\n",
       "      <td>Microsoft Azure Sponsorship</td>\n",
       "      <td>15dc64f3-696a-48fc-9169-8467e3f7bba0</td>\n",
       "      <td>2024-10-21</td>\n",
       "      <td>43034668-a244-4031-bb4d-be5bcce22c5f</td>\n",
       "      <td>Bandwidth</td>\n",
       "      <td>Inter-Region</td>\n",
       "      <td>Intercontinental</td>\n",
       "      <td>Inter Continent Data Transfer Out - LATAM To Any</td>\n",
       "      <td>0.000134</td>\n",
       "      <td>0.000009</td>\n",
       "      <td>unicin</td>\n",
       "    </tr>\n",
       "    <tr>\n",
       "      <th>59105</th>\n",
       "      <td>Microsoft Azure Sponsorship</td>\n",
       "      <td>15dc64f3-696a-48fc-9169-8467e3f7bba0</td>\n",
       "      <td>2024-10-31</td>\n",
       "      <td>d23a5753-ff85-4ddf-af28-8cc5cf2d3882</td>\n",
       "      <td>Storage</td>\n",
       "      <td>Standard Page Blob</td>\n",
       "      <td>All</td>\n",
       "      <td>LRS Data Stored</td>\n",
       "      <td>0.000078</td>\n",
       "      <td>0.000000</td>\n",
       "      <td>unicin</td>\n",
       "    </tr>\n",
       "    <tr>\n",
       "      <th>59075</th>\n",
       "      <td>Microsoft Azure Sponsorship</td>\n",
       "      <td>15dc64f3-696a-48fc-9169-8467e3f7bba0</td>\n",
       "      <td>2024-10-21</td>\n",
       "      <td>cd4cfb51-f027-4d88-89d0-80e78795f00e</td>\n",
       "      <td>Backup</td>\n",
       "      <td>All</td>\n",
       "      <td>BR South</td>\n",
       "      <td>GRS Data Stored</td>\n",
       "      <td>1.612248</td>\n",
       "      <td>0.098352</td>\n",
       "      <td>unicin</td>\n",
       "    </tr>\n",
       "    <tr>\n",
       "      <th>59045</th>\n",
       "      <td>Microsoft Azure Sponsorship</td>\n",
       "      <td>15dc64f3-696a-48fc-9169-8467e3f7bba0</td>\n",
       "      <td>2024-10-31</td>\n",
       "      <td>b9e5e77c-a0b3-4a2c-9b8b-57fa54f31c52</td>\n",
       "      <td>Storage</td>\n",
       "      <td>Tables</td>\n",
       "      <td>All</td>\n",
       "      <td>Batch Write Operations</td>\n",
       "      <td>0.016000</td>\n",
       "      <td>0.000000</td>\n",
       "      <td>unicin</td>\n",
       "    </tr>\n",
       "    <tr>\n",
       "      <th>59015</th>\n",
       "      <td>Microsoft Azure Sponsorship</td>\n",
       "      <td>15dc64f3-696a-48fc-9169-8467e3f7bba0</td>\n",
       "      <td>2024-10-21</td>\n",
       "      <td>26ce34b7-67b3-480d-9d1b-54a7fb80f67a</td>\n",
       "      <td>Virtual Network</td>\n",
       "      <td>IP Addresses</td>\n",
       "      <td>All</td>\n",
       "      <td>Basic IPv4 Static Public IP</td>\n",
       "      <td>24.000000</td>\n",
       "      <td>0.086400</td>\n",
       "      <td>unicin</td>\n",
       "    </tr>\n",
       "  </tbody>\n",
       "</table>\n",
       "</div>"
      ],
      "text/plain": [
       "                 subscription_name                     subscription_guid       date                         resource_guid     service_name                service_type    service_region                                  service_resource  quantity     cost maquina\n",
       "59285  Microsoft Azure Sponsorship  15dc64f3-696a-48fc-9169-8467e3f7bba0 2024-10-31  40551b4c-e8be-48ed-b70b-f8d25c7de724          Storage          General Block Blob               All                                   Read Operations  0.000800 0.000000  unicin\n",
       "59255  Microsoft Azure Sponsorship  15dc64f3-696a-48fc-9169-8467e3f7bba0 2024-10-21  8dbc6497-3d3a-47d6-9de4-dd42072fad66          Storage          Standard Page Blob          BR South                                   LRS Data Stored  0.001248 0.000144  unicin\n",
       "59225  Microsoft Azure Sponsorship  15dc64f3-696a-48fc-9169-8467e3f7bba0 2024-10-31  2f2a1523-d8af-5cea-9b91-d0285e17e343           Backup                         All          BR South                      Azure VM Protected Instances  0.008064 0.080640  unicin\n",
       "59195  Microsoft Azure Sponsorship  15dc64f3-696a-48fc-9169-8467e3f7bba0 2024-10-21  e53063d5-dd23-4bdf-a1df-cdfe862d01ab          Storage  Standard SSD Managed Disks          BR South                                       E3 LRS Disk  0.064512 0.144528  unicin\n",
       "59165  Microsoft Azure Sponsorship  15dc64f3-696a-48fc-9169-8467e3f7bba0 2024-10-31  05212985-faad-4b6c-8ddb-c08cc8e37f79          Storage           Premium Page Blob           US East                                      P10 LRS Disk  0.052416 1.033123  unicin\n",
       "59135  Microsoft Azure Sponsorship  15dc64f3-696a-48fc-9169-8467e3f7bba0 2024-10-21  43034668-a244-4031-bb4d-be5bcce22c5f        Bandwidth                Inter-Region  Intercontinental  Inter Continent Data Transfer Out - LATAM To Any  0.000134 0.000009  unicin\n",
       "59105  Microsoft Azure Sponsorship  15dc64f3-696a-48fc-9169-8467e3f7bba0 2024-10-31  d23a5753-ff85-4ddf-af28-8cc5cf2d3882          Storage          Standard Page Blob               All                                   LRS Data Stored  0.000078 0.000000  unicin\n",
       "59075  Microsoft Azure Sponsorship  15dc64f3-696a-48fc-9169-8467e3f7bba0 2024-10-21  cd4cfb51-f027-4d88-89d0-80e78795f00e           Backup                         All          BR South                                   GRS Data Stored  1.612248 0.098352  unicin\n",
       "59045  Microsoft Azure Sponsorship  15dc64f3-696a-48fc-9169-8467e3f7bba0 2024-10-31  b9e5e77c-a0b3-4a2c-9b8b-57fa54f31c52          Storage                      Tables               All                            Batch Write Operations  0.016000 0.000000  unicin\n",
       "59015  Microsoft Azure Sponsorship  15dc64f3-696a-48fc-9169-8467e3f7bba0 2024-10-21  26ce34b7-67b3-480d-9d1b-54a7fb80f67a  Virtual Network                IP Addresses               All                       Basic IPv4 Static Public IP 24.000000 0.086400  unicin"
      ]
     },
     "execution_count": 56,
     "metadata": {},
     "output_type": "execute_result"
    }
   ],
   "source": [
    "df.iloc[len(df):(len(df)-300):-30]"
   ]
  },
  {
   "cell_type": "code",
   "execution_count": 57,
   "metadata": {},
   "outputs": [],
   "source": [
    "a = 123\n",
    "c = \"int\"\n",
    "var_aux = [123,312,345,645,567,876,\"!@3234234\"]"
   ]
  },
  {
   "cell_type": "code",
   "execution_count": 58,
   "metadata": {},
   "outputs": [],
   "source": [
    "df2 = df.copy()"
   ]
  },
  {
   "cell_type": "markdown",
   "metadata": {},
   "source": [
    "## 1.2 Data Dimension"
   ]
  },
  {
   "cell_type": "code",
   "execution_count": 59,
   "metadata": {},
   "outputs": [
    {
     "data": {
      "text/plain": [
       "(59286, 11)"
      ]
     },
     "execution_count": 59,
     "metadata": {},
     "output_type": "execute_result"
    }
   ],
   "source": [
    "df.shape"
   ]
  },
  {
   "cell_type": "markdown",
   "metadata": {},
   "source": [
    "## 1.3 Data Types"
   ]
  },
  {
   "cell_type": "code",
   "execution_count": 60,
   "metadata": {},
   "outputs": [
    {
     "name": "stdout",
     "output_type": "stream",
     "text": [
      "<class 'pandas.core.frame.DataFrame'>\n",
      "RangeIndex: 59286 entries, 0 to 59285\n",
      "Data columns (total 11 columns):\n",
      " #   Column             Non-Null Count  Dtype         \n",
      "---  ------             --------------  -----         \n",
      " 0   subscription_name  59286 non-null  object        \n",
      " 1   subscription_guid  59286 non-null  object        \n",
      " 2   date               59286 non-null  datetime64[ns]\n",
      " 3   resource_guid      59286 non-null  object        \n",
      " 4   service_name       59286 non-null  object        \n",
      " 5   service_type       59286 non-null  object        \n",
      " 6   service_region     59286 non-null  object        \n",
      " 7   service_resource   59286 non-null  object        \n",
      " 8   quantity           59286 non-null  float64       \n",
      " 9   cost               59286 non-null  float64       \n",
      " 10  maquina            59286 non-null  object        \n",
      "dtypes: datetime64[ns](1), float64(2), object(8)\n",
      "memory usage: 5.0+ MB\n"
     ]
    }
   ],
   "source": [
    "df.info()"
   ]
  },
  {
   "cell_type": "code",
   "execution_count": 61,
   "metadata": {},
   "outputs": [
    {
     "data": {
      "text/plain": [
       "subscription_name    0\n",
       "subscription_guid    0\n",
       "date                 0\n",
       "resource_guid        0\n",
       "service_name         0\n",
       "service_type         0\n",
       "service_region       0\n",
       "service_resource     0\n",
       "quantity             0\n",
       "cost                 0\n",
       "maquina              0\n",
       "dtype: int64"
      ]
     },
     "execution_count": 61,
     "metadata": {},
     "output_type": "execute_result"
    }
   ],
   "source": [
    "df.isna().sum()"
   ]
  },
  {
   "cell_type": "markdown",
   "metadata": {},
   "source": [
    "## 1.5 Estatística Descritiva"
   ]
  },
  {
   "cell_type": "code",
   "execution_count": 62,
   "metadata": {},
   "outputs": [],
   "source": [
    "variaveis_categoricas = df.select_dtypes( exclude = [ 'int32','int64', 'float64','datetime64[ns]'])\n",
    "variaveis_numericas = df.select_dtypes( include = [ 'int32','int64', 'float64'])"
   ]
  },
  {
   "cell_type": "markdown",
   "metadata": {},
   "source": [
    "### 1.5.1 Variáveis Numéricas"
   ]
  },
  {
   "cell_type": "code",
   "execution_count": 63,
   "metadata": {},
   "outputs": [
    {
     "data": {
      "text/html": [
       "<div>\n",
       "<style scoped>\n",
       "    .dataframe tbody tr th:only-of-type {\n",
       "        vertical-align: middle;\n",
       "    }\n",
       "\n",
       "    .dataframe tbody tr th {\n",
       "        vertical-align: top;\n",
       "    }\n",
       "\n",
       "    .dataframe thead th {\n",
       "        text-align: right;\n",
       "    }\n",
       "</style>\n",
       "<table border=\"1\" class=\"dataframe\">\n",
       "  <thead>\n",
       "    <tr style=\"text-align: right;\">\n",
       "      <th></th>\n",
       "      <th>variaveis</th>\n",
       "      <th>minimo</th>\n",
       "      <th>maximo</th>\n",
       "      <th>range</th>\n",
       "      <th>media</th>\n",
       "      <th>mediana</th>\n",
       "      <th>desvio_padrao</th>\n",
       "      <th>assimetria</th>\n",
       "      <th>curtosis</th>\n",
       "    </tr>\n",
       "  </thead>\n",
       "  <tbody>\n",
       "    <tr>\n",
       "      <th>0</th>\n",
       "      <td>quantity</td>\n",
       "      <td>0.000000</td>\n",
       "      <td>832.332400</td>\n",
       "      <td>832.332400</td>\n",
       "      <td>7.981463</td>\n",
       "      <td>0.094547</td>\n",
       "      <td>26.276567</td>\n",
       "      <td>8.617708</td>\n",
       "      <td>122.844306</td>\n",
       "    </tr>\n",
       "    <tr>\n",
       "      <th>1</th>\n",
       "      <td>cost</td>\n",
       "      <td>0.000000</td>\n",
       "      <td>14.386982</td>\n",
       "      <td>14.386982</td>\n",
       "      <td>0.372963</td>\n",
       "      <td>0.014329</td>\n",
       "      <td>0.850807</td>\n",
       "      <td>4.957950</td>\n",
       "      <td>51.905209</td>\n",
       "    </tr>\n",
       "  </tbody>\n",
       "</table>\n",
       "</div>"
      ],
      "text/plain": [
       "  variaveis   minimo     maximo      range    media  mediana  desvio_padrao  assimetria   curtosis\n",
       "0  quantity 0.000000 832.332400 832.332400 7.981463 0.094547      26.276567    8.617708 122.844306\n",
       "1      cost 0.000000  14.386982  14.386982 0.372963 0.014329       0.850807    4.957950  51.905209"
      ]
     },
     "execution_count": 63,
     "metadata": {},
     "output_type": "execute_result"
    }
   ],
   "source": [
    "estatistica_numerica = estatistica_descritiva(variaveis_numericas)\n",
    "estatistica_numerica"
   ]
  },
  {
   "cell_type": "code",
   "execution_count": 64,
   "metadata": {},
   "outputs": [
    {
     "data": {
      "image/png": "[encoded data removed]",
      "text/plain": [
       "<Figure size 1800x1000 with 2 Axes>"
      ]
     },
     "metadata": {},
     "output_type": "display_data"
    }
   ],
   "source": [
    "variaveis_numericas.hist(bins = 30);"
   ]
  },
  {
   "cell_type": "code",
   "execution_count": 65,
   "metadata": {},
   "outputs": [
    {
     "ename": "KeyError",
     "evalue": "'week_of_year'",
     "output_type": "error",
     "traceback": [
      "\u001b[1;31m---------------------------------------------------------------------------\u001b[0m",
      "\u001b[1;31mKeyError\u001b[0m                                  Traceback (most recent call last)",
      "File \u001b[1;32me:\\3_recursos\\2_area\\profissional\\cursos\\v3119\\Lib\\site-packages\\pandas\\core\\indexes\\base.py:3805\u001b[0m, in \u001b[0;36mIndex.get_loc\u001b[1;34m(self, key)\u001b[0m\n\u001b[0;32m   3804\u001b[0m \u001b[39mtry\u001b[39;00m:\n\u001b[1;32m-> 3805\u001b[0m     \u001b[39mreturn\u001b[39;00m \u001b[39mself\u001b[39;49m\u001b[39m.\u001b[39;49m_engine\u001b[39m.\u001b[39;49mget_loc(casted_key)\n\u001b[0;32m   3806\u001b[0m \u001b[39mexcept\u001b[39;00m \u001b[39mKeyError\u001b[39;00m \u001b[39mas\u001b[39;00m err:\n",
      "File \u001b[1;32mindex.pyx:167\u001b[0m, in \u001b[0;36mpandas._libs.index.IndexEngine.get_loc\u001b[1;34m()\u001b[0m\n",
      "File \u001b[1;32mindex.pyx:196\u001b[0m, in \u001b[0;36mpandas._libs.index.IndexEngine.get_loc\u001b[1;34m()\u001b[0m\n",
      "File \u001b[1;32mpandas\\\\_libs\\\\hashtable_class_helper.pxi:7081\u001b[0m, in \u001b[0;36mpandas._libs.hashtable.PyObjectHashTable.get_item\u001b[1;34m()\u001b[0m\n",
      "File \u001b[1;32mpandas\\\\_libs\\\\hashtable_class_helper.pxi:7089\u001b[0m, in \u001b[0;36mpandas._libs.hashtable.PyObjectHashTable.get_item\u001b[1;34m()\u001b[0m\n",
      "\u001b[1;31mKeyError\u001b[0m: 'week_of_year'",
      "\nThe above exception was the direct cause of the following exception:\n",
      "\u001b[1;31mKeyError\u001b[0m                                  Traceback (most recent call last)",
      "Cell \u001b[1;32mIn[65], line 1\u001b[0m\n\u001b[1;32m----> 1\u001b[0m \u001b[43mdf\u001b[49m\u001b[43m[\u001b[49m\u001b[38;5;124;43m'\u001b[39;49m\u001b[38;5;124;43mweek_of_year\u001b[39;49m\u001b[38;5;124;43m'\u001b[39;49m\u001b[43m]\u001b[49m\u001b[38;5;241m.\u001b[39mhist(bins \u001b[38;5;241m=\u001b[39m \u001b[38;5;241m52\u001b[39m);\n",
      "File \u001b[1;32me:\\3_recursos\\2_area\\profissional\\cursos\\v3119\\Lib\\site-packages\\pandas\\core\\frame.py:4102\u001b[0m, in \u001b[0;36mDataFrame.__getitem__\u001b[1;34m(self, key)\u001b[0m\n\u001b[0;32m   4100\u001b[0m \u001b[39mif\u001b[39;00m \u001b[39mself\u001b[39m\u001b[39m.\u001b[39mcolumns\u001b[39m.\u001b[39mnlevels \u001b[39m>\u001b[39m \u001b[39m1\u001b[39m:\n\u001b[0;32m   4101\u001b[0m     \u001b[39mreturn\u001b[39;00m \u001b[39mself\u001b[39m\u001b[39m.\u001b[39m_getitem_multilevel(key)\n\u001b[1;32m-> 4102\u001b[0m indexer \u001b[39m=\u001b[39m \u001b[39mself\u001b[39;49m\u001b[39m.\u001b[39;49mcolumns\u001b[39m.\u001b[39;49mget_loc(key)\n\u001b[0;32m   4103\u001b[0m \u001b[39mif\u001b[39;00m is_integer(indexer):\n\u001b[0;32m   4104\u001b[0m     indexer \u001b[39m=\u001b[39m [indexer]\n",
      "File \u001b[1;32me:\\3_recursos\\2_area\\profissional\\cursos\\v3119\\Lib\\site-packages\\pandas\\core\\indexes\\base.py:3812\u001b[0m, in \u001b[0;36mIndex.get_loc\u001b[1;34m(self, key)\u001b[0m\n\u001b[0;32m   3807\u001b[0m     \u001b[39mif\u001b[39;00m \u001b[39misinstance\u001b[39m(casted_key, \u001b[39mslice\u001b[39m) \u001b[39mor\u001b[39;00m (\n\u001b[0;32m   3808\u001b[0m         \u001b[39misinstance\u001b[39m(casted_key, abc\u001b[39m.\u001b[39mIterable)\n\u001b[0;32m   3809\u001b[0m         \u001b[39mand\u001b[39;00m \u001b[39many\u001b[39m(\u001b[39misinstance\u001b[39m(x, \u001b[39mslice\u001b[39m) \u001b[39mfor\u001b[39;00m x \u001b[39min\u001b[39;00m casted_key)\n\u001b[0;32m   3810\u001b[0m     ):\n\u001b[0;32m   3811\u001b[0m         \u001b[39mraise\u001b[39;00m InvalidIndexError(key)\n\u001b[1;32m-> 3812\u001b[0m     \u001b[39mraise\u001b[39;00m \u001b[39mKeyError\u001b[39;00m(key) \u001b[39mfrom\u001b[39;00m \u001b[39merr\u001b[39;00m\n\u001b[0;32m   3813\u001b[0m \u001b[39mexcept\u001b[39;00m \u001b[39mTypeError\u001b[39;00m:\n\u001b[0;32m   3814\u001b[0m     \u001b[39m# If we have a listlike key, _check_indexing_error will raise\u001b[39;00m\n\u001b[0;32m   3815\u001b[0m     \u001b[39m#  InvalidIndexError. Otherwise we fall through and re-raise\u001b[39;00m\n\u001b[0;32m   3816\u001b[0m     \u001b[39m#  the TypeError.\u001b[39;00m\n\u001b[0;32m   3817\u001b[0m     \u001b[39mself\u001b[39m\u001b[39m.\u001b[39m_check_indexing_error(key)\n",
      "\u001b[1;31mKeyError\u001b[0m: 'week_of_year'"
     ]
    }
   ],
   "source": [
    "#df['week_of_year'].hist(bins = 52);"
   ]
  },
  {
   "cell_type": "markdown",
   "metadata": {},
   "source": [
    "### 1.5.2 Vairiáveis Categóricas"
   ]
  },
  {
   "cell_type": "code",
   "execution_count": 66,
   "metadata": {},
   "outputs": [
    {
     "data": {
      "text/html": [
       "<div>\n",
       "<style scoped>\n",
       "    .dataframe tbody tr th:only-of-type {\n",
       "        vertical-align: middle;\n",
       "    }\n",
       "\n",
       "    .dataframe tbody tr th {\n",
       "        vertical-align: top;\n",
       "    }\n",
       "\n",
       "    .dataframe thead th {\n",
       "        text-align: right;\n",
       "    }\n",
       "</style>\n",
       "<table border=\"1\" class=\"dataframe\">\n",
       "  <thead>\n",
       "    <tr style=\"text-align: right;\">\n",
       "      <th></th>\n",
       "      <th>count</th>\n",
       "      <th>unique</th>\n",
       "      <th>top</th>\n",
       "      <th>freq</th>\n",
       "    </tr>\n",
       "  </thead>\n",
       "  <tbody>\n",
       "    <tr>\n",
       "      <th>subscription_name</th>\n",
       "      <td>59286</td>\n",
       "      <td>1</td>\n",
       "      <td>Microsoft Azure Sponsorship</td>\n",
       "      <td>59286</td>\n",
       "    </tr>\n",
       "    <tr>\n",
       "      <th>subscription_guid</th>\n",
       "      <td>59286</td>\n",
       "      <td>4</td>\n",
       "      <td>0b1856f5-ffb1-4fb2-9b31-ebc3ddeacf68</td>\n",
       "      <td>27095</td>\n",
       "    </tr>\n",
       "    <tr>\n",
       "      <th>resource_guid</th>\n",
       "      <td>59286</td>\n",
       "      <td>92</td>\n",
       "      <td>c089a13a-9dd0-44b5-aa9e-44a77bbd6788</td>\n",
       "      <td>2628</td>\n",
       "    </tr>\n",
       "    <tr>\n",
       "      <th>service_name</th>\n",
       "      <td>59286</td>\n",
       "      <td>16</td>\n",
       "      <td>Storage</td>\n",
       "      <td>29414</td>\n",
       "    </tr>\n",
       "    <tr>\n",
       "      <th>service_type</th>\n",
       "      <td>59286</td>\n",
       "      <td>30</td>\n",
       "      <td>All</td>\n",
       "      <td>13169</td>\n",
       "    </tr>\n",
       "    <tr>\n",
       "      <th>service_region</th>\n",
       "      <td>59286</td>\n",
       "      <td>7</td>\n",
       "      <td>All</td>\n",
       "      <td>26831</td>\n",
       "    </tr>\n",
       "    <tr>\n",
       "      <th>service_resource</th>\n",
       "      <td>59286</td>\n",
       "      <td>67</td>\n",
       "      <td>LRS Data Stored</td>\n",
       "      <td>7304</td>\n",
       "    </tr>\n",
       "    <tr>\n",
       "      <th>maquina</th>\n",
       "      <td>59286</td>\n",
       "      <td>4</td>\n",
       "      <td>ceaec</td>\n",
       "      <td>27095</td>\n",
       "    </tr>\n",
       "  </tbody>\n",
       "</table>\n",
       "</div>"
      ],
      "text/plain": [
       "                   count unique                                   top   freq\n",
       "subscription_name  59286      1           Microsoft Azure Sponsorship  59286\n",
       "subscription_guid  59286      4  0b1856f5-ffb1-4fb2-9b31-ebc3ddeacf68  27095\n",
       "resource_guid      59286     92  c089a13a-9dd0-44b5-aa9e-44a77bbd6788   2628\n",
       "service_name       59286     16                               Storage  29414\n",
       "service_type       59286     30                                   All  13169\n",
       "service_region     59286      7                                   All  26831\n",
       "service_resource   59286     67                       LRS Data Stored   7304\n",
       "maquina            59286      4                                 ceaec  27095"
      ]
     },
     "execution_count": 66,
     "metadata": {},
     "output_type": "execute_result"
    }
   ],
   "source": [
    "variaveis_categoricas.describe().T"
   ]
  },
  {
   "cell_type": "code",
   "execution_count": 67,
   "metadata": {},
   "outputs": [
    {
     "name": "stdout",
     "output_type": "stream",
     "text": [
      "Atributo: subscription_name\n",
      "Valores Únicos: 1\n",
      "Valores Descritos: ['Microsoft Azure Sponsorship']\n",
      "\n",
      "Atributo: subscription_guid\n",
      "Valores Únicos: 4\n",
      "Valores Descritos: ['0b1856f5-ffb1-4fb2-9b31-ebc3ddeacf68', '15dc64f3-696a-48fc-9169-8467e3f7bba0', '82375e17-0dda-4790-b6e8-c565d4f08e87', 'e567a9da-afce-49f1-86e3-86f976ff5fcf']\n",
      "\n",
      "Atributo: resource_guid\n",
      "Valores Únicos: 92\n",
      "Valores Descritos: ['01caecf8-c1e4-4885-8c13-3292721482fe', '05212985-faad-4b6c-8ddb-c08cc8e37f79', '0b248445-aa24-4fe8-a794-a174929327bd', '0b608a26-f611-4232-8192-ce81b6b57194', '0ddb5c81-143d-52f8-9ea3-29b64cc0ef97', '0f68ed30-d33d-4b1b-8533-f16ae059f71d', '0f824807-2376-435c-95c9-f992b67a07b0', '0fcb37f3-8a5a-4e81-820e-848908a57e44', '11ecb7d4-b18a-447a-bb0c-f057585fc701', '12da282f-7e96-49e2-983a-9a65da2a4866', '13c2d6a4-7f53-47a9-b6aa-8bb6167ac54d', '17b3fc96-9141-4e25-88f2-b8953f3ca784', '1adb9ebc-c08f-426d-9aa4-8af9de7b6d74', '1b74a37f-45a2-4266-bf07-2764801d0b85', '211e620c-ebcf-4db5-a7fd-996abebe9546', '26ce34b7-67b3-480d-9d1b-54a7fb80f67a', '27426e86-f015-4506-a8cc-26c18688990a', '28339581-90e9-4bde-93d2-a61b4f2a0b5e', '2dba9884-2518-4427-90ff-d2c100c5f775', '2f2a1523-d8af-5cea-9b91-d0285e17e343', '2f718765-8dfc-40cf-a636-b2d7d169d7d2', '334e1296-793b-4bd4-96ed-e82953411ce3', '37a224be-47e1-42bd-b2aa-f08060e965ee', '39edab1a-b691-4088-9bb2-6ffe51d91da4', '3b2bbe89-0295-459e-b5e9-7e43b90318da', '3da19ca3-6007-4a29-89ea-cab10c2010ed', '3f2b1e1c-c886-4ec6-ad6f-dd0ef38819c9', '40551b4c-e8be-48ed-b70b-f8d25c7de724', '416a0a14-9d61-438f-a875-779e7b0e38c3', '42e2a22f-fabf-41ea-a21e-e86bb3ff5799', '43034668-a244-4031-bb4d-be5bcce22c5f', '45459e84-815c-5b78-be46-75f78a824d07', '5101ea73-2a5b-4120-b00e-30c13185e5a5', '546a93ff-42e9-4844-b221-a53ae7524bab', '552764bc-e985-44b8-a15c-82d2cf280ef1', '55fed445-e5ab-41c8-bd25-e2ff384297cc', '60e3c37c-1ab8-41f8-891d-047657ae5ef4', '6551548b-7e61-4f51-896e-eb907d256b95', '69147946-58dc-4ede-890a-815890b4ba03', '6a99015c-d33f-4f46-ae59-2e4d14091aa8', '6c56768f-ee88-4b44-b40e-6c97f9982260', '6db4a779-0d75-481a-af26-026ccf5795c8', '6f344f4b-7c91-4026-915a-a1b597793be1', '73ad5336-6f64-4263-9537-1d571874dac6', '761abab8-259d-4206-a6ae-707ed03fc540', '82b5adb9-7503-4970-98cb-1d8537c51056', '82cd70ab-1aee-4b30-bc04-8b71e1204dbc', '839c4a20-9584-42af-a885-2798d1f027ba', '8d099b7b-bce4-4fd4-bcc3-95d867d84332', '8dbc6497-3d3a-47d6-9de4-dd42072fad66', '8f967c58-b144-4bd7-8882-8bf02767c839', '923978e1-fd3f-4bd5-a798-f4b533057e46', '92f6f16a-1e67-4a1d-8271-9d9498d609a1', '95eca2c1-9519-4c55-baa1-9a0e0b201e25', '97452b97-ca28-499c-b86e-c4910b80a75d', '9995d93a-7d35-4d3f-9c69-7a7fea447ef4', '9be71924-a8d1-40a5-a065-2ac0c5d69a07', '9c150bf9-2bad-430e-a53c-c213804f49ef', '9cb0bde8-bc0d-468c-8423-a25fe06779d3', 'a10dad63-7382-402b-b8a8-3aa68b93677f', 'a97f31a2-0fb1-4d64-bb43-a2399dd31f0b', 'aa932d74-52b8-4ce3-944b-079512ab0f4a', 'ac2340a7-812b-4fb4-981f-a4701844be2e', 'ae331802-83a5-4b9e-b287-85675f794e3d', 'b0931109-47c5-42e9-a548-00adac804b4b', 'b9e5e77c-a0b3-4a2c-9b8b-57fa54f31c52', 'beb1457b-1ab8-4e38-8021-bf7e39b1014b', 'c01a1eed-b19a-4aad-bb83-8d62cdc29778', 'c089a13a-9dd0-44b5-aa9e-44a77bbd6788', 'c0f5cb45-6fb1-41c9-8545-72ad400d9da4', 'c52a982d-f2ca-46c2-9e2a-06dae03a531d', 'c80a3636-2edb-4248-bcb1-04ef818a75ac', 'cbe92596-7f61-5f48-ba3d-d624aa141eaf', 'cc44d8d6-484a-41f0-87cd-7e1496651906', 'cccb34c4-d483-4293-b274-74a159c94d55', 'cd4cfb51-f027-4d88-89d0-80e78795f00e', 'ce957933-8287-4f8b-83ee-53a5cbe056d9', 'd10d7086-9771-4cfa-b049-3287c97c5f1d', 'd23a5753-ff85-4ddf-af28-8cc5cf2d3882', 'd54686f0-77ff-43f3-9e7c-2099030d32a7', 'dbefcfc1-e3f6-409b-be6d-9cd7b00724a5', 'e07fca8f-2362-4b83-99c2-05adfa84adbd', 'e1115bb5-8d79-4530-93c9-a1c947d03837', 'e53063d5-dd23-4bdf-a1df-cdfe862d01ab', 'e53c4e1b-4859-4305-8749-d8ea4980ab9f', 'e6ab7238-e433-4fe0-a2b2-2b2564df2cdb', 'ed8a651a-e0a3-4de6-a8ae-3b4ce8cb72cf', 'f114cb19-ea64-40b5-bcd7-aee474b62853', 'f1fcf7da-9502-4a86-bfe7-9c2646efa203', 'f8c187bb-5a47-46ae-b874-f186d207fff4', 'f90f81d2-238a-49d0-9f1b-9df13a859843', 'fec1d8d1-cc81-4d54-a391-83e228df4928']\n",
      "\n",
      "Atributo: service_name\n",
      "Valores Únicos: 16\n",
      "Valores Descritos: ['Automation', 'Azure App Service', 'Azure DNS', 'Azure Monitor', 'Backup', 'Bandwidth', 'Functions', 'Key Vault', 'Log Analytics', 'Logic Apps', 'Network Watcher', 'SQL Database', 'Storage', 'Virtual Machines', 'Virtual Machines Licenses', 'Virtual Network']\n",
      "\n",
      "Atributo: service_type\n",
      "Valores Únicos: 30\n",
      "Valores Descritos: ['All', 'BS Series', 'BS Series Windows', 'Basic Plan', 'Basv2 Series', 'Dv3/DSv3 Series', 'Files', 'Files v2', 'Free Plan', 'General Block Blob', 'IP Addresses', 'Inter-Region', 'Premium', 'Premium Page Blob', 'Premium SSD Managed Disks', 'Private Link', 'Process', 'Queues v2', 'SQL Server Azure Hybrid Benefit', 'SQL Server Developer Edition', 'Single Basic', 'Single Standard', 'Single/Elastic Pool General Purpose - Compute Gen5', 'Single/Elastic Pool General Purpose - SQL License', 'Single/Elastic Pool General Purpose - Storage', 'Standard HDD Managed Disks', 'Standard Page Blob', 'Standard SSD Managed Disks', 'Tables', 'Tiered Block Blob']\n",
      "\n",
      "Atributo: service_region\n",
      "Valores Únicos: 7\n",
      "Valores Descritos: ['All', 'BR South', 'Global', 'Intercontinental', 'North America', 'South America', 'US East']\n",
      "\n",
      "Atributo: service_resource\n",
      "Valores Únicos: 67\n",
      "Valores Descritos: ['Alerts System Log Monitored at 5 Minute Frequency', 'All Other Operations', 'Azure VM Protected Instances', 'B DTU', 'B1 App', 'B2als v2', 'B2ms', 'B2s', 'Basic IPv4 Dynamic Public IP', 'Basic IPv4 Static Public IP', 'Basic Runtime', 'Batch Write Operations', 'Consumption Built-in Actions', 'Consumption Data Retention', 'Consumption Standard Connector Actions', 'D2 v3/D2s v3', 'D4 v3/D4s v3', 'Delete Operations', 'Developer License', 'Disk Read Operations', 'Disk Write Operations', 'E10 LRS Disk', 'E15 LRS Disk', 'E20 LRS Disk', 'E3 LRS Disk', 'E4 LRS Disk', 'E4 LRS Disk Operations', 'E6 LRS Disk', 'F1 App', 'GRS Data Stored', 'General Purpose Data Stored', 'Hot ZRS Write Operations', 'Inter Continent Data Transfer In - LATAM To Any', 'Inter Continent Data Transfer Out - LATAM To Any', 'Inter Continent Data Transfer Out - NAM or EU To Any', 'Intra Continent Data Transfer Out', 'LRS Data Stored', 'LRS List and Create Container Operations', 'LRS Write Operations', 'Operations', 'P10 LRS Disk', 'P4 LRS Disk', 'P6 LRS Disk', 'Pay-as-you-go Data Ingestion', 'Premium Memory Duration', 'Premium vCPU Duration', 'Private Zone', 'Protocol Operations', 'Public Queries', 'Public Zone', 'Read Operations', 'S1 DTUs', 'S4 LRS Disk Operations', 'Snapshots LRS Snapshots', 'Snapshots ZRS Snapshots', 'Standard Data Transfer Out', 'Standard Diagnostic Tool API', 'Standard Edition License', 'Standard IPv4 Static Public IP', 'Standard Private Endpoint', 'Write Operations', 'ZRS Class 1 Operations', 'ZRS Data Stored', 'ZRS Protocol Operations', 'ZRS Read Operations', 'ZRS Write Operations', 'vCore']\n",
      "\n",
      "Atributo: maquina\n",
      "Valores Únicos: 4\n",
      "Valores Descritos: ['ceaec', 'icnet', 'portal', 'unicin']\n",
      "\n"
     ]
    }
   ],
   "source": [
    "visualizacao_dados_categoricos(variaveis_categoricas)"
   ]
  },
  {
   "cell_type": "markdown",
   "metadata": {},
   "source": [
    "# 1.6 Export PKL"
   ]
  },
  {
   "cell_type": "code",
   "execution_count": 68,
   "metadata": {},
   "outputs": [],
   "source": [
    "exportar_df(df=df)"
   ]
  }
 ],
 "metadata": {
  "kernelspec": {
   "display_name": "Python 3.11.9 ('v3119')",
   "language": "python",
   "name": "python3"
  },
  "language_info": {
   "codemirror_mode": {
    "name": "ipython",
    "version": 3
   },
   "file_extension": ".py",
   "mimetype": "text/x-python",
   "name": "python",
   "nbconvert_exporter": "python",
   "pygments_lexer": "ipython3",
   "version": "3.11.9"
  },
  "orig_nbformat": 4,
  "vscode": {
   "interpreter": {
    "hash": "d9fd945bec87ea1faae53cf0492201e0c2959d8565ad017415241cf5b171a17a"
   }
  }
 },
 "nbformat": 4,
 "nbformat_minor": 2
}
