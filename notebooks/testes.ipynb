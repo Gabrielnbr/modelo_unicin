{
 "cells": [
  {
   "cell_type": "markdown",
   "metadata": {},
   "source": [
    "# Brincadeirinha"
   ]
  },
  {
   "cell_type": "code",
   "execution_count": 29,
   "metadata": {},
   "outputs": [],
   "source": [
    "import pickle\n",
    "import datetime\n",
    "\n",
    "import numpy as np\n",
    "import pandas as pd\n",
    "\n",
    "\n",
    "from matplotlib import pyplot\n",
    "from prophet    import Prophet\n",
    "\n",
    "from IPython.display        import Image\n",
    "from IPython.core.display   import HTML"
   ]
  },
  {
   "cell_type": "code",
   "execution_count": 2,
   "metadata": {},
   "outputs": [
    {
     "data": {
      "text/html": [
       "<div>\n",
       "<style scoped>\n",
       "    .dataframe tbody tr th:only-of-type {\n",
       "        vertical-align: middle;\n",
       "    }\n",
       "\n",
       "    .dataframe tbody tr th {\n",
       "        vertical-align: top;\n",
       "    }\n",
       "\n",
       "    .dataframe thead th {\n",
       "        text-align: right;\n",
       "    }\n",
       "</style>\n",
       "<table border=\"1\" class=\"dataframe\">\n",
       "  <thead>\n",
       "    <tr style=\"text-align: right;\">\n",
       "      <th></th>\n",
       "      <th>SubscriptionName</th>\n",
       "      <th>SubscriptionGuid</th>\n",
       "      <th>Date</th>\n",
       "      <th>ResourceGuid</th>\n",
       "      <th>ServiceName</th>\n",
       "      <th>ServiceType</th>\n",
       "      <th>ServiceRegion</th>\n",
       "      <th>ServiceResource</th>\n",
       "      <th>Quantity</th>\n",
       "      <th>Cost</th>\n",
       "    </tr>\n",
       "  </thead>\n",
       "  <tbody>\n",
       "    <tr>\n",
       "      <th>3883</th>\n",
       "      <td>Microsoft Azure Sponsorship</td>\n",
       "      <td>82375e17-0dda-4790-b6e8-c565d4f08e87</td>\n",
       "      <td>12/4/2023</td>\n",
       "      <td>3da19ca3-6007-4a29-89ea-cab10c2010ed</td>\n",
       "      <td>Virtual Machines</td>\n",
       "      <td>Dv3/DSv3 Series</td>\n",
       "      <td>US East</td>\n",
       "      <td>D4 v3/D4s v3</td>\n",
       "      <td>24.0</td>\n",
       "      <td>4.608</td>\n",
       "    </tr>\n",
       "  </tbody>\n",
       "</table>\n",
       "</div>"
      ],
      "text/plain": [
       "                 SubscriptionName                      SubscriptionGuid  \\\n",
       "3883  Microsoft Azure Sponsorship  82375e17-0dda-4790-b6e8-c565d4f08e87   \n",
       "\n",
       "           Date                          ResourceGuid       ServiceName  \\\n",
       "3883  12/4/2023  3da19ca3-6007-4a29-89ea-cab10c2010ed  Virtual Machines   \n",
       "\n",
       "          ServiceType ServiceRegion ServiceResource  Quantity   Cost  \n",
       "3883  Dv3/DSv3 Series       US East    D4 v3/D4s v3      24.0  4.608  "
      ]
     },
     "execution_count": 2,
     "metadata": {},
     "output_type": "execute_result"
    }
   ],
   "source": [
    "df = pd.read_csv(\"E:\\__temp__\\AzureUsage-1ano.csv\")\n",
    "df.sample()"
   ]
  },
  {
   "cell_type": "code",
   "execution_count": 4,
   "metadata": {},
   "outputs": [],
   "source": [
    "df['Date'] = pd.to_datetime(df['Date'], format='%m/%d/%Y')\n",
    "df['Date'] = pd.to_datetime(df['Date'], format='%d/%m/%Y')"
   ]
  },
  {
   "cell_type": "code",
   "execution_count": 9,
   "metadata": {},
   "outputs": [],
   "source": [
    "#filtro_data = (df[\"Date\"])\n",
    "#filtro_service_name = df['ServiceName'] == \"Functions\"\n",
    "#filtro_service_resource = df['ServiceResource'] == \"Premium vCPU Duration\"\n",
    "\n",
    "df_aux = df.loc[:, [\"Date\", \"Cost\"]].groupby(\"Date\").sum().reset_index()"
   ]
  },
  {
   "cell_type": "code",
   "execution_count": 10,
   "metadata": {},
   "outputs": [],
   "source": [
    "df_aux.rename(columns = {\"Date\":\"ds\", \"Cost\":\"y\"}, inplace = True)"
   ]
  },
  {
   "cell_type": "code",
   "execution_count": 11,
   "metadata": {},
   "outputs": [
    {
     "data": {
      "text/html": [
       "<div>\n",
       "<style scoped>\n",
       "    .dataframe tbody tr th:only-of-type {\n",
       "        vertical-align: middle;\n",
       "    }\n",
       "\n",
       "    .dataframe tbody tr th {\n",
       "        vertical-align: top;\n",
       "    }\n",
       "\n",
       "    .dataframe thead th {\n",
       "        text-align: right;\n",
       "    }\n",
       "</style>\n",
       "<table border=\"1\" class=\"dataframe\">\n",
       "  <thead>\n",
       "    <tr style=\"text-align: right;\">\n",
       "      <th></th>\n",
       "      <th>ds</th>\n",
       "      <th>y</th>\n",
       "    </tr>\n",
       "  </thead>\n",
       "  <tbody>\n",
       "    <tr>\n",
       "      <th>182</th>\n",
       "      <td>2024-03-17</td>\n",
       "      <td>5.255864</td>\n",
       "    </tr>\n",
       "    <tr>\n",
       "      <th>357</th>\n",
       "      <td>2024-09-08</td>\n",
       "      <td>18.856781</td>\n",
       "    </tr>\n",
       "    <tr>\n",
       "      <th>66</th>\n",
       "      <td>2023-11-22</td>\n",
       "      <td>6.215059</td>\n",
       "    </tr>\n",
       "    <tr>\n",
       "      <th>188</th>\n",
       "      <td>2024-03-23</td>\n",
       "      <td>5.299830</td>\n",
       "    </tr>\n",
       "    <tr>\n",
       "      <th>195</th>\n",
       "      <td>2024-03-30</td>\n",
       "      <td>5.265039</td>\n",
       "    </tr>\n",
       "  </tbody>\n",
       "</table>\n",
       "</div>"
      ],
      "text/plain": [
       "            ds          y\n",
       "182 2024-03-17   5.255864\n",
       "357 2024-09-08  18.856781\n",
       "66  2023-11-22   6.215059\n",
       "188 2024-03-23   5.299830\n",
       "195 2024-03-30   5.265039"
      ]
     },
     "execution_count": 11,
     "metadata": {},
     "output_type": "execute_result"
    }
   ],
   "source": [
    "df_aux.sample(5)"
   ]
  },
  {
   "cell_type": "code",
   "execution_count": 24,
   "metadata": {},
   "outputs": [
    {
     "name": "stderr",
     "output_type": "stream",
     "text": [
      "18:47:40 - cmdstanpy - INFO - Chain [1] start processing\n",
      "18:47:40 - cmdstanpy - INFO - Chain [1] done processing\n"
     ]
    },
    {
     "data": {
      "text/html": [
       "<div>\n",
       "<style scoped>\n",
       "    .dataframe tbody tr th:only-of-type {\n",
       "        vertical-align: middle;\n",
       "    }\n",
       "\n",
       "    .dataframe tbody tr th {\n",
       "        vertical-align: top;\n",
       "    }\n",
       "\n",
       "    .dataframe thead th {\n",
       "        text-align: right;\n",
       "    }\n",
       "</style>\n",
       "<table border=\"1\" class=\"dataframe\">\n",
       "  <thead>\n",
       "    <tr style=\"text-align: right;\">\n",
       "      <th></th>\n",
       "      <th>ds</th>\n",
       "    </tr>\n",
       "  </thead>\n",
       "  <tbody>\n",
       "    <tr>\n",
       "      <th>452</th>\n",
       "      <td>2024-12-12</td>\n",
       "    </tr>\n",
       "    <tr>\n",
       "      <th>453</th>\n",
       "      <td>2024-12-13</td>\n",
       "    </tr>\n",
       "    <tr>\n",
       "      <th>454</th>\n",
       "      <td>2024-12-14</td>\n",
       "    </tr>\n",
       "    <tr>\n",
       "      <th>455</th>\n",
       "      <td>2024-12-15</td>\n",
       "    </tr>\n",
       "    <tr>\n",
       "      <th>456</th>\n",
       "      <td>2024-12-16</td>\n",
       "    </tr>\n",
       "  </tbody>\n",
       "</table>\n",
       "</div>"
      ],
      "text/plain": [
       "            ds\n",
       "452 2024-12-12\n",
       "453 2024-12-13\n",
       "454 2024-12-14\n",
       "455 2024-12-15\n",
       "456 2024-12-16"
      ]
     },
     "execution_count": 24,
     "metadata": {},
     "output_type": "execute_result"
    }
   ],
   "source": [
    "m = Prophet()\n",
    "m.fit(df_aux)\n",
    "future = m.make_future_dataframe(periods=90)\n",
    "future.tail()"
   ]
  },
  {
   "cell_type": "code",
   "execution_count": 25,
   "metadata": {},
   "outputs": [
    {
     "data": {
      "text/html": [
       "<div>\n",
       "<style scoped>\n",
       "    .dataframe tbody tr th:only-of-type {\n",
       "        vertical-align: middle;\n",
       "    }\n",
       "\n",
       "    .dataframe tbody tr th {\n",
       "        vertical-align: top;\n",
       "    }\n",
       "\n",
       "    .dataframe thead th {\n",
       "        text-align: right;\n",
       "    }\n",
       "</style>\n",
       "<table border=\"1\" class=\"dataframe\">\n",
       "  <thead>\n",
       "    <tr style=\"text-align: right;\">\n",
       "      <th></th>\n",
       "      <th>ds</th>\n",
       "      <th>yhat</th>\n",
       "      <th>yhat_lower</th>\n",
       "      <th>yhat_upper</th>\n",
       "    </tr>\n",
       "  </thead>\n",
       "  <tbody>\n",
       "    <tr>\n",
       "      <th>0</th>\n",
       "      <td>2023-09-17</td>\n",
       "      <td>6.235747</td>\n",
       "      <td>1.718894</td>\n",
       "      <td>10.372973</td>\n",
       "    </tr>\n",
       "    <tr>\n",
       "      <th>1</th>\n",
       "      <td>2023-09-18</td>\n",
       "      <td>6.212258</td>\n",
       "      <td>2.063108</td>\n",
       "      <td>10.525765</td>\n",
       "    </tr>\n",
       "    <tr>\n",
       "      <th>2</th>\n",
       "      <td>2023-09-19</td>\n",
       "      <td>6.029523</td>\n",
       "      <td>1.894400</td>\n",
       "      <td>10.213496</td>\n",
       "    </tr>\n",
       "    <tr>\n",
       "      <th>3</th>\n",
       "      <td>2023-09-20</td>\n",
       "      <td>5.801847</td>\n",
       "      <td>1.496513</td>\n",
       "      <td>10.101780</td>\n",
       "    </tr>\n",
       "    <tr>\n",
       "      <th>4</th>\n",
       "      <td>2023-09-21</td>\n",
       "      <td>5.751770</td>\n",
       "      <td>1.594373</td>\n",
       "      <td>9.808107</td>\n",
       "    </tr>\n",
       "    <tr>\n",
       "      <th>...</th>\n",
       "      <td>...</td>\n",
       "      <td>...</td>\n",
       "      <td>...</td>\n",
       "      <td>...</td>\n",
       "    </tr>\n",
       "    <tr>\n",
       "      <th>452</th>\n",
       "      <td>2024-12-12</td>\n",
       "      <td>13.109324</td>\n",
       "      <td>9.107265</td>\n",
       "      <td>17.506628</td>\n",
       "    </tr>\n",
       "    <tr>\n",
       "      <th>453</th>\n",
       "      <td>2024-12-13</td>\n",
       "      <td>13.143466</td>\n",
       "      <td>8.887660</td>\n",
       "      <td>17.346126</td>\n",
       "    </tr>\n",
       "    <tr>\n",
       "      <th>454</th>\n",
       "      <td>2024-12-14</td>\n",
       "      <td>13.261674</td>\n",
       "      <td>9.287812</td>\n",
       "      <td>17.672843</td>\n",
       "    </tr>\n",
       "    <tr>\n",
       "      <th>455</th>\n",
       "      <td>2024-12-15</td>\n",
       "      <td>13.651933</td>\n",
       "      <td>9.599034</td>\n",
       "      <td>18.032739</td>\n",
       "    </tr>\n",
       "    <tr>\n",
       "      <th>456</th>\n",
       "      <td>2024-12-16</td>\n",
       "      <td>13.670813</td>\n",
       "      <td>9.407771</td>\n",
       "      <td>18.116293</td>\n",
       "    </tr>\n",
       "  </tbody>\n",
       "</table>\n",
       "<p>457 rows × 4 columns</p>\n",
       "</div>"
      ],
      "text/plain": [
       "            ds       yhat  yhat_lower  yhat_upper\n",
       "0   2023-09-17   6.235747    1.718894   10.372973\n",
       "1   2023-09-18   6.212258    2.063108   10.525765\n",
       "2   2023-09-19   6.029523    1.894400   10.213496\n",
       "3   2023-09-20   5.801847    1.496513   10.101780\n",
       "4   2023-09-21   5.751770    1.594373    9.808107\n",
       "..         ...        ...         ...         ...\n",
       "452 2024-12-12  13.109324    9.107265   17.506628\n",
       "453 2024-12-13  13.143466    8.887660   17.346126\n",
       "454 2024-12-14  13.261674    9.287812   17.672843\n",
       "455 2024-12-15  13.651933    9.599034   18.032739\n",
       "456 2024-12-16  13.670813    9.407771   18.116293\n",
       "\n",
       "[457 rows x 4 columns]"
      ]
     },
     "execution_count": 25,
     "metadata": {},
     "output_type": "execute_result"
    }
   ],
   "source": [
    "forecast = m.predict(future)\n",
    "forecast[['ds', 'yhat', 'yhat_lower', 'yhat_upper']]"
   ]
  },
  {
   "cell_type": "code",
   "execution_count": 26,
   "metadata": {},
   "outputs": [],
   "source": [
    "ds_future = forecast"
   ]
  },
  {
   "cell_type": "code",
   "execution_count": 27,
   "metadata": {},
   "outputs": [
    {
     "data": {
      "text/html": [
       "<div>\n",
       "<style scoped>\n",
       "    .dataframe tbody tr th:only-of-type {\n",
       "        vertical-align: middle;\n",
       "    }\n",
       "\n",
       "    .dataframe tbody tr th {\n",
       "        vertical-align: top;\n",
       "    }\n",
       "\n",
       "    .dataframe thead th {\n",
       "        text-align: right;\n",
       "    }\n",
       "</style>\n",
       "<table border=\"1\" class=\"dataframe\">\n",
       "  <thead>\n",
       "    <tr style=\"text-align: right;\">\n",
       "      <th></th>\n",
       "      <th>ds</th>\n",
       "      <th>yhat</th>\n",
       "      <th>yhat_lower</th>\n",
       "      <th>yhat_upper</th>\n",
       "    </tr>\n",
       "  </thead>\n",
       "  <tbody>\n",
       "    <tr>\n",
       "      <th>0</th>\n",
       "      <td>2024-09-18</td>\n",
       "      <td>10.379751</td>\n",
       "      <td>6.038495</td>\n",
       "      <td>14.617950</td>\n",
       "    </tr>\n",
       "    <tr>\n",
       "      <th>1</th>\n",
       "      <td>2024-09-19</td>\n",
       "      <td>10.372042</td>\n",
       "      <td>6.333013</td>\n",
       "      <td>14.437805</td>\n",
       "    </tr>\n",
       "    <tr>\n",
       "      <th>2</th>\n",
       "      <td>2024-09-20</td>\n",
       "      <td>10.406184</td>\n",
       "      <td>6.256477</td>\n",
       "      <td>14.786188</td>\n",
       "    </tr>\n",
       "    <tr>\n",
       "      <th>3</th>\n",
       "      <td>2024-09-21</td>\n",
       "      <td>10.524391</td>\n",
       "      <td>6.451115</td>\n",
       "      <td>14.671974</td>\n",
       "    </tr>\n",
       "    <tr>\n",
       "      <th>4</th>\n",
       "      <td>2024-09-22</td>\n",
       "      <td>10.914651</td>\n",
       "      <td>6.659715</td>\n",
       "      <td>14.919613</td>\n",
       "    </tr>\n",
       "    <tr>\n",
       "      <th>...</th>\n",
       "      <td>...</td>\n",
       "      <td>...</td>\n",
       "      <td>...</td>\n",
       "      <td>...</td>\n",
       "    </tr>\n",
       "    <tr>\n",
       "      <th>85</th>\n",
       "      <td>2024-12-12</td>\n",
       "      <td>13.109324</td>\n",
       "      <td>9.107265</td>\n",
       "      <td>17.506628</td>\n",
       "    </tr>\n",
       "    <tr>\n",
       "      <th>86</th>\n",
       "      <td>2024-12-13</td>\n",
       "      <td>13.143466</td>\n",
       "      <td>8.887660</td>\n",
       "      <td>17.346126</td>\n",
       "    </tr>\n",
       "    <tr>\n",
       "      <th>87</th>\n",
       "      <td>2024-12-14</td>\n",
       "      <td>13.261674</td>\n",
       "      <td>9.287812</td>\n",
       "      <td>17.672843</td>\n",
       "    </tr>\n",
       "    <tr>\n",
       "      <th>88</th>\n",
       "      <td>2024-12-15</td>\n",
       "      <td>13.651933</td>\n",
       "      <td>9.599034</td>\n",
       "      <td>18.032739</td>\n",
       "    </tr>\n",
       "    <tr>\n",
       "      <th>89</th>\n",
       "      <td>2024-12-16</td>\n",
       "      <td>13.670813</td>\n",
       "      <td>9.407771</td>\n",
       "      <td>18.116293</td>\n",
       "    </tr>\n",
       "  </tbody>\n",
       "</table>\n",
       "<p>90 rows × 4 columns</p>\n",
       "</div>"
      ],
      "text/plain": [
       "           ds       yhat  yhat_lower  yhat_upper\n",
       "0  2024-09-18  10.379751    6.038495   14.617950\n",
       "1  2024-09-19  10.372042    6.333013   14.437805\n",
       "2  2024-09-20  10.406184    6.256477   14.786188\n",
       "3  2024-09-21  10.524391    6.451115   14.671974\n",
       "4  2024-09-22  10.914651    6.659715   14.919613\n",
       "..        ...        ...         ...         ...\n",
       "85 2024-12-12  13.109324    9.107265   17.506628\n",
       "86 2024-12-13  13.143466    8.887660   17.346126\n",
       "87 2024-12-14  13.261674    9.287812   17.672843\n",
       "88 2024-12-15  13.651933    9.599034   18.032739\n",
       "89 2024-12-16  13.670813    9.407771   18.116293\n",
       "\n",
       "[90 rows x 4 columns]"
      ]
     },
     "execution_count": 27,
     "metadata": {},
     "output_type": "execute_result"
    }
   ],
   "source": [
    "futuro = ds_future.loc[ds_future[\"ds\"] > \"2024-09-17\",\\\n",
    "        ['ds', 'yhat', 'yhat_lower', 'yhat_upper']] \\\n",
    "        .groupby(\"ds\").sum().reset_index()\n",
    "futuro"
   ]
  },
  {
   "cell_type": "code",
   "execution_count": 28,
   "metadata": {},
   "outputs": [
    {
     "data": {
      "text/plain": [
       "1077.2241581634785"
      ]
     },
     "execution_count": 28,
     "metadata": {},
     "output_type": "execute_result"
    }
   ],
   "source": [
    "futuro['yhat'].sum()"
   ]
  },
  {
   "cell_type": "code",
   "execution_count": 30,
   "metadata": {},
   "outputs": [
    {
     "name": "stderr",
     "output_type": "stream",
     "text": [
      "e:\\3_recursos\\2_area\\profissional\\cursos\\v3119\\Lib\\site-packages\\prophet\\plot.py:72: FutureWarning: The behavior of DatetimeProperties.to_pydatetime is deprecated, in a future version this will return a Series containing python datetime objects instead of an ndarray. To retain the old behavior, call `np.array` on the result\n",
      "  fcst_t = fcst['ds'].dt.to_pydatetime()\n",
      "e:\\3_recursos\\2_area\\profissional\\cursos\\v3119\\Lib\\site-packages\\prophet\\plot.py:73: FutureWarning: The behavior of DatetimeProperties.to_pydatetime is deprecated, in a future version this will return a Series containing python datetime objects instead of an ndarray. To retain the old behavior, call `np.array` on the result\n",
      "  ax.plot(m.history['ds'].dt.to_pydatetime(), m.history['y'], 'k.',\n"
     ]
    },
    {
     "ename": "TypeError",
     "evalue": "ufunc 'isfinite' not supported for the input types, and the inputs could not be safely coerced to any supported types according to the casting rule ''safe''",
     "output_type": "error",
     "traceback": [
      "\u001b[1;31m---------------------------------------------------------------------------\u001b[0m",
      "\u001b[1;31mTypeError\u001b[0m                                 Traceback (most recent call last)",
      "Cell \u001b[1;32mIn[30], line 1\u001b[0m\n\u001b[1;32m----> 1\u001b[0m fig1 \u001b[38;5;241m=\u001b[39m \u001b[43mm\u001b[49m\u001b[38;5;241;43m.\u001b[39;49m\u001b[43mplot\u001b[49m\u001b[43m(\u001b[49m\u001b[43mforecast\u001b[49m\u001b[43m)\u001b[49m\n",
      "File \u001b[1;32me:\\3_recursos\\2_area\\profissional\\cursos\\v3119\\Lib\\site-packages\\prophet\\forecaster.py:1886\u001b[0m, in \u001b[0;36mProphet.plot\u001b[1;34m(self, fcst, ax, uncertainty, plot_cap, xlabel, ylabel, figsize, include_legend)\u001b[0m\n\u001b[0;32m   1866\u001b[0m \u001b[39mdef\u001b[39;00m \u001b[39mplot\u001b[39m(\u001b[39mself\u001b[39m, fcst, ax\u001b[39m=\u001b[39m\u001b[39mNone\u001b[39;00m, uncertainty\u001b[39m=\u001b[39m\u001b[39mTrue\u001b[39;00m, plot_cap\u001b[39m=\u001b[39m\u001b[39mTrue\u001b[39;00m,\n\u001b[0;32m   1867\u001b[0m          xlabel\u001b[39m=\u001b[39m\u001b[39m'\u001b[39m\u001b[39mds\u001b[39m\u001b[39m'\u001b[39m, ylabel\u001b[39m=\u001b[39m\u001b[39m'\u001b[39m\u001b[39my\u001b[39m\u001b[39m'\u001b[39m, figsize\u001b[39m=\u001b[39m(\u001b[39m10\u001b[39m, \u001b[39m6\u001b[39m), include_legend\u001b[39m=\u001b[39m\u001b[39mFalse\u001b[39;00m):\n\u001b[0;32m   1868\u001b[0m \u001b[39m    \u001b[39m\u001b[39m\"\"\"Plot the Prophet forecast.\u001b[39;00m\n\u001b[0;32m   1869\u001b[0m \n\u001b[0;32m   1870\u001b[0m \u001b[39m    Parameters\u001b[39;00m\n\u001b[1;32m   (...)\u001b[0m\n\u001b[0;32m   1884\u001b[0m \u001b[39m    A matplotlib figure.\u001b[39;00m\n\u001b[0;32m   1885\u001b[0m \u001b[39m    \"\"\"\u001b[39;00m\n\u001b[1;32m-> 1886\u001b[0m     \u001b[39mreturn\u001b[39;00m plot(\n\u001b[0;32m   1887\u001b[0m         m\u001b[39m=\u001b[39;49m\u001b[39mself\u001b[39;49m, fcst\u001b[39m=\u001b[39;49mfcst, ax\u001b[39m=\u001b[39;49max, uncertainty\u001b[39m=\u001b[39;49muncertainty,\n\u001b[0;32m   1888\u001b[0m         plot_cap\u001b[39m=\u001b[39;49mplot_cap, xlabel\u001b[39m=\u001b[39;49mxlabel, ylabel\u001b[39m=\u001b[39;49mylabel,\n\u001b[0;32m   1889\u001b[0m         figsize\u001b[39m=\u001b[39;49mfigsize, include_legend\u001b[39m=\u001b[39;49minclude_legend\n\u001b[0;32m   1890\u001b[0m     )\n",
      "File \u001b[1;32me:\\3_recursos\\2_area\\profissional\\cursos\\v3119\\Lib\\site-packages\\prophet\\plot.py:81\u001b[0m, in \u001b[0;36mplot\u001b[1;34m(m, fcst, ax, uncertainty, plot_cap, xlabel, ylabel, figsize, include_legend)\u001b[0m\n\u001b[0;32m     79\u001b[0m     ax\u001b[39m.\u001b[39mplot(fcst_t, fcst[\u001b[39m'\u001b[39m\u001b[39mfloor\u001b[39m\u001b[39m'\u001b[39m], ls\u001b[39m=\u001b[39m\u001b[39m'\u001b[39m\u001b[39m--\u001b[39m\u001b[39m'\u001b[39m, c\u001b[39m=\u001b[39m\u001b[39m'\u001b[39m\u001b[39mk\u001b[39m\u001b[39m'\u001b[39m, label\u001b[39m=\u001b[39m\u001b[39m'\u001b[39m\u001b[39mMinimum capacity\u001b[39m\u001b[39m'\u001b[39m)\n\u001b[0;32m     80\u001b[0m \u001b[39mif\u001b[39;00m uncertainty \u001b[39mand\u001b[39;00m m\u001b[39m.\u001b[39muncertainty_samples:\n\u001b[1;32m---> 81\u001b[0m     ax\u001b[39m.\u001b[39;49mfill_between(fcst_t, fcst[\u001b[39m'\u001b[39;49m\u001b[39myhat_lower\u001b[39;49m\u001b[39m'\u001b[39;49m], fcst[\u001b[39m'\u001b[39;49m\u001b[39myhat_upper\u001b[39;49m\u001b[39m'\u001b[39;49m],\n\u001b[0;32m     82\u001b[0m                     color\u001b[39m=\u001b[39;49m\u001b[39m'\u001b[39;49m\u001b[39m#0072B2\u001b[39;49m\u001b[39m'\u001b[39;49m, alpha\u001b[39m=\u001b[39;49m\u001b[39m0.2\u001b[39;49m, label\u001b[39m=\u001b[39;49m\u001b[39m'\u001b[39;49m\u001b[39mUncertainty interval\u001b[39;49m\u001b[39m'\u001b[39;49m)\n\u001b[0;32m     83\u001b[0m \u001b[39m# Specify formatting to workaround matplotlib issue #12925\u001b[39;00m\n\u001b[0;32m     84\u001b[0m locator \u001b[39m=\u001b[39m AutoDateLocator(interval_multiples\u001b[39m=\u001b[39m\u001b[39mFalse\u001b[39;00m)\n",
      "File \u001b[1;32me:\\3_recursos\\2_area\\profissional\\cursos\\v3119\\Lib\\site-packages\\matplotlib\\__init__.py:1473\u001b[0m, in \u001b[0;36m_preprocess_data.<locals>.inner\u001b[1;34m(ax, data, *args, **kwargs)\u001b[0m\n\u001b[0;32m   1470\u001b[0m \u001b[39m@functools\u001b[39m\u001b[39m.\u001b[39mwraps(func)\n\u001b[0;32m   1471\u001b[0m \u001b[39mdef\u001b[39;00m \u001b[39minner\u001b[39m(ax, \u001b[39m*\u001b[39margs, data\u001b[39m=\u001b[39m\u001b[39mNone\u001b[39;00m, \u001b[39m*\u001b[39m\u001b[39m*\u001b[39mkwargs):\n\u001b[0;32m   1472\u001b[0m     \u001b[39mif\u001b[39;00m data \u001b[39mis\u001b[39;00m \u001b[39mNone\u001b[39;00m:\n\u001b[1;32m-> 1473\u001b[0m         \u001b[39mreturn\u001b[39;00m func(\n\u001b[0;32m   1474\u001b[0m             ax,\n\u001b[0;32m   1475\u001b[0m             \u001b[39m*\u001b[39;49m\u001b[39mmap\u001b[39;49m(sanitize_sequence, args),\n\u001b[0;32m   1476\u001b[0m             \u001b[39m*\u001b[39;49m\u001b[39m*\u001b[39;49m{k: sanitize_sequence(v) \u001b[39mfor\u001b[39;49;00m k, v \u001b[39min\u001b[39;49;00m kwargs\u001b[39m.\u001b[39;49mitems()})\n\u001b[0;32m   1478\u001b[0m     bound \u001b[39m=\u001b[39m new_sig\u001b[39m.\u001b[39mbind(ax, \u001b[39m*\u001b[39margs, \u001b[39m*\u001b[39m\u001b[39m*\u001b[39mkwargs)\n\u001b[0;32m   1479\u001b[0m     auto_label \u001b[39m=\u001b[39m (bound\u001b[39m.\u001b[39marguments\u001b[39m.\u001b[39mget(label_namer)\n\u001b[0;32m   1480\u001b[0m                   \u001b[39mor\u001b[39;00m bound\u001b[39m.\u001b[39mkwargs\u001b[39m.\u001b[39mget(label_namer))\n",
      "File \u001b[1;32me:\\3_recursos\\2_area\\profissional\\cursos\\v3119\\Lib\\site-packages\\matplotlib\\axes\\_axes.py:5648\u001b[0m, in \u001b[0;36mAxes.fill_between\u001b[1;34m(self, x, y1, y2, where, interpolate, step, **kwargs)\u001b[0m\n\u001b[0;32m   5646\u001b[0m \u001b[39mdef\u001b[39;00m \u001b[39mfill_between\u001b[39m(\u001b[39mself\u001b[39m, x, y1, y2\u001b[39m=\u001b[39m\u001b[39m0\u001b[39m, where\u001b[39m=\u001b[39m\u001b[39mNone\u001b[39;00m, interpolate\u001b[39m=\u001b[39m\u001b[39mFalse\u001b[39;00m,\n\u001b[0;32m   5647\u001b[0m                  step\u001b[39m=\u001b[39m\u001b[39mNone\u001b[39;00m, \u001b[39m*\u001b[39m\u001b[39m*\u001b[39mkwargs):\n\u001b[1;32m-> 5648\u001b[0m     \u001b[39mreturn\u001b[39;00m \u001b[39mself\u001b[39;49m\u001b[39m.\u001b[39;49m_fill_between_x_or_y(\n\u001b[0;32m   5649\u001b[0m         \u001b[39m\"\u001b[39;49m\u001b[39mx\u001b[39;49m\u001b[39m\"\u001b[39;49m, x, y1, y2,\n\u001b[0;32m   5650\u001b[0m         where\u001b[39m=\u001b[39;49mwhere, interpolate\u001b[39m=\u001b[39;49minterpolate, step\u001b[39m=\u001b[39;49mstep, \u001b[39m*\u001b[39;49m\u001b[39m*\u001b[39;49mkwargs)\n",
      "File \u001b[1;32me:\\3_recursos\\2_area\\profissional\\cursos\\v3119\\Lib\\site-packages\\matplotlib\\axes\\_axes.py:5548\u001b[0m, in \u001b[0;36mAxes._fill_between_x_or_y\u001b[1;34m(self, ind_dir, ind, dep1, dep2, where, interpolate, step, **kwargs)\u001b[0m\n\u001b[0;32m   5544\u001b[0m         kwargs[\u001b[39m\"\u001b[39m\u001b[39mfacecolor\u001b[39m\u001b[39m\"\u001b[39m] \u001b[39m=\u001b[39m \\\n\u001b[0;32m   5545\u001b[0m             \u001b[39mself\u001b[39m\u001b[39m.\u001b[39m_get_patches_for_fill\u001b[39m.\u001b[39mget_next_color()\n\u001b[0;32m   5547\u001b[0m \u001b[39m# Handle united data, such as dates\u001b[39;00m\n\u001b[1;32m-> 5548\u001b[0m ind, dep1, dep2 \u001b[39m=\u001b[39m \u001b[39mmap\u001b[39m(\n\u001b[0;32m   5549\u001b[0m     ma\u001b[39m.\u001b[39mmasked_invalid, \u001b[39mself\u001b[39m\u001b[39m.\u001b[39m_process_unit_info(\n\u001b[0;32m   5550\u001b[0m         [(ind_dir, ind), (dep_dir, dep1), (dep_dir, dep2)], kwargs))\n\u001b[0;32m   5552\u001b[0m \u001b[39mfor\u001b[39;00m name, array \u001b[39min\u001b[39;00m [\n\u001b[0;32m   5553\u001b[0m         (ind_dir, ind), (\u001b[39mf\u001b[39m\u001b[39m\"\u001b[39m\u001b[39m{\u001b[39;00mdep_dir\u001b[39m}\u001b[39;00m\u001b[39m1\u001b[39m\u001b[39m\"\u001b[39m, dep1), (\u001b[39mf\u001b[39m\u001b[39m\"\u001b[39m\u001b[39m{\u001b[39;00mdep_dir\u001b[39m}\u001b[39;00m\u001b[39m2\u001b[39m\u001b[39m\"\u001b[39m, dep2)]:\n\u001b[0;32m   5554\u001b[0m     \u001b[39mif\u001b[39;00m array\u001b[39m.\u001b[39mndim \u001b[39m>\u001b[39m \u001b[39m1\u001b[39m:\n",
      "File \u001b[1;32me:\\3_recursos\\2_area\\profissional\\cursos\\v3119\\Lib\\site-packages\\numpy\\ma\\core.py:2360\u001b[0m, in \u001b[0;36mmasked_invalid\u001b[1;34m(a, copy)\u001b[0m\n\u001b[0;32m   2332\u001b[0m \u001b[39mdef\u001b[39;00m \u001b[39mmasked_invalid\u001b[39m(a, copy\u001b[39m=\u001b[39m\u001b[39mTrue\u001b[39;00m):\n\u001b[0;32m   2333\u001b[0m \u001b[39m    \u001b[39m\u001b[39m\"\"\"\u001b[39;00m\n\u001b[0;32m   2334\u001b[0m \u001b[39m    Mask an array where invalid values occur (NaNs or infs).\u001b[39;00m\n\u001b[0;32m   2335\u001b[0m \n\u001b[1;32m   (...)\u001b[0m\n\u001b[0;32m   2357\u001b[0m \n\u001b[0;32m   2358\u001b[0m \u001b[39m    \"\"\"\u001b[39;00m\n\u001b[1;32m-> 2360\u001b[0m     \u001b[39mreturn\u001b[39;00m masked_where(\u001b[39m~\u001b[39m(np\u001b[39m.\u001b[39;49misfinite(getdata(a))), a, copy\u001b[39m=\u001b[39mcopy)\n",
      "\u001b[1;31mTypeError\u001b[0m: ufunc 'isfinite' not supported for the input types, and the inputs could not be safely coerced to any supported types according to the casting rule ''safe''"
     ]
    },
    {
     "data": {
      "image/png": "[encoded data removed]",
      "text/plain": [
       "<Figure size 1000x600 with 1 Axes>"
      ]
     },
     "metadata": {},
     "output_type": "display_data"
    }
   ],
   "source": [
    "fig1 = m.plot(forecast)"
   ]
  },
  {
   "cell_type": "code",
   "execution_count": 31,
   "metadata": {},
   "outputs": [
    {
     "name": "stderr",
     "output_type": "stream",
     "text": [
      "e:\\3_recursos\\2_area\\profissional\\cursos\\v3119\\Lib\\site-packages\\prophet\\plot.py:228: FutureWarning: The behavior of DatetimeProperties.to_pydatetime is deprecated, in a future version this will return a Series containing python datetime objects instead of an ndarray. To retain the old behavior, call `np.array` on the result\n",
      "  fcst_t = fcst['ds'].dt.to_pydatetime()\n"
     ]
    },
    {
     "ename": "TypeError",
     "evalue": "ufunc 'isfinite' not supported for the input types, and the inputs could not be safely coerced to any supported types according to the casting rule ''safe''",
     "output_type": "error",
     "traceback": [
      "\u001b[1;31m---------------------------------------------------------------------------\u001b[0m",
      "\u001b[1;31mTypeError\u001b[0m                                 Traceback (most recent call last)",
      "Cell \u001b[1;32mIn[31], line 1\u001b[0m\n\u001b[1;32m----> 1\u001b[0m fig2 \u001b[38;5;241m=\u001b[39m \u001b[43mm\u001b[49m\u001b[38;5;241;43m.\u001b[39;49m\u001b[43mplot_components\u001b[49m\u001b[43m(\u001b[49m\u001b[43mforecast\u001b[49m\u001b[43m)\u001b[49m\n",
      "File \u001b[1;32me:\\3_recursos\\2_area\\profissional\\cursos\\v3119\\Lib\\site-packages\\prophet\\forecaster.py:1917\u001b[0m, in \u001b[0;36mProphet.plot_components\u001b[1;34m(self, fcst, uncertainty, plot_cap, weekly_start, yearly_start, figsize)\u001b[0m\n\u001b[0;32m   1892\u001b[0m \u001b[39mdef\u001b[39;00m \u001b[39mplot_components\u001b[39m(\u001b[39mself\u001b[39m, fcst, uncertainty\u001b[39m=\u001b[39m\u001b[39mTrue\u001b[39;00m, plot_cap\u001b[39m=\u001b[39m\u001b[39mTrue\u001b[39;00m,\n\u001b[0;32m   1893\u001b[0m                     weekly_start\u001b[39m=\u001b[39m\u001b[39m0\u001b[39m, yearly_start\u001b[39m=\u001b[39m\u001b[39m0\u001b[39m, figsize\u001b[39m=\u001b[39m\u001b[39mNone\u001b[39;00m):\n\u001b[0;32m   1894\u001b[0m \u001b[39m    \u001b[39m\u001b[39m\"\"\"Plot the Prophet forecast components.\u001b[39;00m\n\u001b[0;32m   1895\u001b[0m \n\u001b[0;32m   1896\u001b[0m \u001b[39m    Will plot whichever are available of: trend, holidays, weekly\u001b[39;00m\n\u001b[1;32m   (...)\u001b[0m\n\u001b[0;32m   1915\u001b[0m \u001b[39m    A matplotlib figure.\u001b[39;00m\n\u001b[0;32m   1916\u001b[0m \u001b[39m    \"\"\"\u001b[39;00m\n\u001b[1;32m-> 1917\u001b[0m     \u001b[39mreturn\u001b[39;00m plot_components(\n\u001b[0;32m   1918\u001b[0m         m\u001b[39m=\u001b[39;49m\u001b[39mself\u001b[39;49m, fcst\u001b[39m=\u001b[39;49mfcst, uncertainty\u001b[39m=\u001b[39;49muncertainty, plot_cap\u001b[39m=\u001b[39;49mplot_cap,\n\u001b[0;32m   1919\u001b[0m         weekly_start\u001b[39m=\u001b[39;49mweekly_start, yearly_start\u001b[39m=\u001b[39;49myearly_start,\n\u001b[0;32m   1920\u001b[0m         figsize\u001b[39m=\u001b[39;49mfigsize\n\u001b[0;32m   1921\u001b[0m     )\n",
      "File \u001b[1;32me:\\3_recursos\\2_area\\profissional\\cursos\\v3119\\Lib\\site-packages\\prophet\\plot.py:164\u001b[0m, in \u001b[0;36mplot_components\u001b[1;34m(m, fcst, uncertainty, plot_cap, weekly_start, yearly_start, figsize)\u001b[0m\n\u001b[0;32m    162\u001b[0m \u001b[39mfor\u001b[39;00m ax, plot_name \u001b[39min\u001b[39;00m \u001b[39mzip\u001b[39m(axes, components):\n\u001b[0;32m    163\u001b[0m     \u001b[39mif\u001b[39;00m plot_name \u001b[39m==\u001b[39m \u001b[39m'\u001b[39m\u001b[39mtrend\u001b[39m\u001b[39m'\u001b[39m:\n\u001b[1;32m--> 164\u001b[0m         plot_forecast_component(\n\u001b[0;32m    165\u001b[0m             m\u001b[39m=\u001b[39;49mm, fcst\u001b[39m=\u001b[39;49mfcst, name\u001b[39m=\u001b[39;49m\u001b[39m'\u001b[39;49m\u001b[39mtrend\u001b[39;49m\u001b[39m'\u001b[39;49m, ax\u001b[39m=\u001b[39;49max, uncertainty\u001b[39m=\u001b[39;49muncertainty,\n\u001b[0;32m    166\u001b[0m             plot_cap\u001b[39m=\u001b[39;49mplot_cap,\n\u001b[0;32m    167\u001b[0m         )\n\u001b[0;32m    168\u001b[0m     \u001b[39melif\u001b[39;00m plot_name \u001b[39min\u001b[39;00m m\u001b[39m.\u001b[39mseasonalities:\n\u001b[0;32m    169\u001b[0m         \u001b[39mif\u001b[39;00m (\n\u001b[0;32m    170\u001b[0m             (plot_name \u001b[39m==\u001b[39m \u001b[39m'\u001b[39m\u001b[39mweekly\u001b[39m\u001b[39m'\u001b[39m \u001b[39mor\u001b[39;00m m\u001b[39m.\u001b[39mseasonalities[plot_name][\u001b[39m'\u001b[39m\u001b[39mperiod\u001b[39m\u001b[39m'\u001b[39m] \u001b[39m==\u001b[39m \u001b[39m7\u001b[39m)\n\u001b[0;32m    171\u001b[0m             \u001b[39mand\u001b[39;00m (min_dt \u001b[39m==\u001b[39m pd\u001b[39m.\u001b[39mTimedelta(days\u001b[39m=\u001b[39m\u001b[39m1\u001b[39m))\n\u001b[0;32m    172\u001b[0m         ):\n",
      "File \u001b[1;32me:\\3_recursos\\2_area\\profissional\\cursos\\v3119\\Lib\\site-packages\\prophet\\plot.py:235\u001b[0m, in \u001b[0;36mplot_forecast_component\u001b[1;34m(m, fcst, name, ax, uncertainty, plot_cap, figsize)\u001b[0m\n\u001b[0;32m    233\u001b[0m     ax\u001b[39m.\u001b[39mplot(fcst_t, fcst[\u001b[39m'\u001b[39m\u001b[39mfloor\u001b[39m\u001b[39m'\u001b[39m], ls\u001b[39m=\u001b[39m\u001b[39m'\u001b[39m\u001b[39m--\u001b[39m\u001b[39m'\u001b[39m, c\u001b[39m=\u001b[39m\u001b[39m'\u001b[39m\u001b[39mk\u001b[39m\u001b[39m'\u001b[39m)\n\u001b[0;32m    234\u001b[0m \u001b[39mif\u001b[39;00m uncertainty \u001b[39mand\u001b[39;00m m\u001b[39m.\u001b[39muncertainty_samples:\n\u001b[1;32m--> 235\u001b[0m     artists \u001b[39m+\u001b[39m\u001b[39m=\u001b[39m [ax\u001b[39m.\u001b[39;49mfill_between(\n\u001b[0;32m    236\u001b[0m         fcst_t, fcst[name \u001b[39m+\u001b[39;49m \u001b[39m'\u001b[39;49m\u001b[39m_lower\u001b[39;49m\u001b[39m'\u001b[39;49m], fcst[name \u001b[39m+\u001b[39;49m \u001b[39m'\u001b[39;49m\u001b[39m_upper\u001b[39;49m\u001b[39m'\u001b[39;49m],\n\u001b[0;32m    237\u001b[0m         color\u001b[39m=\u001b[39;49m\u001b[39m'\u001b[39;49m\u001b[39m#0072B2\u001b[39;49m\u001b[39m'\u001b[39;49m, alpha\u001b[39m=\u001b[39;49m\u001b[39m0.2\u001b[39;49m)]\n\u001b[0;32m    238\u001b[0m \u001b[39m# Specify formatting to workaround matplotlib issue #12925\u001b[39;00m\n\u001b[0;32m    239\u001b[0m locator \u001b[39m=\u001b[39m AutoDateLocator(interval_multiples\u001b[39m=\u001b[39m\u001b[39mFalse\u001b[39;00m)\n",
      "File \u001b[1;32me:\\3_recursos\\2_area\\profissional\\cursos\\v3119\\Lib\\site-packages\\matplotlib\\__init__.py:1473\u001b[0m, in \u001b[0;36m_preprocess_data.<locals>.inner\u001b[1;34m(ax, data, *args, **kwargs)\u001b[0m\n\u001b[0;32m   1470\u001b[0m \u001b[39m@functools\u001b[39m\u001b[39m.\u001b[39mwraps(func)\n\u001b[0;32m   1471\u001b[0m \u001b[39mdef\u001b[39;00m \u001b[39minner\u001b[39m(ax, \u001b[39m*\u001b[39margs, data\u001b[39m=\u001b[39m\u001b[39mNone\u001b[39;00m, \u001b[39m*\u001b[39m\u001b[39m*\u001b[39mkwargs):\n\u001b[0;32m   1472\u001b[0m     \u001b[39mif\u001b[39;00m data \u001b[39mis\u001b[39;00m \u001b[39mNone\u001b[39;00m:\n\u001b[1;32m-> 1473\u001b[0m         \u001b[39mreturn\u001b[39;00m func(\n\u001b[0;32m   1474\u001b[0m             ax,\n\u001b[0;32m   1475\u001b[0m             \u001b[39m*\u001b[39;49m\u001b[39mmap\u001b[39;49m(sanitize_sequence, args),\n\u001b[0;32m   1476\u001b[0m             \u001b[39m*\u001b[39;49m\u001b[39m*\u001b[39;49m{k: sanitize_sequence(v) \u001b[39mfor\u001b[39;49;00m k, v \u001b[39min\u001b[39;49;00m kwargs\u001b[39m.\u001b[39;49mitems()})\n\u001b[0;32m   1478\u001b[0m     bound \u001b[39m=\u001b[39m new_sig\u001b[39m.\u001b[39mbind(ax, \u001b[39m*\u001b[39margs, \u001b[39m*\u001b[39m\u001b[39m*\u001b[39mkwargs)\n\u001b[0;32m   1479\u001b[0m     auto_label \u001b[39m=\u001b[39m (bound\u001b[39m.\u001b[39marguments\u001b[39m.\u001b[39mget(label_namer)\n\u001b[0;32m   1480\u001b[0m                   \u001b[39mor\u001b[39;00m bound\u001b[39m.\u001b[39mkwargs\u001b[39m.\u001b[39mget(label_namer))\n",
      "File \u001b[1;32me:\\3_recursos\\2_area\\profissional\\cursos\\v3119\\Lib\\site-packages\\matplotlib\\axes\\_axes.py:5648\u001b[0m, in \u001b[0;36mAxes.fill_between\u001b[1;34m(self, x, y1, y2, where, interpolate, step, **kwargs)\u001b[0m\n\u001b[0;32m   5646\u001b[0m \u001b[39mdef\u001b[39;00m \u001b[39mfill_between\u001b[39m(\u001b[39mself\u001b[39m, x, y1, y2\u001b[39m=\u001b[39m\u001b[39m0\u001b[39m, where\u001b[39m=\u001b[39m\u001b[39mNone\u001b[39;00m, interpolate\u001b[39m=\u001b[39m\u001b[39mFalse\u001b[39;00m,\n\u001b[0;32m   5647\u001b[0m                  step\u001b[39m=\u001b[39m\u001b[39mNone\u001b[39;00m, \u001b[39m*\u001b[39m\u001b[39m*\u001b[39mkwargs):\n\u001b[1;32m-> 5648\u001b[0m     \u001b[39mreturn\u001b[39;00m \u001b[39mself\u001b[39;49m\u001b[39m.\u001b[39;49m_fill_between_x_or_y(\n\u001b[0;32m   5649\u001b[0m         \u001b[39m\"\u001b[39;49m\u001b[39mx\u001b[39;49m\u001b[39m\"\u001b[39;49m, x, y1, y2,\n\u001b[0;32m   5650\u001b[0m         where\u001b[39m=\u001b[39;49mwhere, interpolate\u001b[39m=\u001b[39;49minterpolate, step\u001b[39m=\u001b[39;49mstep, \u001b[39m*\u001b[39;49m\u001b[39m*\u001b[39;49mkwargs)\n",
      "File \u001b[1;32me:\\3_recursos\\2_area\\profissional\\cursos\\v3119\\Lib\\site-packages\\matplotlib\\axes\\_axes.py:5548\u001b[0m, in \u001b[0;36mAxes._fill_between_x_or_y\u001b[1;34m(self, ind_dir, ind, dep1, dep2, where, interpolate, step, **kwargs)\u001b[0m\n\u001b[0;32m   5544\u001b[0m         kwargs[\u001b[39m\"\u001b[39m\u001b[39mfacecolor\u001b[39m\u001b[39m\"\u001b[39m] \u001b[39m=\u001b[39m \\\n\u001b[0;32m   5545\u001b[0m             \u001b[39mself\u001b[39m\u001b[39m.\u001b[39m_get_patches_for_fill\u001b[39m.\u001b[39mget_next_color()\n\u001b[0;32m   5547\u001b[0m \u001b[39m# Handle united data, such as dates\u001b[39;00m\n\u001b[1;32m-> 5548\u001b[0m ind, dep1, dep2 \u001b[39m=\u001b[39m \u001b[39mmap\u001b[39m(\n\u001b[0;32m   5549\u001b[0m     ma\u001b[39m.\u001b[39mmasked_invalid, \u001b[39mself\u001b[39m\u001b[39m.\u001b[39m_process_unit_info(\n\u001b[0;32m   5550\u001b[0m         [(ind_dir, ind), (dep_dir, dep1), (dep_dir, dep2)], kwargs))\n\u001b[0;32m   5552\u001b[0m \u001b[39mfor\u001b[39;00m name, array \u001b[39min\u001b[39;00m [\n\u001b[0;32m   5553\u001b[0m         (ind_dir, ind), (\u001b[39mf\u001b[39m\u001b[39m\"\u001b[39m\u001b[39m{\u001b[39;00mdep_dir\u001b[39m}\u001b[39;00m\u001b[39m1\u001b[39m\u001b[39m\"\u001b[39m, dep1), (\u001b[39mf\u001b[39m\u001b[39m\"\u001b[39m\u001b[39m{\u001b[39;00mdep_dir\u001b[39m}\u001b[39;00m\u001b[39m2\u001b[39m\u001b[39m\"\u001b[39m, dep2)]:\n\u001b[0;32m   5554\u001b[0m     \u001b[39mif\u001b[39;00m array\u001b[39m.\u001b[39mndim \u001b[39m>\u001b[39m \u001b[39m1\u001b[39m:\n",
      "File \u001b[1;32me:\\3_recursos\\2_area\\profissional\\cursos\\v3119\\Lib\\site-packages\\numpy\\ma\\core.py:2360\u001b[0m, in \u001b[0;36mmasked_invalid\u001b[1;34m(a, copy)\u001b[0m\n\u001b[0;32m   2332\u001b[0m \u001b[39mdef\u001b[39;00m \u001b[39mmasked_invalid\u001b[39m(a, copy\u001b[39m=\u001b[39m\u001b[39mTrue\u001b[39;00m):\n\u001b[0;32m   2333\u001b[0m \u001b[39m    \u001b[39m\u001b[39m\"\"\"\u001b[39;00m\n\u001b[0;32m   2334\u001b[0m \u001b[39m    Mask an array where invalid values occur (NaNs or infs).\u001b[39;00m\n\u001b[0;32m   2335\u001b[0m \n\u001b[1;32m   (...)\u001b[0m\n\u001b[0;32m   2357\u001b[0m \n\u001b[0;32m   2358\u001b[0m \u001b[39m    \"\"\"\u001b[39;00m\n\u001b[1;32m-> 2360\u001b[0m     \u001b[39mreturn\u001b[39;00m masked_where(\u001b[39m~\u001b[39m(np\u001b[39m.\u001b[39;49misfinite(getdata(a))), a, copy\u001b[39m=\u001b[39mcopy)\n",
      "\u001b[1;31mTypeError\u001b[0m: ufunc 'isfinite' not supported for the input types, and the inputs could not be safely coerced to any supported types according to the casting rule ''safe''"
     ]
    },
    {
     "data": {
      "image/png": "[encoded data removed]",
      "text/plain": [
       "<Figure size 900x600 with 2 Axes>"
      ]
     },
     "metadata": {},
     "output_type": "display_data"
    }
   ],
   "source": [
    "fig2 = m.plot_components(forecast)"
   ]
  }
 ],
 "metadata": {
  "kernelspec": {
   "display_name": "Python 3.11.9 ('v3119')",
   "language": "python",
   "name": "python3"
  },
  "language_info": {
   "codemirror_mode": {
    "name": "ipython",
    "version": 3
   },
   "file_extension": ".py",
   "mimetype": "text/x-python",
   "name": "python",
   "nbconvert_exporter": "python",
   "pygments_lexer": "ipython3",
   "version": "3.11.9"
  },
  "orig_nbformat": 4,
  "vscode": {
   "interpreter": {
    "hash": "d9fd945bec87ea1faae53cf0492201e0c2959d8565ad017415241cf5b171a17a"
   }
  }
 },
 "nbformat": 4,
 "nbformat_minor": 2
}
