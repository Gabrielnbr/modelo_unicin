{
 "cells": [
  {
   "cell_type": "markdown",
   "metadata": {},
   "source": [
    "# 0 Imports"
   ]
  },
  {
   "cell_type": "code",
   "execution_count": 2,
   "metadata": {},
   "outputs": [],
   "source": [
    "import pickle\n",
    "import datetime\n",
    "\n",
    "import numpy as np\n",
    "import pandas as pd\n",
    "import seaborn as sns\n",
    "\n",
    "\n",
    "from matplotlib import pyplot\n",
    "from prophet    import Prophet\n",
    "\n",
    "from IPython.display        import Image\n",
    "from IPython.core.display   import HTML\n",
    "\n",
    "\n"
   ]
  },
  {
   "cell_type": "code",
   "execution_count": null,
   "metadata": {},
   "outputs": [],
   "source": [
    "# Supressão da notação científica.\n",
    "np.set_printoptions(suppress=True)\n",
    "pd.set_option('display.float_format', '{:.6f}'.format)"
   ]
  },
  {
   "cell_type": "markdown",
   "metadata": {},
   "source": [
    "## 0.1 Funções Suporte"
   ]
  },
  {
   "cell_type": "code",
   "execution_count": null,
   "metadata": {},
   "outputs": [],
   "source": [
    "def jupyter_settings():\n",
    "    %matplotlib inline\n",
    "    %pylab inline\n",
    "    \n",
    "    plt.style.use( 'bmh' )\n",
    "    plt.rcParams['figure.figsize'] = [18,8]\n",
    "    plt.rcParams['font.size'] = 14\n",
    "    \n",
    "    display( HTML('<style>.container { width: 100% !important;} </style>') )\n",
    "    pd.options.display.max_columns = None\n",
    "    pd.options.display.max_rows = None\n",
    "    pd.set_option( 'display.expand_frame_repr', False)\n",
    "    \n",
    "    sns.set()\n",
    "    \n",
    "jupyter_settings()"
   ]
  },
  {
   "cell_type": "code",
   "execution_count": null,
   "metadata": {},
   "outputs": [],
   "source": [
    "def abrir_arquivo()-> pd.DataFrame:\n",
    "    with open(f\"{__CAMINHO_INTERIM}{__NOME_ARQUIVO_IMPORTAR}\",\"rb\") as arquivo:\n",
    "        df = pickle.load(arquivo)\n",
    "    return df"
   ]
  },
  {
   "cell_type": "code",
   "execution_count": null,
   "metadata": {},
   "outputs": [],
   "source": [
    "def exportar_dados_preparados(df: pd.DataFrame):\n",
    "    pickle.dump(f\"{__CAMINHO_INTERIM}{__NOME_ARQUIVO_EXPORTAR}\",\"rb\")"
   ]
  },
  {
   "cell_type": "markdown",
   "metadata": {},
   "source": [
    "## 0.2 Load Data"
   ]
  },
  {
   "cell_type": "code",
   "execution_count": null,
   "metadata": {},
   "outputs": [],
   "source": [
    "__CAMINHO_RAW = '../data/raw/'\n",
    "__CAMINHO_INTERIM = '../data/interim/'\n",
    "\n",
    "__NOME_ARQUIVO_IMPORTAR = '3_0_feature_engineering.pkl'\n",
    "__NOME_ARQUIVO_EXPORTAR = '5_0_preparacao_dados.pkl'"
   ]
  },
  {
   "cell_type": "code",
   "execution_count": null,
   "metadata": {},
   "outputs": [],
   "source": [
    "df = abrir_arquivo()"
   ]
  },
  {
   "cell_type": "markdown",
   "metadata": {},
   "source": [
    "# 5.0 Preparação dos Dados"
   ]
  },
  {
   "cell_type": "markdown",
   "metadata": {},
   "source": [
    "Observações do ponto 4.0 EDA pós FE:\n",
    "\n",
    "### Variáveis Numéricas\n",
    "\n",
    "Normalização:\n",
    "1. Principalmente para a própria variável resposta de custo, tem muito outlier.\n",
    "\n",
    "Reescala nos dados numéricos, testar e verificar reescala robusta a outliers:\n",
    "1. Os custos derivativos (Agregados), até que estão bonitinhos, talvez não dê muito trabalho.\n",
    "2. As datas construídas, talvez precisem de uma transformação, pois são cíclicas\n",
    "3. As datas não cíclicas (ano_semana, ano_mes), vê como faz, qual transformação aplicar, ou só descartar, elas são 'str'.\n",
    "\n",
    "Transformação:\n",
    "1. A coluna date passar para sen e cos (cíclico).\n",
    "2. Posso até fazer isso para todas as datas (anos, mês, dia, dia_da_semana, semana_ano)(cíclico).\n",
    "\n",
    "### Variáveis Categóricas"
   ]
  },
  {
   "cell_type": "markdown",
   "metadata": {},
   "source": [
    "## 5.1 Normalização"
   ]
  },
  {
   "cell_type": "code",
   "execution_count": null,
   "metadata": {},
   "outputs": [],
   "source": []
  },
  {
   "cell_type": "markdown",
   "metadata": {},
   "source": [
    "## 5.2 Reescala"
   ]
  },
  {
   "cell_type": "code",
   "execution_count": null,
   "metadata": {},
   "outputs": [],
   "source": []
  },
  {
   "cell_type": "markdown",
   "metadata": {},
   "source": [
    "## 5.3 Transformação"
   ]
  },
  {
   "cell_type": "code",
   "execution_count": null,
   "metadata": {},
   "outputs": [],
   "source": []
  },
  {
   "cell_type": "markdown",
   "metadata": {},
   "source": [
    "# 5.9 Export PKL"
   ]
  },
  {
   "cell_type": "code",
   "execution_count": null,
   "metadata": {},
   "outputs": [],
   "source": [
    "exportar_dados_preparados(df=df)"
   ]
  }
 ],
 "metadata": {
  "kernelspec": {
   "display_name": "Python 3.11.9 ('v3119')",
   "language": "python",
   "name": "python3"
  },
  "language_info": {
   "codemirror_mode": {
    "name": "ipython",
    "version": 3
   },
   "file_extension": ".py",
   "mimetype": "text/x-python",
   "name": "python",
   "nbconvert_exporter": "python",
   "pygments_lexer": "ipython3",
   "version": "3.11.9"
  },
  "orig_nbformat": 4,
  "vscode": {
   "interpreter": {
    "hash": "d9fd945bec87ea1faae53cf0492201e0c2959d8565ad017415241cf5b171a17a"
   }
  }
 },
 "nbformat": 4,
 "nbformat_minor": 2
}
