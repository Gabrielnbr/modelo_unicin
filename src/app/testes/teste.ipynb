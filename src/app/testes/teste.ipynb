{
 "cells": [
  {
   "cell_type": "markdown",
   "metadata": {},
   "source": [
    "# 0 IMPORTS"
   ]
  },
  {
   "cell_type": "code",
   "execution_count": 61,
   "metadata": {},
   "outputs": [],
   "source": [
    "import pickle\n",
    "import datetime\n",
    "\n",
    "import pandas           as pd\n",
    "import numpy            as np\n",
    "import plotly.express   as px\n",
    "import seaborn          as sns"
   ]
  },
  {
   "cell_type": "markdown",
   "metadata": {},
   "source": [
    "## 0.1 Funções de Suporte"
   ]
  },
  {
   "cell_type": "code",
   "execution_count": 3,
   "metadata": {},
   "outputs": [],
   "source": [
    "# Supressão da notação científica.\n",
    "np.set_printoptions(suppress=True)\n",
    "pd.set_option('display.float_format', '{:.6f}'.format)"
   ]
  },
  {
   "cell_type": "code",
   "execution_count": 7,
   "metadata": {},
   "outputs": [
    {
     "name": "stdout",
     "output_type": "stream",
     "text": [
      "%pylab is deprecated, use %matplotlib inline and import the required libraries.\n",
      "Populating the interactive namespace from numpy and matplotlib\n"
     ]
    },
    {
     "data": {
      "text/html": [
       "<style>.container { width: 100% !important;} </style>"
      ],
      "text/plain": [
       "<IPython.core.display.HTML object>"
      ]
     },
     "metadata": {},
     "output_type": "display_data"
    }
   ],
   "source": [
    "import seaborn as sns\n",
    "from IPython.display        import Image\n",
    "from IPython.core.display   import HTML\n",
    "\n",
    "def jupyter_settings():\n",
    "    %matplotlib inline\n",
    "    %pylab inline\n",
    "    \n",
    "    plt.style.use( 'bmh' )\n",
    "    plt.rcParams['figure.figsize'] = [12,6]\n",
    "    plt.rcParams['font.size'] = 16\n",
    "    \n",
    "    display( HTML('<style>.container { width: 100% !important;} </style>') )\n",
    "    pd.options.display.max_columns = None\n",
    "    pd.options.display.max_rows = None\n",
    "    pd.set_option( 'display.expand_frame_repr', False)\n",
    "    \n",
    "    sns.set()\n",
    "    \n",
    "jupyter_settings()"
   ]
  },
  {
   "cell_type": "markdown",
   "metadata": {},
   "source": [
    "## 0.2 Load Data"
   ]
  },
  {
   "cell_type": "code",
   "execution_count": 5,
   "metadata": {},
   "outputs": [],
   "source": [
    "reposicons = pickle.load(open(\"../../data/processed/2_0_eda_reposicons.pkl\",\"rb\"))\n",
    "ceaec = pickle.load(open(\"../../data/processed/2_0_eda_ceaec.pkl\",\"rb\"))"
   ]
  },
  {
   "cell_type": "code",
   "execution_count": 6,
   "metadata": {},
   "outputs": [],
   "source": [
    "reposicons['maquina'] = \"Reposicons\"\n",
    "ceaec['maquina'] = \"CEAEC\""
   ]
  },
  {
   "cell_type": "code",
   "execution_count": 14,
   "metadata": {},
   "outputs": [
    {
     "data": {
      "text/html": [
       "<div>\n",
       "<style scoped>\n",
       "    .dataframe tbody tr th:only-of-type {\n",
       "        vertical-align: middle;\n",
       "    }\n",
       "\n",
       "    .dataframe tbody tr th {\n",
       "        vertical-align: top;\n",
       "    }\n",
       "\n",
       "    .dataframe thead th {\n",
       "        text-align: right;\n",
       "    }\n",
       "</style>\n",
       "<table border=\"1\" class=\"dataframe\">\n",
       "  <thead>\n",
       "    <tr style=\"text-align: right;\">\n",
       "      <th></th>\n",
       "      <th>subscription_name</th>\n",
       "      <th>subscription_guid</th>\n",
       "      <th>date</th>\n",
       "      <th>resource_guid</th>\n",
       "      <th>service_name</th>\n",
       "      <th>service_type</th>\n",
       "      <th>service_region</th>\n",
       "      <th>service_resource</th>\n",
       "      <th>quantity</th>\n",
       "      <th>cost</th>\n",
       "      <th>year</th>\n",
       "      <th>month</th>\n",
       "      <th>day</th>\n",
       "      <th>week_of_year</th>\n",
       "      <th>year_week</th>\n",
       "      <th>year_month</th>\n",
       "      <th>maquina</th>\n",
       "    </tr>\n",
       "  </thead>\n",
       "  <tbody>\n",
       "    <tr>\n",
       "      <th>1171</th>\n",
       "      <td>Microsoft Azure Sponsorship</td>\n",
       "      <td>82375e17-0dda-4790-b6e8-c565d4f08e87</td>\n",
       "      <td>2024-07-04</td>\n",
       "      <td>c089a13a-9dd0-44b5-aa9e-44a77bbd6788</td>\n",
       "      <td>Bandwidth</td>\n",
       "      <td>All</td>\n",
       "      <td>BR South</td>\n",
       "      <td>Standard Data Transfer Out</td>\n",
       "      <td>21.629254</td>\n",
       "      <td>3.914896</td>\n",
       "      <td>2024</td>\n",
       "      <td>7</td>\n",
       "      <td>4</td>\n",
       "      <td>27</td>\n",
       "      <td>2024-27</td>\n",
       "      <td>2024-07</td>\n",
       "      <td>Reposicons</td>\n",
       "    </tr>\n",
       "    <tr>\n",
       "      <th>1686</th>\n",
       "      <td>Microsoft Azure Sponsorship</td>\n",
       "      <td>82375e17-0dda-4790-b6e8-c565d4f08e87</td>\n",
       "      <td>2023-10-11</td>\n",
       "      <td>b9e5e77c-a0b3-4a2c-9b8b-57fa54f31c52</td>\n",
       "      <td>Storage</td>\n",
       "      <td>Tables</td>\n",
       "      <td>All</td>\n",
       "      <td>Batch Write Operations</td>\n",
       "      <td>0.014600</td>\n",
       "      <td>0.000000</td>\n",
       "      <td>2023</td>\n",
       "      <td>10</td>\n",
       "      <td>11</td>\n",
       "      <td>41</td>\n",
       "      <td>2023-41</td>\n",
       "      <td>2023-10</td>\n",
       "      <td>Reposicons</td>\n",
       "    </tr>\n",
       "  </tbody>\n",
       "</table>\n",
       "</div>"
      ],
      "text/plain": [
       "                subscription_name                     subscription_guid       date                         resource_guid service_name service_type service_region            service_resource  quantity     cost  year  month  day  week_of_year year_week year_month     maquina\n",
       "1171  Microsoft Azure Sponsorship  82375e17-0dda-4790-b6e8-c565d4f08e87 2024-07-04  c089a13a-9dd0-44b5-aa9e-44a77bbd6788    Bandwidth          All       BR South  Standard Data Transfer Out 21.629254 3.914896  2024      7    4            27   2024-27    2024-07  Reposicons\n",
       "1686  Microsoft Azure Sponsorship  82375e17-0dda-4790-b6e8-c565d4f08e87 2023-10-11  b9e5e77c-a0b3-4a2c-9b8b-57fa54f31c52      Storage       Tables            All      Batch Write Operations  0.014600 0.000000  2023     10   11            41   2023-41    2023-10  Reposicons"
      ]
     },
     "execution_count": 14,
     "metadata": {},
     "output_type": "execute_result"
    }
   ],
   "source": [
    "reposicons.sample(2)"
   ]
  },
  {
   "cell_type": "code",
   "execution_count": 13,
   "metadata": {},
   "outputs": [
    {
     "data": {
      "text/html": [
       "<div>\n",
       "<style scoped>\n",
       "    .dataframe tbody tr th:only-of-type {\n",
       "        vertical-align: middle;\n",
       "    }\n",
       "\n",
       "    .dataframe tbody tr th {\n",
       "        vertical-align: top;\n",
       "    }\n",
       "\n",
       "    .dataframe thead th {\n",
       "        text-align: right;\n",
       "    }\n",
       "</style>\n",
       "<table border=\"1\" class=\"dataframe\">\n",
       "  <thead>\n",
       "    <tr style=\"text-align: right;\">\n",
       "      <th></th>\n",
       "      <th>subscription_name</th>\n",
       "      <th>subscription_guid</th>\n",
       "      <th>date</th>\n",
       "      <th>resource_guid</th>\n",
       "      <th>service_name</th>\n",
       "      <th>service_type</th>\n",
       "      <th>service_region</th>\n",
       "      <th>service_resource</th>\n",
       "      <th>quantity</th>\n",
       "      <th>cost</th>\n",
       "      <th>year</th>\n",
       "      <th>month</th>\n",
       "      <th>day</th>\n",
       "      <th>week_of_year</th>\n",
       "      <th>year_week</th>\n",
       "      <th>year_month</th>\n",
       "      <th>maquina</th>\n",
       "    </tr>\n",
       "  </thead>\n",
       "  <tbody>\n",
       "    <tr>\n",
       "      <th>3963</th>\n",
       "      <td>Microsoft Azure Sponsorship</td>\n",
       "      <td>82375e17-0dda-4790-b6e8-c565d4f08e87</td>\n",
       "      <td>2024-02-23</td>\n",
       "      <td>2dba9884-2518-4427-90ff-d2c100c5f775</td>\n",
       "      <td>Storage</td>\n",
       "      <td>Standard SSD Managed Disks</td>\n",
       "      <td>BR South</td>\n",
       "      <td>E6 LRS Disk</td>\n",
       "      <td>0.034488</td>\n",
       "      <td>0.309024</td>\n",
       "      <td>2024</td>\n",
       "      <td>2</td>\n",
       "      <td>23</td>\n",
       "      <td>8</td>\n",
       "      <td>2024-08</td>\n",
       "      <td>2024-02</td>\n",
       "      <td>CEAEC</td>\n",
       "    </tr>\n",
       "    <tr>\n",
       "      <th>1379</th>\n",
       "      <td>Microsoft Azure Sponsorship</td>\n",
       "      <td>82375e17-0dda-4790-b6e8-c565d4f08e87</td>\n",
       "      <td>2024-03-07</td>\n",
       "      <td>ce957933-8287-4f8b-83ee-53a5cbe056d9</td>\n",
       "      <td>Storage</td>\n",
       "      <td>Standard SSD Managed Disks</td>\n",
       "      <td>All</td>\n",
       "      <td>E4 LRS Disk Operations</td>\n",
       "      <td>59.525900</td>\n",
       "      <td>0.119052</td>\n",
       "      <td>2024</td>\n",
       "      <td>3</td>\n",
       "      <td>7</td>\n",
       "      <td>10</td>\n",
       "      <td>2024-10</td>\n",
       "      <td>2024-03</td>\n",
       "      <td>CEAEC</td>\n",
       "    </tr>\n",
       "  </tbody>\n",
       "</table>\n",
       "</div>"
      ],
      "text/plain": [
       "                subscription_name                     subscription_guid       date                         resource_guid service_name                service_type service_region        service_resource  quantity     cost  year  month  day  week_of_year year_week year_month maquina\n",
       "3963  Microsoft Azure Sponsorship  82375e17-0dda-4790-b6e8-c565d4f08e87 2024-02-23  2dba9884-2518-4427-90ff-d2c100c5f775      Storage  Standard SSD Managed Disks       BR South             E6 LRS Disk  0.034488 0.309024  2024      2   23             8   2024-08    2024-02   CEAEC\n",
       "1379  Microsoft Azure Sponsorship  82375e17-0dda-4790-b6e8-c565d4f08e87 2024-03-07  ce957933-8287-4f8b-83ee-53a5cbe056d9      Storage  Standard SSD Managed Disks            All  E4 LRS Disk Operations 59.525900 0.119052  2024      3    7            10   2024-10    2024-03   CEAEC"
      ]
     },
     "execution_count": 13,
     "metadata": {},
     "output_type": "execute_result"
    }
   ],
   "source": [
    "ceaec.sample(2)"
   ]
  },
  {
   "cell_type": "markdown",
   "metadata": {},
   "source": [
    "# 1. Teste Merge"
   ]
  },
  {
   "cell_type": "code",
   "execution_count": 7,
   "metadata": {},
   "outputs": [
    {
     "data": {
      "text/html": [
       "<div>\n",
       "<style scoped>\n",
       "    .dataframe tbody tr th:only-of-type {\n",
       "        vertical-align: middle;\n",
       "    }\n",
       "\n",
       "    .dataframe tbody tr th {\n",
       "        vertical-align: top;\n",
       "    }\n",
       "\n",
       "    .dataframe thead th {\n",
       "        text-align: right;\n",
       "    }\n",
       "</style>\n",
       "<table border=\"1\" class=\"dataframe\">\n",
       "  <thead>\n",
       "    <tr style=\"text-align: right;\">\n",
       "      <th></th>\n",
       "      <th>subscription_name</th>\n",
       "      <th>subscription_guid</th>\n",
       "      <th>date</th>\n",
       "      <th>resource_guid</th>\n",
       "      <th>service_name</th>\n",
       "      <th>service_type</th>\n",
       "      <th>service_region</th>\n",
       "      <th>service_resource</th>\n",
       "      <th>quantity</th>\n",
       "      <th>cost</th>\n",
       "      <th>year</th>\n",
       "      <th>month</th>\n",
       "      <th>day</th>\n",
       "      <th>week_of_year</th>\n",
       "      <th>year_week</th>\n",
       "      <th>year_month</th>\n",
       "      <th>data_br</th>\n",
       "      <th>maquina</th>\n",
       "    </tr>\n",
       "  </thead>\n",
       "  <tbody>\n",
       "    <tr>\n",
       "      <th>9281</th>\n",
       "      <td>Microsoft Azure Sponsorship</td>\n",
       "      <td>0b1856f5-ffb1-4fb2-9b31-ebc3ddeacf68</td>\n",
       "      <td>2024-01-02</td>\n",
       "      <td>dbefcfc1-e3f6-409b-be6d-9cd7b00724a5</td>\n",
       "      <td>Bandwidth</td>\n",
       "      <td>Inter-Region</td>\n",
       "      <td>North America</td>\n",
       "      <td>Intra Continent Data Transfer Out</td>\n",
       "      <td>0.272011</td>\n",
       "      <td>0.005439</td>\n",
       "      <td>2024</td>\n",
       "      <td>1</td>\n",
       "      <td>2</td>\n",
       "      <td>1</td>\n",
       "      <td>2024-01</td>\n",
       "      <td>2024-01</td>\n",
       "      <td>02/01/2024</td>\n",
       "      <td>CEAEC</td>\n",
       "    </tr>\n",
       "    <tr>\n",
       "      <th>9695</th>\n",
       "      <td>Microsoft Azure Sponsorship</td>\n",
       "      <td>0b1856f5-ffb1-4fb2-9b31-ebc3ddeacf68</td>\n",
       "      <td>2023-10-06</td>\n",
       "      <td>0b248445-aa24-4fe8-a794-a174929327bd</td>\n",
       "      <td>Storage</td>\n",
       "      <td>Tiered Block Blob</td>\n",
       "      <td>US East</td>\n",
       "      <td>All Other Operations</td>\n",
       "      <td>0.000600</td>\n",
       "      <td>0.000001</td>\n",
       "      <td>2023</td>\n",
       "      <td>10</td>\n",
       "      <td>6</td>\n",
       "      <td>40</td>\n",
       "      <td>2023-40</td>\n",
       "      <td>2023-10</td>\n",
       "      <td>06/10/2023</td>\n",
       "      <td>CEAEC</td>\n",
       "    </tr>\n",
       "    <tr>\n",
       "      <th>4136</th>\n",
       "      <td>Microsoft Azure Sponsorship</td>\n",
       "      <td>82375e17-0dda-4790-b6e8-c565d4f08e87</td>\n",
       "      <td>2023-12-27</td>\n",
       "      <td>cbe92596-7f61-5f48-ba3d-d624aa141eaf</td>\n",
       "      <td>Backup</td>\n",
       "      <td>All</td>\n",
       "      <td>US East</td>\n",
       "      <td>Azure VM Protected Instances</td>\n",
       "      <td>0.032256</td>\n",
       "      <td>0.322584</td>\n",
       "      <td>2023</td>\n",
       "      <td>12</td>\n",
       "      <td>27</td>\n",
       "      <td>52</td>\n",
       "      <td>2023-52</td>\n",
       "      <td>2023-12</td>\n",
       "      <td>27/12/2023</td>\n",
       "      <td>Reposicons</td>\n",
       "    </tr>\n",
       "    <tr>\n",
       "      <th>12726</th>\n",
       "      <td>Microsoft Azure Sponsorship</td>\n",
       "      <td>0b1856f5-ffb1-4fb2-9b31-ebc3ddeacf68</td>\n",
       "      <td>2024-02-25</td>\n",
       "      <td>40551b4c-e8be-48ed-b70b-f8d25c7de724</td>\n",
       "      <td>Storage</td>\n",
       "      <td>General Block Blob</td>\n",
       "      <td>All</td>\n",
       "      <td>Read Operations</td>\n",
       "      <td>0.001400</td>\n",
       "      <td>0.000000</td>\n",
       "      <td>2024</td>\n",
       "      <td>2</td>\n",
       "      <td>25</td>\n",
       "      <td>8</td>\n",
       "      <td>2024-08</td>\n",
       "      <td>2024-02</td>\n",
       "      <td>25/02/2024</td>\n",
       "      <td>CEAEC</td>\n",
       "    </tr>\n",
       "    <tr>\n",
       "      <th>6334</th>\n",
       "      <td>Microsoft Azure Sponsorship</td>\n",
       "      <td>0b1856f5-ffb1-4fb2-9b31-ebc3ddeacf68</td>\n",
       "      <td>2024-05-03</td>\n",
       "      <td>c089a13a-9dd0-44b5-aa9e-44a77bbd6788</td>\n",
       "      <td>Bandwidth</td>\n",
       "      <td>All</td>\n",
       "      <td>BR South</td>\n",
       "      <td>Standard Data Transfer Out</td>\n",
       "      <td>0.173556</td>\n",
       "      <td>0.031413</td>\n",
       "      <td>2024</td>\n",
       "      <td>5</td>\n",
       "      <td>3</td>\n",
       "      <td>18</td>\n",
       "      <td>2024-18</td>\n",
       "      <td>2024-05</td>\n",
       "      <td>03/05/2024</td>\n",
       "      <td>CEAEC</td>\n",
       "    </tr>\n",
       "    <tr>\n",
       "      <th>453</th>\n",
       "      <td>Microsoft Azure Sponsorship</td>\n",
       "      <td>82375e17-0dda-4790-b6e8-c565d4f08e87</td>\n",
       "      <td>2023-11-12</td>\n",
       "      <td>d54686f0-77ff-43f3-9e7c-2099030d32a7</td>\n",
       "      <td>Azure DNS</td>\n",
       "      <td>All</td>\n",
       "      <td>All</td>\n",
       "      <td>Public Queries</td>\n",
       "      <td>0.001831</td>\n",
       "      <td>0.000729</td>\n",
       "      <td>2023</td>\n",
       "      <td>11</td>\n",
       "      <td>12</td>\n",
       "      <td>45</td>\n",
       "      <td>2023-45</td>\n",
       "      <td>2023-11</td>\n",
       "      <td>12/11/2023</td>\n",
       "      <td>Reposicons</td>\n",
       "    </tr>\n",
       "    <tr>\n",
       "      <th>8363</th>\n",
       "      <td>Microsoft Azure Sponsorship</td>\n",
       "      <td>0b1856f5-ffb1-4fb2-9b31-ebc3ddeacf68</td>\n",
       "      <td>2024-07-04</td>\n",
       "      <td>13c2d6a4-7f53-47a9-b6aa-8bb6167ac54d</td>\n",
       "      <td>Virtual Machines</td>\n",
       "      <td>BS Series Windows</td>\n",
       "      <td>BR South</td>\n",
       "      <td>B2s</td>\n",
       "      <td>24.000000</td>\n",
       "      <td>1.804800</td>\n",
       "      <td>2024</td>\n",
       "      <td>7</td>\n",
       "      <td>4</td>\n",
       "      <td>27</td>\n",
       "      <td>2024-27</td>\n",
       "      <td>2024-07</td>\n",
       "      <td>04/07/2024</td>\n",
       "      <td>CEAEC</td>\n",
       "    </tr>\n",
       "    <tr>\n",
       "      <th>7235</th>\n",
       "      <td>Microsoft Azure Sponsorship</td>\n",
       "      <td>0b1856f5-ffb1-4fb2-9b31-ebc3ddeacf68</td>\n",
       "      <td>2024-03-02</td>\n",
       "      <td>b9e5e77c-a0b3-4a2c-9b8b-57fa54f31c52</td>\n",
       "      <td>Storage</td>\n",
       "      <td>Tables</td>\n",
       "      <td>All</td>\n",
       "      <td>Batch Write Operations</td>\n",
       "      <td>0.043800</td>\n",
       "      <td>0.000000</td>\n",
       "      <td>2024</td>\n",
       "      <td>3</td>\n",
       "      <td>2</td>\n",
       "      <td>9</td>\n",
       "      <td>2024-09</td>\n",
       "      <td>2024-03</td>\n",
       "      <td>02/03/2024</td>\n",
       "      <td>CEAEC</td>\n",
       "    </tr>\n",
       "    <tr>\n",
       "      <th>753</th>\n",
       "      <td>Microsoft Azure Sponsorship</td>\n",
       "      <td>82375e17-0dda-4790-b6e8-c565d4f08e87</td>\n",
       "      <td>2024-05-19</td>\n",
       "      <td>0ddb5c81-143d-52f8-9ea3-29b64cc0ef97</td>\n",
       "      <td>Backup</td>\n",
       "      <td>All</td>\n",
       "      <td>US East</td>\n",
       "      <td>GRS Data Stored</td>\n",
       "      <td>3.100235</td>\n",
       "      <td>0.146340</td>\n",
       "      <td>2024</td>\n",
       "      <td>5</td>\n",
       "      <td>19</td>\n",
       "      <td>20</td>\n",
       "      <td>2024-20</td>\n",
       "      <td>2024-05</td>\n",
       "      <td>19/05/2024</td>\n",
       "      <td>Reposicons</td>\n",
       "    </tr>\n",
       "    <tr>\n",
       "      <th>377</th>\n",
       "      <td>Microsoft Azure Sponsorship</td>\n",
       "      <td>82375e17-0dda-4790-b6e8-c565d4f08e87</td>\n",
       "      <td>2024-09-10</td>\n",
       "      <td>c52a982d-f2ca-46c2-9e2a-06dae03a531d</td>\n",
       "      <td>Functions</td>\n",
       "      <td>Premium</td>\n",
       "      <td>BR South</td>\n",
       "      <td>Premium Memory Duration</td>\n",
       "      <td>252.000000</td>\n",
       "      <td>3.301200</td>\n",
       "      <td>2024</td>\n",
       "      <td>9</td>\n",
       "      <td>10</td>\n",
       "      <td>37</td>\n",
       "      <td>2024-37</td>\n",
       "      <td>2024-09</td>\n",
       "      <td>10/09/2024</td>\n",
       "      <td>Reposicons</td>\n",
       "    </tr>\n",
       "  </tbody>\n",
       "</table>\n",
       "</div>"
      ],
      "text/plain": [
       "                 subscription_name                     subscription_guid  \\\n",
       "9281   Microsoft Azure Sponsorship  0b1856f5-ffb1-4fb2-9b31-ebc3ddeacf68   \n",
       "9695   Microsoft Azure Sponsorship  0b1856f5-ffb1-4fb2-9b31-ebc3ddeacf68   \n",
       "4136   Microsoft Azure Sponsorship  82375e17-0dda-4790-b6e8-c565d4f08e87   \n",
       "12726  Microsoft Azure Sponsorship  0b1856f5-ffb1-4fb2-9b31-ebc3ddeacf68   \n",
       "6334   Microsoft Azure Sponsorship  0b1856f5-ffb1-4fb2-9b31-ebc3ddeacf68   \n",
       "453    Microsoft Azure Sponsorship  82375e17-0dda-4790-b6e8-c565d4f08e87   \n",
       "8363   Microsoft Azure Sponsorship  0b1856f5-ffb1-4fb2-9b31-ebc3ddeacf68   \n",
       "7235   Microsoft Azure Sponsorship  0b1856f5-ffb1-4fb2-9b31-ebc3ddeacf68   \n",
       "753    Microsoft Azure Sponsorship  82375e17-0dda-4790-b6e8-c565d4f08e87   \n",
       "377    Microsoft Azure Sponsorship  82375e17-0dda-4790-b6e8-c565d4f08e87   \n",
       "\n",
       "            date                         resource_guid      service_name  \\\n",
       "9281  2024-01-02  dbefcfc1-e3f6-409b-be6d-9cd7b00724a5         Bandwidth   \n",
       "9695  2023-10-06  0b248445-aa24-4fe8-a794-a174929327bd           Storage   \n",
       "4136  2023-12-27  cbe92596-7f61-5f48-ba3d-d624aa141eaf            Backup   \n",
       "12726 2024-02-25  40551b4c-e8be-48ed-b70b-f8d25c7de724           Storage   \n",
       "6334  2024-05-03  c089a13a-9dd0-44b5-aa9e-44a77bbd6788         Bandwidth   \n",
       "453   2023-11-12  d54686f0-77ff-43f3-9e7c-2099030d32a7         Azure DNS   \n",
       "8363  2024-07-04  13c2d6a4-7f53-47a9-b6aa-8bb6167ac54d  Virtual Machines   \n",
       "7235  2024-03-02  b9e5e77c-a0b3-4a2c-9b8b-57fa54f31c52           Storage   \n",
       "753   2024-05-19  0ddb5c81-143d-52f8-9ea3-29b64cc0ef97            Backup   \n",
       "377   2024-09-10  c52a982d-f2ca-46c2-9e2a-06dae03a531d         Functions   \n",
       "\n",
       "             service_type service_region                   service_resource  \\\n",
       "9281         Inter-Region  North America  Intra Continent Data Transfer Out   \n",
       "9695    Tiered Block Blob        US East               All Other Operations   \n",
       "4136                  All        US East       Azure VM Protected Instances   \n",
       "12726  General Block Blob            All                    Read Operations   \n",
       "6334                  All       BR South         Standard Data Transfer Out   \n",
       "453                   All            All                     Public Queries   \n",
       "8363    BS Series Windows       BR South                                B2s   \n",
       "7235               Tables            All             Batch Write Operations   \n",
       "753                   All        US East                    GRS Data Stored   \n",
       "377               Premium       BR South            Premium Memory Duration   \n",
       "\n",
       "         quantity      cost  year  month  day  week_of_year year_week  \\\n",
       "9281     0.272011  0.005439  2024      1    2             1   2024-01   \n",
       "9695     0.000600  0.000001  2023     10    6            40   2023-40   \n",
       "4136     0.032256  0.322584  2023     12   27            52   2023-52   \n",
       "12726    0.001400  0.000000  2024      2   25             8   2024-08   \n",
       "6334     0.173556  0.031413  2024      5    3            18   2024-18   \n",
       "453      0.001831  0.000729  2023     11   12            45   2023-45   \n",
       "8363    24.000000  1.804800  2024      7    4            27   2024-27   \n",
       "7235     0.043800  0.000000  2024      3    2             9   2024-09   \n",
       "753      3.100235  0.146340  2024      5   19            20   2024-20   \n",
       "377    252.000000  3.301200  2024      9   10            37   2024-37   \n",
       "\n",
       "      year_month     data_br     maquina  \n",
       "9281     2024-01  02/01/2024       CEAEC  \n",
       "9695     2023-10  06/10/2023       CEAEC  \n",
       "4136     2023-12  27/12/2023  Reposicons  \n",
       "12726    2024-02  25/02/2024       CEAEC  \n",
       "6334     2024-05  03/05/2024       CEAEC  \n",
       "453      2023-11  12/11/2023  Reposicons  \n",
       "8363     2024-07  04/07/2024       CEAEC  \n",
       "7235     2024-03  02/03/2024       CEAEC  \n",
       "753      2024-05  19/05/2024  Reposicons  \n",
       "377      2024-09  10/09/2024  Reposicons  "
      ]
     },
     "execution_count": 7,
     "metadata": {},
     "output_type": "execute_result"
    }
   ],
   "source": [
    "df_concat = pd.concat([reposicons,ceaec], ignore_index=True)\n",
    "df_concat.sample(10)"
   ]
  },
  {
   "cell_type": "code",
   "execution_count": 22,
   "metadata": {},
   "outputs": [
    {
     "name": "stdout",
     "output_type": "stream",
     "text": [
      "<class 'pandas.core.frame.DataFrame'>\n",
      "RangeIndex: 9456 entries, 0 to 9455\n",
      "Data columns (total 17 columns):\n",
      " #   Column             Non-Null Count  Dtype         \n",
      "---  ------             --------------  -----         \n",
      " 0   subscription_name  9456 non-null   object        \n",
      " 1   subscription_guid  9456 non-null   object        \n",
      " 2   date               9456 non-null   datetime64[ns]\n",
      " 3   resource_guid      9456 non-null   object        \n",
      " 4   service_name       9456 non-null   object        \n",
      " 5   service_type       9456 non-null   object        \n",
      " 6   service_region     9456 non-null   object        \n",
      " 7   service_resource   9456 non-null   object        \n",
      " 8   quantity           9456 non-null   float64       \n",
      " 9   cost               9456 non-null   float64       \n",
      " 10  year               9456 non-null   int32         \n",
      " 11  month              9456 non-null   int32         \n",
      " 12  day                9456 non-null   int32         \n",
      " 13  week_of_year       9456 non-null   UInt32        \n",
      " 14  year_week          9456 non-null   object        \n",
      " 15  year_month         9456 non-null   object        \n",
      " 16  maquina            9456 non-null   object        \n",
      "dtypes: UInt32(1), datetime64[ns](1), float64(2), int32(3), object(10)\n",
      "memory usage: 1.1+ MB\n"
     ]
    }
   ],
   "source": [
    "df_concat.info()"
   ]
  },
  {
   "cell_type": "markdown",
   "metadata": {},
   "source": [
    "# 3.0 Modelo"
   ]
  },
  {
   "cell_type": "code",
   "execution_count": 1,
   "metadata": {},
   "outputs": [
    {
     "name": "stderr",
     "output_type": "stream",
     "text": [
      "e:\\3_recursos\\2_area\\profissional\\cursos\\v3119\\Lib\\site-packages\\tqdm\\auto.py:21: TqdmWarning: IProgress not found. Please update jupyter and ipywidgets. See https://ipywidgets.readthedocs.io/en/stable/user_install.html\n",
      "  from .autonotebook import tqdm as notebook_tqdm\n"
     ]
    }
   ],
   "source": [
    "from prophet    import Prophet"
   ]
  },
  {
   "cell_type": "code",
   "execution_count": 8,
   "metadata": {},
   "outputs": [],
   "source": [
    "df = df_concat"
   ]
  },
  {
   "cell_type": "code",
   "execution_count": 11,
   "metadata": {},
   "outputs": [
    {
     "data": {
      "text/plain": [
       "Index(['subscription_name', 'subscription_guid', 'date', 'resource_guid',\n",
       "       'service_name', 'service_type', 'service_region', 'service_resource',\n",
       "       'quantity', 'cost', 'year', 'month', 'day', 'week_of_year', 'year_week',\n",
       "       'year_month', 'data_br', 'maquina'],\n",
       "      dtype='object')"
      ]
     },
     "execution_count": 11,
     "metadata": {},
     "output_type": "execute_result"
    }
   ],
   "source": [
    "df.columns"
   ]
  },
  {
   "cell_type": "code",
   "execution_count": 24,
   "metadata": {},
   "outputs": [
    {
     "data": {
      "text/html": [
       "<div>\n",
       "<style scoped>\n",
       "    .dataframe tbody tr th:only-of-type {\n",
       "        vertical-align: middle;\n",
       "    }\n",
       "\n",
       "    .dataframe tbody tr th {\n",
       "        vertical-align: top;\n",
       "    }\n",
       "\n",
       "    .dataframe thead th {\n",
       "        text-align: right;\n",
       "    }\n",
       "</style>\n",
       "<table border=\"1\" class=\"dataframe\">\n",
       "  <thead>\n",
       "    <tr style=\"text-align: right;\">\n",
       "      <th></th>\n",
       "      <th>date</th>\n",
       "      <th>cost</th>\n",
       "    </tr>\n",
       "  </thead>\n",
       "  <tbody>\n",
       "    <tr>\n",
       "      <th>285</th>\n",
       "      <td>2024-06-28</td>\n",
       "      <td>9.444094</td>\n",
       "    </tr>\n",
       "    <tr>\n",
       "      <th>275</th>\n",
       "      <td>2024-06-18</td>\n",
       "      <td>6.206441</td>\n",
       "    </tr>\n",
       "    <tr>\n",
       "      <th>110</th>\n",
       "      <td>2024-01-05</td>\n",
       "      <td>0.663667</td>\n",
       "    </tr>\n",
       "    <tr>\n",
       "      <th>170</th>\n",
       "      <td>2024-03-05</td>\n",
       "      <td>5.939630</td>\n",
       "    </tr>\n",
       "    <tr>\n",
       "      <th>154</th>\n",
       "      <td>2024-02-18</td>\n",
       "      <td>5.960417</td>\n",
       "    </tr>\n",
       "  </tbody>\n",
       "</table>\n",
       "</div>"
      ],
      "text/plain": [
       "          date      cost\n",
       "285 2024-06-28  9.444094\n",
       "275 2024-06-18  6.206441\n",
       "110 2024-01-05  0.663667\n",
       "170 2024-03-05  5.939630\n",
       "154 2024-02-18  5.960417"
      ]
     },
     "execution_count": 24,
     "metadata": {},
     "output_type": "execute_result"
    }
   ],
   "source": [
    "df_model = reposicons.loc[reposicons['service_name'] != \"Functions\", ['date','cost']].groupby('date').sum().sort_values(by='date').reset_index()\n",
    "df_model.sample(5)"
   ]
  },
  {
   "cell_type": "code",
   "execution_count": 25,
   "metadata": {},
   "outputs": [],
   "source": [
    "df_model.rename(columns = {\"date\":\"ds\", \"cost\":\"y\"}, inplace = True)"
   ]
  },
  {
   "cell_type": "code",
   "execution_count": 26,
   "metadata": {},
   "outputs": [
    {
     "name": "stderr",
     "output_type": "stream",
     "text": [
      "12:30:26 - cmdstanpy - INFO - Chain [1] start processing\n",
      "12:30:26 - cmdstanpy - INFO - Chain [1] done processing\n"
     ]
    },
    {
     "data": {
      "text/plain": [
       "<prophet.forecaster.Prophet at 0x1ff1739a5d0>"
      ]
     },
     "execution_count": 26,
     "metadata": {},
     "output_type": "execute_result"
    }
   ],
   "source": [
    "m = Prophet()\n",
    "m.fit(df_model)"
   ]
  },
  {
   "cell_type": "code",
   "execution_count": 56,
   "metadata": {},
   "outputs": [],
   "source": [
    "future = m.make_future_dataframe(periods=(105+365))\n",
    "forecast = m.predict(future)"
   ]
  },
  {
   "cell_type": "code",
   "execution_count": 57,
   "metadata": {},
   "outputs": [
    {
     "data": {
      "text/html": [
       "<div>\n",
       "<style scoped>\n",
       "    .dataframe tbody tr th:only-of-type {\n",
       "        vertical-align: middle;\n",
       "    }\n",
       "\n",
       "    .dataframe tbody tr th {\n",
       "        vertical-align: top;\n",
       "    }\n",
       "\n",
       "    .dataframe thead th {\n",
       "        text-align: right;\n",
       "    }\n",
       "</style>\n",
       "<table border=\"1\" class=\"dataframe\">\n",
       "  <thead>\n",
       "    <tr style=\"text-align: right;\">\n",
       "      <th></th>\n",
       "      <th>ds</th>\n",
       "      <th>yhat</th>\n",
       "      <th>yhat_lower</th>\n",
       "      <th>yhat_upper</th>\n",
       "    </tr>\n",
       "  </thead>\n",
       "  <tbody>\n",
       "    <tr>\n",
       "      <th>832</th>\n",
       "      <td>2025-12-27</td>\n",
       "      <td>11.884309</td>\n",
       "      <td>7.929387</td>\n",
       "      <td>15.977992</td>\n",
       "    </tr>\n",
       "    <tr>\n",
       "      <th>833</th>\n",
       "      <td>2025-12-28</td>\n",
       "      <td>11.962580</td>\n",
       "      <td>7.866888</td>\n",
       "      <td>15.950687</td>\n",
       "    </tr>\n",
       "    <tr>\n",
       "      <th>834</th>\n",
       "      <td>2025-12-29</td>\n",
       "      <td>11.948028</td>\n",
       "      <td>7.994920</td>\n",
       "      <td>16.206567</td>\n",
       "    </tr>\n",
       "    <tr>\n",
       "      <th>835</th>\n",
       "      <td>2025-12-30</td>\n",
       "      <td>11.922127</td>\n",
       "      <td>8.152019</td>\n",
       "      <td>16.279860</td>\n",
       "    </tr>\n",
       "    <tr>\n",
       "      <th>836</th>\n",
       "      <td>2025-12-31</td>\n",
       "      <td>11.848456</td>\n",
       "      <td>7.909848</td>\n",
       "      <td>15.929190</td>\n",
       "    </tr>\n",
       "  </tbody>\n",
       "</table>\n",
       "</div>"
      ],
      "text/plain": [
       "            ds       yhat  yhat_lower  yhat_upper\n",
       "832 2025-12-27  11.884309    7.929387   15.977992\n",
       "833 2025-12-28  11.962580    7.866888   15.950687\n",
       "834 2025-12-29  11.948028    7.994920   16.206567\n",
       "835 2025-12-30  11.922127    8.152019   16.279860\n",
       "836 2025-12-31  11.848456    7.909848   15.929190"
      ]
     },
     "execution_count": 57,
     "metadata": {},
     "output_type": "execute_result"
    }
   ],
   "source": [
    "forecast[['ds', 'yhat', 'yhat_lower', 'yhat_upper']].tail(5)"
   ]
  },
  {
   "cell_type": "code",
   "execution_count": 53,
   "metadata": {},
   "outputs": [
    {
     "name": "stdout",
     "output_type": "stream",
     "text": [
      "<class 'pandas.core.frame.DataFrame'>\n",
      "RangeIndex: 472 entries, 0 to 471\n",
      "Data columns (total 16 columns):\n",
      " #   Column                      Non-Null Count  Dtype         \n",
      "---  ------                      --------------  -----         \n",
      " 0   ds                          472 non-null    datetime64[ns]\n",
      " 1   trend                       472 non-null    float64       \n",
      " 2   yhat_lower                  472 non-null    float64       \n",
      " 3   yhat_upper                  472 non-null    float64       \n",
      " 4   trend_lower                 472 non-null    float64       \n",
      " 5   trend_upper                 472 non-null    float64       \n",
      " 6   additive_terms              472 non-null    float64       \n",
      " 7   additive_terms_lower        472 non-null    float64       \n",
      " 8   additive_terms_upper        472 non-null    float64       \n",
      " 9   weekly                      472 non-null    float64       \n",
      " 10  weekly_lower                472 non-null    float64       \n",
      " 11  weekly_upper                472 non-null    float64       \n",
      " 12  multiplicative_terms        472 non-null    float64       \n",
      " 13  multiplicative_terms_lower  472 non-null    float64       \n",
      " 14  multiplicative_terms_upper  472 non-null    float64       \n",
      " 15  yhat                        472 non-null    float64       \n",
      "dtypes: datetime64[ns](1), float64(15)\n",
      "memory usage: 59.1 KB\n"
     ]
    }
   ],
   "source": [
    "forecast.info()"
   ]
  },
  {
   "cell_type": "code",
   "execution_count": 54,
   "metadata": {},
   "outputs": [
    {
     "data": {
      "application/vnd.plotly.v1+json": {
       "config": {
        "plotlyServerURL": "https://plot.ly"
       },
       "data": [
        {
         "hovertemplate": "variable=yhat<br>Data=%{x}<br>value=%{y}<extra></extra>",
         "legendgroup": "yhat",
         "line": {
          "color": "rgb(102, 197, 204)",
          "dash": "solid"
         },
         "marker": {
          "symbol": "circle"
         },
         "mode": "lines",
         "name": "yhat",
         "orientation": "v",
         "showlegend": true,
         "type": "scatter",
         "x": [
          "2024-09-18T00:00:00",
          "2024-09-19T00:00:00",
          "2024-09-20T00:00:00",
          "2024-09-21T00:00:00",
          "2024-09-22T00:00:00",
          "2024-09-23T00:00:00",
          "2024-09-24T00:00:00",
          "2024-09-25T00:00:00",
          "2024-09-26T00:00:00",
          "2024-09-27T00:00:00",
          "2024-09-28T00:00:00",
          "2024-09-29T00:00:00",
          "2024-09-30T00:00:00",
          "2024-10-01T00:00:00",
          "2024-10-02T00:00:00",
          "2024-10-03T00:00:00",
          "2024-10-04T00:00:00",
          "2024-10-05T00:00:00",
          "2024-10-06T00:00:00",
          "2024-10-07T00:00:00",
          "2024-10-08T00:00:00",
          "2024-10-09T00:00:00",
          "2024-10-10T00:00:00",
          "2024-10-11T00:00:00",
          "2024-10-12T00:00:00",
          "2024-10-13T00:00:00",
          "2024-10-14T00:00:00",
          "2024-10-15T00:00:00",
          "2024-10-16T00:00:00",
          "2024-10-17T00:00:00",
          "2024-10-18T00:00:00",
          "2024-10-19T00:00:00",
          "2024-10-20T00:00:00",
          "2024-10-21T00:00:00",
          "2024-10-22T00:00:00",
          "2024-10-23T00:00:00",
          "2024-10-24T00:00:00",
          "2024-10-25T00:00:00",
          "2024-10-26T00:00:00",
          "2024-10-27T00:00:00",
          "2024-10-28T00:00:00",
          "2024-10-29T00:00:00",
          "2024-10-30T00:00:00",
          "2024-10-31T00:00:00",
          "2024-11-01T00:00:00",
          "2024-11-02T00:00:00",
          "2024-11-03T00:00:00",
          "2024-11-04T00:00:00",
          "2024-11-05T00:00:00",
          "2024-11-06T00:00:00",
          "2024-11-07T00:00:00",
          "2024-11-08T00:00:00",
          "2024-11-09T00:00:00",
          "2024-11-10T00:00:00",
          "2024-11-11T00:00:00",
          "2024-11-12T00:00:00",
          "2024-11-13T00:00:00",
          "2024-11-14T00:00:00",
          "2024-11-15T00:00:00",
          "2024-11-16T00:00:00",
          "2024-11-17T00:00:00",
          "2024-11-18T00:00:00",
          "2024-11-19T00:00:00",
          "2024-11-20T00:00:00",
          "2024-11-21T00:00:00",
          "2024-11-22T00:00:00",
          "2024-11-23T00:00:00",
          "2024-11-24T00:00:00",
          "2024-11-25T00:00:00",
          "2024-11-26T00:00:00",
          "2024-11-27T00:00:00",
          "2024-11-28T00:00:00",
          "2024-11-29T00:00:00",
          "2024-11-30T00:00:00",
          "2024-12-01T00:00:00",
          "2024-12-02T00:00:00",
          "2024-12-03T00:00:00",
          "2024-12-04T00:00:00",
          "2024-12-05T00:00:00",
          "2024-12-06T00:00:00",
          "2024-12-07T00:00:00",
          "2024-12-08T00:00:00",
          "2024-12-09T00:00:00",
          "2024-12-10T00:00:00",
          "2024-12-11T00:00:00",
          "2024-12-12T00:00:00",
          "2024-12-13T00:00:00",
          "2024-12-14T00:00:00",
          "2024-12-15T00:00:00",
          "2024-12-16T00:00:00",
          "2024-12-17T00:00:00",
          "2024-12-18T00:00:00",
          "2024-12-19T00:00:00",
          "2024-12-20T00:00:00",
          "2024-12-21T00:00:00",
          "2024-12-22T00:00:00",
          "2024-12-23T00:00:00",
          "2024-12-24T00:00:00",
          "2024-12-25T00:00:00",
          "2024-12-26T00:00:00",
          "2024-12-27T00:00:00",
          "2024-12-28T00:00:00",
          "2024-12-29T00:00:00",
          "2024-12-30T00:00:00",
          "2024-12-31T00:00:00"
         ],
         "xaxis": "x",
         "y": [
          7.528180588065573,
          7.505549862660893,
          7.524846840119286,
          7.62851507816509,
          7.706786311162722,
          7.692233754212767,
          7.666332668702847,
          7.592662315386666,
          7.570031589981957,
          7.589328567440485,
          7.6929968054863505,
          7.771268038483891,
          7.756715481533907,
          7.730814396023943,
          7.657144042707756,
          7.634513317303111,
          7.6538102947614135,
          7.75747853280761,
          7.8357497658049935,
          7.821197208854957,
          7.795296123345036,
          7.721625770029108,
          7.698995044624219,
          7.718292022082548,
          7.821960260128342,
          7.900231493126163,
          7.885678936176097,
          7.859777850666374,
          7.7861074973502005,
          7.763476771945373,
          7.7827737494038125,
          7.886441987449459,
          7.964713220447227,
          7.950160663497193,
          7.924259577987469,
          7.850589224671276,
          7.8279584992664795,
          7.847255476724946,
          7.9509237147707195,
          8.029194947768396,
          8.014642390818333,
          7.988741305308563,
          7.915070951992382,
          7.892440226587678,
          7.911737204046146,
          8.01540544209198,
          8.0936766750895,
          8.079124118139427,
          8.053223032629885,
          7.979552679313458,
          7.956921953908788,
          7.976218931367072,
          8.079887169413169,
          8.158158402410733,
          8.143605845460687,
          8.117704759950996,
          8.044034406634534,
          8.021403681229941,
          8.040700658688271,
          8.144368896734045,
          8.222640129731836,
          8.208087572781778,
          8.182186487272075,
          8.108516133955625,
          8.085885408551004,
          8.10518238600947,
          8.208850624055163,
          8.287121857052941,
          8.272569300102875,
          8.246668214593168,
          8.172997861276961,
          8.150367135872155,
          8.16966411333067,
          8.273332351376421,
          8.351603584374109,
          8.337051027424133,
          8.31114994191426,
          8.23747958859807,
          8.21484886319331,
          8.234145840651804,
          8.33781407869761,
          8.41608531169511,
          8.401532754745274,
          8.375631669235357,
          8.301961315919142,
          8.279330590514464,
          8.298627567972732,
          8.402295806018799,
          8.480567039016343,
          8.466014482066324,
          8.440113396556436,
          8.366443043240233,
          8.343812317835619,
          8.363109295293865,
          8.466777533339984,
          8.545048766337512,
          8.530496209387465,
          8.504595123877774,
          8.430924770561326,
          8.408294045156682,
          8.42759102261513,
          8.531259260661246,
          8.609530493658577,
          8.594977936708606,
          8.56907685119885
         ],
         "yaxis": "y"
        },
        {
         "hovertemplate": "variable=yhat_lower<br>Data=%{x}<br>value=%{y}<extra></extra>",
         "legendgroup": "yhat_lower",
         "line": {
          "color": "rgb(246, 207, 113)",
          "dash": "solid"
         },
         "marker": {
          "symbol": "circle"
         },
         "mode": "lines",
         "name": "yhat_lower",
         "orientation": "v",
         "showlegend": true,
         "type": "scatter",
         "x": [
          "2024-09-18T00:00:00",
          "2024-09-19T00:00:00",
          "2024-09-20T00:00:00",
          "2024-09-21T00:00:00",
          "2024-09-22T00:00:00",
          "2024-09-23T00:00:00",
          "2024-09-24T00:00:00",
          "2024-09-25T00:00:00",
          "2024-09-26T00:00:00",
          "2024-09-27T00:00:00",
          "2024-09-28T00:00:00",
          "2024-09-29T00:00:00",
          "2024-09-30T00:00:00",
          "2024-10-01T00:00:00",
          "2024-10-02T00:00:00",
          "2024-10-03T00:00:00",
          "2024-10-04T00:00:00",
          "2024-10-05T00:00:00",
          "2024-10-06T00:00:00",
          "2024-10-07T00:00:00",
          "2024-10-08T00:00:00",
          "2024-10-09T00:00:00",
          "2024-10-10T00:00:00",
          "2024-10-11T00:00:00",
          "2024-10-12T00:00:00",
          "2024-10-13T00:00:00",
          "2024-10-14T00:00:00",
          "2024-10-15T00:00:00",
          "2024-10-16T00:00:00",
          "2024-10-17T00:00:00",
          "2024-10-18T00:00:00",
          "2024-10-19T00:00:00",
          "2024-10-20T00:00:00",
          "2024-10-21T00:00:00",
          "2024-10-22T00:00:00",
          "2024-10-23T00:00:00",
          "2024-10-24T00:00:00",
          "2024-10-25T00:00:00",
          "2024-10-26T00:00:00",
          "2024-10-27T00:00:00",
          "2024-10-28T00:00:00",
          "2024-10-29T00:00:00",
          "2024-10-30T00:00:00",
          "2024-10-31T00:00:00",
          "2024-11-01T00:00:00",
          "2024-11-02T00:00:00",
          "2024-11-03T00:00:00",
          "2024-11-04T00:00:00",
          "2024-11-05T00:00:00",
          "2024-11-06T00:00:00",
          "2024-11-07T00:00:00",
          "2024-11-08T00:00:00",
          "2024-11-09T00:00:00",
          "2024-11-10T00:00:00",
          "2024-11-11T00:00:00",
          "2024-11-12T00:00:00",
          "2024-11-13T00:00:00",
          "2024-11-14T00:00:00",
          "2024-11-15T00:00:00",
          "2024-11-16T00:00:00",
          "2024-11-17T00:00:00",
          "2024-11-18T00:00:00",
          "2024-11-19T00:00:00",
          "2024-11-20T00:00:00",
          "2024-11-21T00:00:00",
          "2024-11-22T00:00:00",
          "2024-11-23T00:00:00",
          "2024-11-24T00:00:00",
          "2024-11-25T00:00:00",
          "2024-11-26T00:00:00",
          "2024-11-27T00:00:00",
          "2024-11-28T00:00:00",
          "2024-11-29T00:00:00",
          "2024-11-30T00:00:00",
          "2024-12-01T00:00:00",
          "2024-12-02T00:00:00",
          "2024-12-03T00:00:00",
          "2024-12-04T00:00:00",
          "2024-12-05T00:00:00",
          "2024-12-06T00:00:00",
          "2024-12-07T00:00:00",
          "2024-12-08T00:00:00",
          "2024-12-09T00:00:00",
          "2024-12-10T00:00:00",
          "2024-12-11T00:00:00",
          "2024-12-12T00:00:00",
          "2024-12-13T00:00:00",
          "2024-12-14T00:00:00",
          "2024-12-15T00:00:00",
          "2024-12-16T00:00:00",
          "2024-12-17T00:00:00",
          "2024-12-18T00:00:00",
          "2024-12-19T00:00:00",
          "2024-12-20T00:00:00",
          "2024-12-21T00:00:00",
          "2024-12-22T00:00:00",
          "2024-12-23T00:00:00",
          "2024-12-24T00:00:00",
          "2024-12-25T00:00:00",
          "2024-12-26T00:00:00",
          "2024-12-27T00:00:00",
          "2024-12-28T00:00:00",
          "2024-12-29T00:00:00",
          "2024-12-30T00:00:00",
          "2024-12-31T00:00:00"
         ],
         "xaxis": "x",
         "y": [
          4.880307127419704,
          4.766718032674631,
          4.772750788425017,
          4.771822714982145,
          4.866209000790502,
          4.987529961889698,
          5.093548502925164,
          4.798916649855031,
          4.825804716129121,
          4.929318796181181,
          4.848968232797929,
          5.07605731691007,
          5.147307650282936,
          4.854369416592998,
          4.884501799387187,
          4.840127882760479,
          4.994340198188679,
          4.863417295148182,
          5.168887901197419,
          5.141172748418003,
          5.030979643580662,
          5.047209875896511,
          4.7732970458582225,
          5.143225961169047,
          5.154275018216991,
          5.377068183652152,
          5.143127324319408,
          5.211638364007561,
          5.163625066622872,
          4.9628838939543005,
          5.079691402511809,
          5.024599220668301,
          5.269829041038996,
          5.186457727750613,
          5.10815509163211,
          4.901475164781397,
          5.162211047590863,
          5.099102351858341,
          5.243590859879941,
          5.194970375536849,
          5.292771840904349,
          5.39399335767918,
          5.059015266999357,
          5.192390548304437,
          5.055567024678333,
          5.12111230303868,
          5.340355920081382,
          5.379089083501495,
          5.319973031161609,
          5.527780478947704,
          5.194325692848563,
          5.121923175070002,
          5.338995403111135,
          5.243860092815765,
          5.509051157977796,
          5.436483946996536,
          5.464781646799946,
          5.3930253638891035,
          5.177033719232827,
          5.3521904886322735,
          5.444926167067667,
          5.77804780130276,
          5.407522745725966,
          5.439082245686904,
          5.32154469555519,
          5.575727252465636,
          5.533607739526086,
          5.800071219806073,
          5.646539035822767,
          5.669303291929957,
          5.4192209341087345,
          5.352710317585776,
          5.635873891943614,
          5.431169003048034,
          5.639748264282145,
          5.46810716152824,
          5.560994648288707,
          5.528155828947308,
          5.399863179709298,
          5.580366148582998,
          5.555121412978226,
          5.669791606560833,
          5.669166985155025,
          5.605995483520749,
          5.488671118467536,
          5.550716970570385,
          5.607260451760415,
          5.712409894320886,
          5.615992963259641,
          5.528099016661235,
          5.866388193981837,
          5.495654456527283,
          5.487563204489049,
          5.62972445054493,
          5.6115464663813,
          5.695711917451565,
          5.688309041992901,
          5.843843832189793,
          5.543655825641648,
          5.739745791908294,
          5.686294877706669,
          5.7582779149381444,
          6.132460543532165,
          5.697653720964149,
          5.766586942542802
         ],
         "yaxis": "y"
        },
        {
         "hovertemplate": "variable=yhat_upper<br>Data=%{x}<br>value=%{y}<extra></extra>",
         "legendgroup": "yhat_upper",
         "line": {
          "color": "rgb(248, 156, 116)",
          "dash": "solid"
         },
         "marker": {
          "symbol": "circle"
         },
         "mode": "lines",
         "name": "yhat_upper",
         "orientation": "v",
         "showlegend": true,
         "type": "scatter",
         "x": [
          "2024-09-18T00:00:00",
          "2024-09-19T00:00:00",
          "2024-09-20T00:00:00",
          "2024-09-21T00:00:00",
          "2024-09-22T00:00:00",
          "2024-09-23T00:00:00",
          "2024-09-24T00:00:00",
          "2024-09-25T00:00:00",
          "2024-09-26T00:00:00",
          "2024-09-27T00:00:00",
          "2024-09-28T00:00:00",
          "2024-09-29T00:00:00",
          "2024-09-30T00:00:00",
          "2024-10-01T00:00:00",
          "2024-10-02T00:00:00",
          "2024-10-03T00:00:00",
          "2024-10-04T00:00:00",
          "2024-10-05T00:00:00",
          "2024-10-06T00:00:00",
          "2024-10-07T00:00:00",
          "2024-10-08T00:00:00",
          "2024-10-09T00:00:00",
          "2024-10-10T00:00:00",
          "2024-10-11T00:00:00",
          "2024-10-12T00:00:00",
          "2024-10-13T00:00:00",
          "2024-10-14T00:00:00",
          "2024-10-15T00:00:00",
          "2024-10-16T00:00:00",
          "2024-10-17T00:00:00",
          "2024-10-18T00:00:00",
          "2024-10-19T00:00:00",
          "2024-10-20T00:00:00",
          "2024-10-21T00:00:00",
          "2024-10-22T00:00:00",
          "2024-10-23T00:00:00",
          "2024-10-24T00:00:00",
          "2024-10-25T00:00:00",
          "2024-10-26T00:00:00",
          "2024-10-27T00:00:00",
          "2024-10-28T00:00:00",
          "2024-10-29T00:00:00",
          "2024-10-30T00:00:00",
          "2024-10-31T00:00:00",
          "2024-11-01T00:00:00",
          "2024-11-02T00:00:00",
          "2024-11-03T00:00:00",
          "2024-11-04T00:00:00",
          "2024-11-05T00:00:00",
          "2024-11-06T00:00:00",
          "2024-11-07T00:00:00",
          "2024-11-08T00:00:00",
          "2024-11-09T00:00:00",
          "2024-11-10T00:00:00",
          "2024-11-11T00:00:00",
          "2024-11-12T00:00:00",
          "2024-11-13T00:00:00",
          "2024-11-14T00:00:00",
          "2024-11-15T00:00:00",
          "2024-11-16T00:00:00",
          "2024-11-17T00:00:00",
          "2024-11-18T00:00:00",
          "2024-11-19T00:00:00",
          "2024-11-20T00:00:00",
          "2024-11-21T00:00:00",
          "2024-11-22T00:00:00",
          "2024-11-23T00:00:00",
          "2024-11-24T00:00:00",
          "2024-11-25T00:00:00",
          "2024-11-26T00:00:00",
          "2024-11-27T00:00:00",
          "2024-11-28T00:00:00",
          "2024-11-29T00:00:00",
          "2024-11-30T00:00:00",
          "2024-12-01T00:00:00",
          "2024-12-02T00:00:00",
          "2024-12-03T00:00:00",
          "2024-12-04T00:00:00",
          "2024-12-05T00:00:00",
          "2024-12-06T00:00:00",
          "2024-12-07T00:00:00",
          "2024-12-08T00:00:00",
          "2024-12-09T00:00:00",
          "2024-12-10T00:00:00",
          "2024-12-11T00:00:00",
          "2024-12-12T00:00:00",
          "2024-12-13T00:00:00",
          "2024-12-14T00:00:00",
          "2024-12-15T00:00:00",
          "2024-12-16T00:00:00",
          "2024-12-17T00:00:00",
          "2024-12-18T00:00:00",
          "2024-12-19T00:00:00",
          "2024-12-20T00:00:00",
          "2024-12-21T00:00:00",
          "2024-12-22T00:00:00",
          "2024-12-23T00:00:00",
          "2024-12-24T00:00:00",
          "2024-12-25T00:00:00",
          "2024-12-26T00:00:00",
          "2024-12-27T00:00:00",
          "2024-12-28T00:00:00",
          "2024-12-29T00:00:00",
          "2024-12-30T00:00:00",
          "2024-12-31T00:00:00"
         ],
         "xaxis": "x",
         "y": [
          10.37476985474323,
          10.096862794052017,
          10.267744146290452,
          10.510919074682976,
          10.192857193161345,
          10.667095920325936,
          10.313143333421413,
          10.40115817745804,
          10.180519115150448,
          10.282941403240384,
          10.593129873305843,
          10.602907507154983,
          10.521802406388737,
          10.284294308711644,
          10.389892214458158,
          10.249699111687438,
          10.463196285135473,
          10.242212355560119,
          10.534369213064124,
          10.718289561228472,
          10.529549327289017,
          10.603795241423068,
          10.589077856446997,
          10.375626030814974,
          10.541228026141917,
          10.866819031883935,
          10.61577260746159,
          10.611245961782709,
          10.62757995666441,
          10.417908930970897,
          10.444576850775043,
          10.651181992886164,
          10.545203372414207,
          10.709100424817878,
          10.611130380725541,
          10.585999042777315,
          10.642095242876096,
          10.519136974351397,
          10.518174551722696,
          10.831959631052104,
          11.022582421959351,
          10.845015764602385,
          10.597625199588979,
          10.542316697485877,
          10.68962178630382,
          10.58128591450977,
          10.800055429793057,
          10.875573062678662,
          10.63354298281099,
          10.71292610338945,
          10.49590854472618,
          10.717244015916314,
          10.688179808889354,
          10.821499300616095,
          10.82765294804811,
          10.815777668278328,
          10.76999137384357,
          10.752018296277559,
          10.893779735016384,
          10.781720559363325,
          10.885721019736323,
          10.840748376795373,
          10.674439071297899,
          10.95610635194882,
          10.899555237020401,
          10.980733554957073,
          11.16260807971209,
          11.116319741992998,
          11.1185248382737,
          10.871623409735022,
          10.895462842270817,
          10.948160892713815,
          10.815401339588876,
          10.755322952694849,
          11.14037586546497,
          11.050282496109991,
          11.113482312076938,
          10.782896618603317,
          11.095946354664823,
          11.017385050728508,
          11.298282087194668,
          10.976738682984506,
          11.240248142799082,
          11.011119458283757,
          10.964671242388556,
          10.848617745489321,
          11.097823591456912,
          11.125053723088891,
          11.047602602836253,
          11.185937130791535,
          11.042801928864174,
          10.988678760206346,
          10.944748288157179,
          11.15204656588948,
          11.191327022174496,
          11.335672359246972,
          11.274053193284072,
          11.304713997791096,
          11.059590455986688,
          11.288989467985488,
          11.022452751158246,
          11.19260283966535,
          11.591822721911667,
          11.186757992677531,
          11.350584747484039
         ],
         "yaxis": "y"
        }
       ],
       "layout": {
        "legend": {
         "title": {
          "text": "variable"
         },
         "tracegroupgap": 0
        },
        "template": {
         "data": {
          "bar": [
           {
            "error_x": {
             "color": "#2a3f5f"
            },
            "error_y": {
             "color": "#2a3f5f"
            },
            "marker": {
             "line": {
              "color": "#E5ECF6",
              "width": 0.5
             },
             "pattern": {
              "fillmode": "overlay",
              "size": 10,
              "solidity": 0.2
             }
            },
            "type": "bar"
           }
          ],
          "barpolar": [
           {
            "marker": {
             "line": {
              "color": "#E5ECF6",
              "width": 0.5
             },
             "pattern": {
              "fillmode": "overlay",
              "size": 10,
              "solidity": 0.2
             }
            },
            "type": "barpolar"
           }
          ],
          "carpet": [
           {
            "aaxis": {
             "endlinecolor": "#2a3f5f",
             "gridcolor": "white",
             "linecolor": "white",
             "minorgridcolor": "white",
             "startlinecolor": "#2a3f5f"
            },
            "baxis": {
             "endlinecolor": "#2a3f5f",
             "gridcolor": "white",
             "linecolor": "white",
             "minorgridcolor": "white",
             "startlinecolor": "#2a3f5f"
            },
            "type": "carpet"
           }
          ],
          "choropleth": [
           {
            "colorbar": {
             "outlinewidth": 0,
             "ticks": ""
            },
            "type": "choropleth"
           }
          ],
          "contour": [
           {
            "colorbar": {
             "outlinewidth": 0,
             "ticks": ""
            },
            "colorscale": [
             [
              0,
              "#0d0887"
             ],
             [
              0.1111111111111111,
              "#46039f"
             ],
             [
              0.2222222222222222,
              "#7201a8"
             ],
             [
              0.3333333333333333,
              "#9c179e"
             ],
             [
              0.4444444444444444,
              "#bd3786"
             ],
             [
              0.5555555555555556,
              "#d8576b"
             ],
             [
              0.6666666666666666,
              "#ed7953"
             ],
             [
              0.7777777777777778,
              "#fb9f3a"
             ],
             [
              0.8888888888888888,
              "#fdca26"
             ],
             [
              1,
              "#f0f921"
             ]
            ],
            "type": "contour"
           }
          ],
          "contourcarpet": [
           {
            "colorbar": {
             "outlinewidth": 0,
             "ticks": ""
            },
            "type": "contourcarpet"
           }
          ],
          "heatmap": [
           {
            "colorbar": {
             "outlinewidth": 0,
             "ticks": ""
            },
            "colorscale": [
             [
              0,
              "#0d0887"
             ],
             [
              0.1111111111111111,
              "#46039f"
             ],
             [
              0.2222222222222222,
              "#7201a8"
             ],
             [
              0.3333333333333333,
              "#9c179e"
             ],
             [
              0.4444444444444444,
              "#bd3786"
             ],
             [
              0.5555555555555556,
              "#d8576b"
             ],
             [
              0.6666666666666666,
              "#ed7953"
             ],
             [
              0.7777777777777778,
              "#fb9f3a"
             ],
             [
              0.8888888888888888,
              "#fdca26"
             ],
             [
              1,
              "#f0f921"
             ]
            ],
            "type": "heatmap"
           }
          ],
          "heatmapgl": [
           {
            "colorbar": {
             "outlinewidth": 0,
             "ticks": ""
            },
            "colorscale": [
             [
              0,
              "#0d0887"
             ],
             [
              0.1111111111111111,
              "#46039f"
             ],
             [
              0.2222222222222222,
              "#7201a8"
             ],
             [
              0.3333333333333333,
              "#9c179e"
             ],
             [
              0.4444444444444444,
              "#bd3786"
             ],
             [
              0.5555555555555556,
              "#d8576b"
             ],
             [
              0.6666666666666666,
              "#ed7953"
             ],
             [
              0.7777777777777778,
              "#fb9f3a"
             ],
             [
              0.8888888888888888,
              "#fdca26"
             ],
             [
              1,
              "#f0f921"
             ]
            ],
            "type": "heatmapgl"
           }
          ],
          "histogram": [
           {
            "marker": {
             "pattern": {
              "fillmode": "overlay",
              "size": 10,
              "solidity": 0.2
             }
            },
            "type": "histogram"
           }
          ],
          "histogram2d": [
           {
            "colorbar": {
             "outlinewidth": 0,
             "ticks": ""
            },
            "colorscale": [
             [
              0,
              "#0d0887"
             ],
             [
              0.1111111111111111,
              "#46039f"
             ],
             [
              0.2222222222222222,
              "#7201a8"
             ],
             [
              0.3333333333333333,
              "#9c179e"
             ],
             [
              0.4444444444444444,
              "#bd3786"
             ],
             [
              0.5555555555555556,
              "#d8576b"
             ],
             [
              0.6666666666666666,
              "#ed7953"
             ],
             [
              0.7777777777777778,
              "#fb9f3a"
             ],
             [
              0.8888888888888888,
              "#fdca26"
             ],
             [
              1,
              "#f0f921"
             ]
            ],
            "type": "histogram2d"
           }
          ],
          "histogram2dcontour": [
           {
            "colorbar": {
             "outlinewidth": 0,
             "ticks": ""
            },
            "colorscale": [
             [
              0,
              "#0d0887"
             ],
             [
              0.1111111111111111,
              "#46039f"
             ],
             [
              0.2222222222222222,
              "#7201a8"
             ],
             [
              0.3333333333333333,
              "#9c179e"
             ],
             [
              0.4444444444444444,
              "#bd3786"
             ],
             [
              0.5555555555555556,
              "#d8576b"
             ],
             [
              0.6666666666666666,
              "#ed7953"
             ],
             [
              0.7777777777777778,
              "#fb9f3a"
             ],
             [
              0.8888888888888888,
              "#fdca26"
             ],
             [
              1,
              "#f0f921"
             ]
            ],
            "type": "histogram2dcontour"
           }
          ],
          "mesh3d": [
           {
            "colorbar": {
             "outlinewidth": 0,
             "ticks": ""
            },
            "type": "mesh3d"
           }
          ],
          "parcoords": [
           {
            "line": {
             "colorbar": {
              "outlinewidth": 0,
              "ticks": ""
             }
            },
            "type": "parcoords"
           }
          ],
          "pie": [
           {
            "automargin": true,
            "type": "pie"
           }
          ],
          "scatter": [
           {
            "fillpattern": {
             "fillmode": "overlay",
             "size": 10,
             "solidity": 0.2
            },
            "type": "scatter"
           }
          ],
          "scatter3d": [
           {
            "line": {
             "colorbar": {
              "outlinewidth": 0,
              "ticks": ""
             }
            },
            "marker": {
             "colorbar": {
              "outlinewidth": 0,
              "ticks": ""
             }
            },
            "type": "scatter3d"
           }
          ],
          "scattercarpet": [
           {
            "marker": {
             "colorbar": {
              "outlinewidth": 0,
              "ticks": ""
             }
            },
            "type": "scattercarpet"
           }
          ],
          "scattergeo": [
           {
            "marker": {
             "colorbar": {
              "outlinewidth": 0,
              "ticks": ""
             }
            },
            "type": "scattergeo"
           }
          ],
          "scattergl": [
           {
            "marker": {
             "colorbar": {
              "outlinewidth": 0,
              "ticks": ""
             }
            },
            "type": "scattergl"
           }
          ],
          "scattermapbox": [
           {
            "marker": {
             "colorbar": {
              "outlinewidth": 0,
              "ticks": ""
             }
            },
            "type": "scattermapbox"
           }
          ],
          "scatterpolar": [
           {
            "marker": {
             "colorbar": {
              "outlinewidth": 0,
              "ticks": ""
             }
            },
            "type": "scatterpolar"
           }
          ],
          "scatterpolargl": [
           {
            "marker": {
             "colorbar": {
              "outlinewidth": 0,
              "ticks": ""
             }
            },
            "type": "scatterpolargl"
           }
          ],
          "scatterternary": [
           {
            "marker": {
             "colorbar": {
              "outlinewidth": 0,
              "ticks": ""
             }
            },
            "type": "scatterternary"
           }
          ],
          "surface": [
           {
            "colorbar": {
             "outlinewidth": 0,
             "ticks": ""
            },
            "colorscale": [
             [
              0,
              "#0d0887"
             ],
             [
              0.1111111111111111,
              "#46039f"
             ],
             [
              0.2222222222222222,
              "#7201a8"
             ],
             [
              0.3333333333333333,
              "#9c179e"
             ],
             [
              0.4444444444444444,
              "#bd3786"
             ],
             [
              0.5555555555555556,
              "#d8576b"
             ],
             [
              0.6666666666666666,
              "#ed7953"
             ],
             [
              0.7777777777777778,
              "#fb9f3a"
             ],
             [
              0.8888888888888888,
              "#fdca26"
             ],
             [
              1,
              "#f0f921"
             ]
            ],
            "type": "surface"
           }
          ],
          "table": [
           {
            "cells": {
             "fill": {
              "color": "#EBF0F8"
             },
             "line": {
              "color": "white"
             }
            },
            "header": {
             "fill": {
              "color": "#C8D4E3"
             },
             "line": {
              "color": "white"
             }
            },
            "type": "table"
           }
          ]
         },
         "layout": {
          "annotationdefaults": {
           "arrowcolor": "#2a3f5f",
           "arrowhead": 0,
           "arrowwidth": 1
          },
          "autotypenumbers": "strict",
          "coloraxis": {
           "colorbar": {
            "outlinewidth": 0,
            "ticks": ""
           }
          },
          "colorscale": {
           "diverging": [
            [
             0,
             "#8e0152"
            ],
            [
             0.1,
             "#c51b7d"
            ],
            [
             0.2,
             "#de77ae"
            ],
            [
             0.3,
             "#f1b6da"
            ],
            [
             0.4,
             "#fde0ef"
            ],
            [
             0.5,
             "#f7f7f7"
            ],
            [
             0.6,
             "#e6f5d0"
            ],
            [
             0.7,
             "#b8e186"
            ],
            [
             0.8,
             "#7fbc41"
            ],
            [
             0.9,
             "#4d9221"
            ],
            [
             1,
             "#276419"
            ]
           ],
           "sequential": [
            [
             0,
             "#0d0887"
            ],
            [
             0.1111111111111111,
             "#46039f"
            ],
            [
             0.2222222222222222,
             "#7201a8"
            ],
            [
             0.3333333333333333,
             "#9c179e"
            ],
            [
             0.4444444444444444,
             "#bd3786"
            ],
            [
             0.5555555555555556,
             "#d8576b"
            ],
            [
             0.6666666666666666,
             "#ed7953"
            ],
            [
             0.7777777777777778,
             "#fb9f3a"
            ],
            [
             0.8888888888888888,
             "#fdca26"
            ],
            [
             1,
             "#f0f921"
            ]
           ],
           "sequentialminus": [
            [
             0,
             "#0d0887"
            ],
            [
             0.1111111111111111,
             "#46039f"
            ],
            [
             0.2222222222222222,
             "#7201a8"
            ],
            [
             0.3333333333333333,
             "#9c179e"
            ],
            [
             0.4444444444444444,
             "#bd3786"
            ],
            [
             0.5555555555555556,
             "#d8576b"
            ],
            [
             0.6666666666666666,
             "#ed7953"
            ],
            [
             0.7777777777777778,
             "#fb9f3a"
            ],
            [
             0.8888888888888888,
             "#fdca26"
            ],
            [
             1,
             "#f0f921"
            ]
           ]
          },
          "colorway": [
           "#636efa",
           "#EF553B",
           "#00cc96",
           "#ab63fa",
           "#FFA15A",
           "#19d3f3",
           "#FF6692",
           "#B6E880",
           "#FF97FF",
           "#FECB52"
          ],
          "font": {
           "color": "#2a3f5f"
          },
          "geo": {
           "bgcolor": "white",
           "lakecolor": "white",
           "landcolor": "#E5ECF6",
           "showlakes": true,
           "showland": true,
           "subunitcolor": "white"
          },
          "hoverlabel": {
           "align": "left"
          },
          "hovermode": "closest",
          "mapbox": {
           "style": "light"
          },
          "paper_bgcolor": "white",
          "plot_bgcolor": "#E5ECF6",
          "polar": {
           "angularaxis": {
            "gridcolor": "white",
            "linecolor": "white",
            "ticks": ""
           },
           "bgcolor": "#E5ECF6",
           "radialaxis": {
            "gridcolor": "white",
            "linecolor": "white",
            "ticks": ""
           }
          },
          "scene": {
           "xaxis": {
            "backgroundcolor": "#E5ECF6",
            "gridcolor": "white",
            "gridwidth": 2,
            "linecolor": "white",
            "showbackground": true,
            "ticks": "",
            "zerolinecolor": "white"
           },
           "yaxis": {
            "backgroundcolor": "#E5ECF6",
            "gridcolor": "white",
            "gridwidth": 2,
            "linecolor": "white",
            "showbackground": true,
            "ticks": "",
            "zerolinecolor": "white"
           },
           "zaxis": {
            "backgroundcolor": "#E5ECF6",
            "gridcolor": "white",
            "gridwidth": 2,
            "linecolor": "white",
            "showbackground": true,
            "ticks": "",
            "zerolinecolor": "white"
           }
          },
          "shapedefaults": {
           "line": {
            "color": "#2a3f5f"
           }
          },
          "ternary": {
           "aaxis": {
            "gridcolor": "white",
            "linecolor": "white",
            "ticks": ""
           },
           "baxis": {
            "gridcolor": "white",
            "linecolor": "white",
            "ticks": ""
           },
           "bgcolor": "#E5ECF6",
           "caxis": {
            "gridcolor": "white",
            "linecolor": "white",
            "ticks": ""
           }
          },
          "title": {
           "x": 0.05
          },
          "xaxis": {
           "automargin": true,
           "gridcolor": "white",
           "linecolor": "white",
           "ticks": "",
           "title": {
            "standoff": 15
           },
           "zerolinecolor": "white",
           "zerolinewidth": 2
          },
          "yaxis": {
           "automargin": true,
           "gridcolor": "white",
           "linecolor": "white",
           "ticks": "",
           "title": {
            "standoff": 15
           },
           "zerolinecolor": "white",
           "zerolinewidth": 2
          }
         }
        },
        "title": {
         "text": "Previsão com Intervalo de Confiança"
        },
        "xaxis": {
         "anchor": "y",
         "domain": [
          0,
          1
         ],
         "title": {
          "text": "Data"
         }
        },
        "yaxis": {
         "anchor": "x",
         "domain": [
          0,
          1
         ],
         "title": {
          "text": "value"
         }
        }
       }
      }
     },
     "metadata": {},
     "output_type": "display_data"
    }
   ],
   "source": [
    "df_line = forecast.loc[forecast['ds'] >= '2024-09-18',['ds', 'yhat', 'yhat_lower', 'yhat_upper']]\n",
    "px.line(\n",
    "        data_frame=df_line,\n",
    "        x = 'ds',\n",
    "        y = ['yhat', 'yhat_lower', 'yhat_upper'],\n",
    "        title='Previsão com Intervalo de Confiança',\n",
    "        labels={'ds': 'Data', 'yhat': 'Previsão', 'yhat_lower': 'Limite Inferior', 'yhat_upper': 'Limite Superior'},\n",
    "        color_discrete_sequence=px.colors.qualitative.Pastel\n",
    "        )"
   ]
  },
  {
   "cell_type": "code",
   "execution_count": 55,
   "metadata": {},
   "outputs": [
    {
     "data": {
      "text/plain": [
       "yhat           846.180746\n",
       "yhat_lower     558.982434\n",
       "yhat_upper    1132.433317\n",
       "dtype: float64"
      ]
     },
     "execution_count": 55,
     "metadata": {},
     "output_type": "execute_result"
    }
   ],
   "source": [
    "df_line[['yhat', 'yhat_lower', 'yhat_upper']].sum()"
   ]
  },
  {
   "cell_type": "code",
   "execution_count": 58,
   "metadata": {},
   "outputs": [],
   "source": [
    "def estatistica_descritiva(df1):\n",
    "    # Medidas de tendência central - Mean, Median\n",
    "    media = pd.DataFrame(df1.apply(np.mean)).T\n",
    "    mediana = pd.DataFrame(df1.apply(np.median)).T\n",
    "    \n",
    "    # Medidas de Dispersão - Std, min, max, range, skew, kurtosis\n",
    "    desvio_padrao = pd.DataFrame(df1.apply(np.std)).T\n",
    "    minimo = pd.DataFrame(df1.apply(np.min)).T\n",
    "    maximo = pd.DataFrame(df1.apply(np.max)).T\n",
    "    range = pd.DataFrame(df1.apply(lambda x : x.max() - x.min())).T\n",
    "    assimetria = pd.DataFrame(df1.apply(lambda x : x.skew())).T\n",
    "    curtosis = pd.DataFrame(df1.apply(lambda x : x.kurtosis())).T\n",
    "    \n",
    "    estatistica = pd.concat([minimo, maximo, range, media, mediana, desvio_padrao, assimetria, curtosis]).T.reset_index()\n",
    "    estatistica.columns = ['variaveis','minimo', 'maximo', 'range', 'media', 'mediana', 'desvio_padrao', 'assimetria', 'curtosis']\n",
    "    \n",
    "    return estatistica"
   ]
  },
  {
   "cell_type": "code",
   "execution_count": 65,
   "metadata": {},
   "outputs": [
    {
     "name": "stdout",
     "output_type": "stream",
     "text": [
      "%pylab is deprecated, use %matplotlib inline and import the required libraries.\n",
      "Populating the interactive namespace from numpy and matplotlib\n"
     ]
    },
    {
     "data": {
      "text/html": [
       "<style>.container { width: 100% !important;} </style>"
      ],
      "text/plain": [
       "<IPython.core.display.HTML object>"
      ]
     },
     "metadata": {},
     "output_type": "display_data"
    }
   ],
   "source": [
    "from IPython.display        import Image\n",
    "from IPython.core.display   import HTML\n",
    "\n",
    "def jupyter_settings():\n",
    "    %matplotlib inline\n",
    "    %pylab inline\n",
    "    \n",
    "    plt.style.use( 'bmh' )\n",
    "    plt.rcParams['figure.figsize'] = [18,10]\n",
    "    plt.rcParams['font.size'] = 24\n",
    "    \n",
    "    display( HTML('<style>.container { width: 100% !important;} </style>') )\n",
    "    pd.options.display.max_columns = None\n",
    "    pd.options.display.max_rows = None\n",
    "    pd.set_option( 'display.expand_frame_repr', False)\n",
    "    \n",
    "    sns.set()\n",
    "    \n",
    "jupyter_settings()"
   ]
  },
  {
   "cell_type": "code",
   "execution_count": 66,
   "metadata": {},
   "outputs": [
    {
     "data": {
      "text/html": [
       "<div>\n",
       "<style scoped>\n",
       "    .dataframe tbody tr th:only-of-type {\n",
       "        vertical-align: middle;\n",
       "    }\n",
       "\n",
       "    .dataframe tbody tr th {\n",
       "        vertical-align: top;\n",
       "    }\n",
       "\n",
       "    .dataframe thead th {\n",
       "        text-align: right;\n",
       "    }\n",
       "</style>\n",
       "<table border=\"1\" class=\"dataframe\">\n",
       "  <thead>\n",
       "    <tr style=\"text-align: right;\">\n",
       "      <th></th>\n",
       "      <th>variaveis</th>\n",
       "      <th>minimo</th>\n",
       "      <th>maximo</th>\n",
       "      <th>range</th>\n",
       "      <th>media</th>\n",
       "      <th>mediana</th>\n",
       "      <th>desvio_padrao</th>\n",
       "      <th>assimetria</th>\n",
       "      <th>curtosis</th>\n",
       "    </tr>\n",
       "  </thead>\n",
       "  <tbody>\n",
       "    <tr>\n",
       "      <th>0</th>\n",
       "      <td>yhat</td>\n",
       "      <td>7.505550</td>\n",
       "      <td>8.609530</td>\n",
       "      <td>1.103981</td>\n",
       "      <td>8.058864</td>\n",
       "      <td>8.053223</td>\n",
       "      <td>0.289767</td>\n",
       "      <td>-0.001920</td>\n",
       "      <td>-1.036555</td>\n",
       "    </tr>\n",
       "    <tr>\n",
       "      <th>1</th>\n",
       "      <td>yhat_lower</td>\n",
       "      <td>4.766718</td>\n",
       "      <td>6.132461</td>\n",
       "      <td>1.365743</td>\n",
       "      <td>5.323642</td>\n",
       "      <td>5.352190</td>\n",
       "      <td>0.304977</td>\n",
       "      <td>-0.036902</td>\n",
       "      <td>-0.769242</td>\n",
       "    </tr>\n",
       "    <tr>\n",
       "      <th>2</th>\n",
       "      <td>yhat_upper</td>\n",
       "      <td>10.096863</td>\n",
       "      <td>11.591823</td>\n",
       "      <td>1.494960</td>\n",
       "      <td>10.785079</td>\n",
       "      <td>10.782897</td>\n",
       "      <td>0.307862</td>\n",
       "      <td>0.027100</td>\n",
       "      <td>-0.532613</td>\n",
       "    </tr>\n",
       "  </tbody>\n",
       "</table>\n",
       "</div>"
      ],
      "text/plain": [
       "    variaveis     minimo     maximo     range      media    mediana  desvio_padrao  assimetria  curtosis\n",
       "0        yhat   7.505550   8.609530  1.103981   8.058864   8.053223       0.289767   -0.001920 -1.036555\n",
       "1  yhat_lower   4.766718   6.132461  1.365743   5.323642   5.352190       0.304977   -0.036902 -0.769242\n",
       "2  yhat_upper  10.096863  11.591823  1.494960  10.785079  10.782897       0.307862    0.027100 -0.532613"
      ]
     },
     "execution_count": 66,
     "metadata": {},
     "output_type": "execute_result"
    }
   ],
   "source": [
    "df_estatistica = df_line[['yhat', 'yhat_lower', 'yhat_upper']]\n",
    "estatistica_descritiva(df_estatistica)"
   ]
  },
  {
   "cell_type": "code",
   "execution_count": 67,
   "metadata": {},
   "outputs": [
    {
     "data": {
      "image/png": "[encoded data removed]",
      "text/plain": [
       "<Figure size 1800x1000 with 4 Axes>"
      ]
     },
     "metadata": {},
     "output_type": "display_data"
    }
   ],
   "source": [
    "df_estatistica.hist();"
   ]
  },
  {
   "cell_type": "markdown",
   "metadata": {},
   "source": [
    "# Testes pagina update dados"
   ]
  },
  {
   "cell_type": "code",
   "execution_count": 1,
   "metadata": {},
   "outputs": [],
   "source": [
    "import inflection\n",
    "\n",
    "import streamlit as st\n",
    "import pandas as pd"
   ]
  },
  {
   "cell_type": "code",
   "execution_count": null,
   "metadata": {},
   "outputs": [],
   "source": [
    "def renomear_colunas(df: pd.DataFrame)-> pd.DataFrame:\n",
    "    \n",
    "    columns_old = df.columns\n",
    "    snakecase = lambda x : inflection.underscore(x)\n",
    "    columns_new = list(map(snakecase,columns_old))\n",
    "    df.columns = columns_new\n",
    "    return df"
   ]
  },
  {
   "cell_type": "code",
   "execution_count": 8,
   "metadata": {},
   "outputs": [],
   "source": [
    "def verificar_df(df: pd.DataFrame)-> pd.DataFrame:\n",
    "    \n",
    "    if isinstance(df, pd.DataFrame):\n",
    "        return df\n",
    "    else:\n",
    "        mensagem = f\"Você enviou um {type(df)}, não pode ser aceito.\\n\"\\\n",
    "                    \"Escolha um arquivo CSV e siga as orientações no menu.\"\n",
    "        return mensagem"
   ]
  },
  {
   "cell_type": "code",
   "execution_count": 10,
   "metadata": {},
   "outputs": [
    {
     "name": "stdout",
     "output_type": "stream",
     "text": [
      "Empty DataFrame\n",
      "Columns: []\n",
      "Index: []\n"
     ]
    }
   ],
   "source": [
    "qualquer = pd.DataFrame()\n",
    "print(verificar_df(qualquer))"
   ]
  }
 ],
 "metadata": {
  "kernelspec": {
   "display_name": "Python 3.11.9 ('v3119')",
   "language": "python",
   "name": "python3"
  },
  "language_info": {
   "codemirror_mode": {
    "name": "ipython",
    "version": 3
   },
   "file_extension": ".py",
   "mimetype": "text/x-python",
   "name": "python",
   "nbconvert_exporter": "python",
   "pygments_lexer": "ipython3",
   "version": "3.11.9"
  },
  "orig_nbformat": 4,
  "vscode": {
   "interpreter": {
    "hash": "d9fd945bec87ea1faae53cf0492201e0c2959d8565ad017415241cf5b171a17a"
   }
  }
 },
 "nbformat": 4,
 "nbformat_minor": 2
}
